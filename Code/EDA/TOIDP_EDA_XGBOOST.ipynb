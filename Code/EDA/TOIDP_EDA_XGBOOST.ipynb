{
 "cells": [
  {
   "cell_type": "code",
   "execution_count": 2,
   "metadata": {},
   "outputs": [],
   "source": [
    "import seaborn as sns\n",
    "import matplotlib.pyplot as plt\n",
    "import numpy as np\n",
    "import pickle"
   ]
  },
  {
   "cell_type": "code",
   "execution_count": 3,
   "metadata": {},
   "outputs": [],
   "source": [
    "import pandas as pd\n",
    "import glob\n",
    "\n",
    "path = r'D:\\MIS\\Research\\Data Analytics\\TOI_Customer\\TOI_DP\\Input_Data\\result' # use your path\n",
    "all_files = glob.glob(path + \"/*.csv\")\n",
    "\n",
    "li = []\n",
    "\n",
    "for filename in all_files:\n",
    "    df = pd.read_csv(filename, index_col=None, header=0)\n",
    "    li.append(df)\n",
    "\n",
    "frame = pd.concat(li, axis=0, ignore_index=True)"
   ]
  },
  {
   "cell_type": "code",
   "execution_count": 5,
   "metadata": {
    "scrolled": true
   },
   "outputs": [
    {
     "data": {
      "text/plain": [
       "CUSTOMER_CDE             int64\n",
       "SUB_INDUSTRY_CDE         int64\n",
       "CUS_TARGET_CDE           int64\n",
       "CUSTOMER_STATUS_CDE      int64\n",
       "GENDER_CDE              object\n",
       "PROVINCE_CDE           float64\n",
       "MARITAL_STATUS          object\n",
       "BANK_RELATION            int64\n",
       "AGE                      int64\n",
       "TOI_DP_2018            float64\n",
       "TOI_DP_2017            float64\n",
       "TOI_DP_2016            float64\n",
       "LAISUAT                float64\n",
       "KYHAN                   object\n",
       "CURRENCY_CDE            object\n",
       "dtype: object"
      ]
     },
     "execution_count": 5,
     "metadata": {},
     "output_type": "execute_result"
    }
   ],
   "source": [
    "frame.dtypes"
   ]
  },
  {
   "cell_type": "code",
   "execution_count": 6,
   "metadata": {},
   "outputs": [
    {
     "data": {
      "text/plain": [
       "(5714729, 15)"
      ]
     },
     "execution_count": 6,
     "metadata": {},
     "output_type": "execute_result"
    }
   ],
   "source": [
    "frame.shape"
   ]
  },
  {
   "cell_type": "code",
   "execution_count": 7,
   "metadata": {},
   "outputs": [
    {
     "data": {
      "text/html": [
       "<div>\n",
       "<style scoped>\n",
       "    .dataframe tbody tr th:only-of-type {\n",
       "        vertical-align: middle;\n",
       "    }\n",
       "\n",
       "    .dataframe tbody tr th {\n",
       "        vertical-align: top;\n",
       "    }\n",
       "\n",
       "    .dataframe thead th {\n",
       "        text-align: right;\n",
       "    }\n",
       "</style>\n",
       "<table border=\"1\" class=\"dataframe\">\n",
       "  <thead>\n",
       "    <tr style=\"text-align: right;\">\n",
       "      <th></th>\n",
       "      <th>CUSTOMER_CDE</th>\n",
       "      <th>SUB_INDUSTRY_CDE</th>\n",
       "      <th>CUS_TARGET_CDE</th>\n",
       "      <th>CUSTOMER_STATUS_CDE</th>\n",
       "      <th>GENDER_CDE</th>\n",
       "      <th>PROVINCE_CDE</th>\n",
       "      <th>MARITAL_STATUS</th>\n",
       "      <th>BANK_RELATION</th>\n",
       "      <th>AGE</th>\n",
       "      <th>TOI_DP_2018</th>\n",
       "      <th>TOI_DP_2017</th>\n",
       "      <th>TOI_DP_2016</th>\n",
       "      <th>LAISUAT</th>\n",
       "      <th>KYHAN</th>\n",
       "      <th>CURRENCY_CDE</th>\n",
       "    </tr>\n",
       "  </thead>\n",
       "  <tbody>\n",
       "    <tr>\n",
       "      <th>0</th>\n",
       "      <td>10000001</td>\n",
       "      <td>1571</td>\n",
       "      <td>2001</td>\n",
       "      <td>1001</td>\n",
       "      <td>MALE</td>\n",
       "      <td>5000.0</td>\n",
       "      <td>MARRIED</td>\n",
       "      <td>5</td>\n",
       "      <td>31</td>\n",
       "      <td>351595.584895</td>\n",
       "      <td>248333.333484</td>\n",
       "      <td>NaN</td>\n",
       "      <td>0.3</td>\n",
       "      <td>NonTerm</td>\n",
       "      <td>VND</td>\n",
       "    </tr>\n",
       "    <tr>\n",
       "      <th>1</th>\n",
       "      <td>10000001</td>\n",
       "      <td>1571</td>\n",
       "      <td>2001</td>\n",
       "      <td>1001</td>\n",
       "      <td>MALE</td>\n",
       "      <td>5000.0</td>\n",
       "      <td>MARRIED</td>\n",
       "      <td>5</td>\n",
       "      <td>31</td>\n",
       "      <td>351595.584895</td>\n",
       "      <td>248333.333484</td>\n",
       "      <td>NaN</td>\n",
       "      <td>6.9</td>\n",
       "      <td>12M</td>\n",
       "      <td>VND</td>\n",
       "    </tr>\n",
       "    <tr>\n",
       "      <th>2</th>\n",
       "      <td>10000002</td>\n",
       "      <td>7311</td>\n",
       "      <td>2001</td>\n",
       "      <td>1001</td>\n",
       "      <td>MALE</td>\n",
       "      <td>5000.0</td>\n",
       "      <td>SINGLE</td>\n",
       "      <td>5</td>\n",
       "      <td>21</td>\n",
       "      <td>3001.009660</td>\n",
       "      <td>490619.771046</td>\n",
       "      <td>NaN</td>\n",
       "      <td>0.3</td>\n",
       "      <td>NonTerm</td>\n",
       "      <td>VND</td>\n",
       "    </tr>\n",
       "    <tr>\n",
       "      <th>3</th>\n",
       "      <td>10000003</td>\n",
       "      <td>7311</td>\n",
       "      <td>2001</td>\n",
       "      <td>1001</td>\n",
       "      <td>MALE</td>\n",
       "      <td>3600.0</td>\n",
       "      <td>MARRIED</td>\n",
       "      <td>5</td>\n",
       "      <td>57</td>\n",
       "      <td>NaN</td>\n",
       "      <td>120293.333331</td>\n",
       "      <td>18055.555555</td>\n",
       "      <td>NaN</td>\n",
       "      <td>NaN</td>\n",
       "      <td>NaN</td>\n",
       "    </tr>\n",
       "    <tr>\n",
       "      <th>4</th>\n",
       "      <td>10000004</td>\n",
       "      <td>7311</td>\n",
       "      <td>2001</td>\n",
       "      <td>1001</td>\n",
       "      <td>FEMALE</td>\n",
       "      <td>5000.0</td>\n",
       "      <td>SINGLE</td>\n",
       "      <td>8</td>\n",
       "      <td>22</td>\n",
       "      <td>NaN</td>\n",
       "      <td>NaN</td>\n",
       "      <td>NaN</td>\n",
       "      <td>NaN</td>\n",
       "      <td>NaN</td>\n",
       "      <td>NaN</td>\n",
       "    </tr>\n",
       "  </tbody>\n",
       "</table>\n",
       "</div>"
      ],
      "text/plain": [
       "   CUSTOMER_CDE  SUB_INDUSTRY_CDE  CUS_TARGET_CDE  CUSTOMER_STATUS_CDE  \\\n",
       "0      10000001              1571            2001                 1001   \n",
       "1      10000001              1571            2001                 1001   \n",
       "2      10000002              7311            2001                 1001   \n",
       "3      10000003              7311            2001                 1001   \n",
       "4      10000004              7311            2001                 1001   \n",
       "\n",
       "  GENDER_CDE  PROVINCE_CDE MARITAL_STATUS  BANK_RELATION  AGE    TOI_DP_2018  \\\n",
       "0       MALE        5000.0        MARRIED              5   31  351595.584895   \n",
       "1       MALE        5000.0        MARRIED              5   31  351595.584895   \n",
       "2       MALE        5000.0         SINGLE              5   21    3001.009660   \n",
       "3       MALE        3600.0        MARRIED              5   57            NaN   \n",
       "4     FEMALE        5000.0         SINGLE              8   22            NaN   \n",
       "\n",
       "     TOI_DP_2017   TOI_DP_2016  LAISUAT    KYHAN CURRENCY_CDE  \n",
       "0  248333.333484           NaN      0.3  NonTerm          VND  \n",
       "1  248333.333484           NaN      6.9      12M          VND  \n",
       "2  490619.771046           NaN      0.3  NonTerm          VND  \n",
       "3  120293.333331  18055.555555      NaN      NaN          NaN  \n",
       "4            NaN           NaN      NaN      NaN          NaN  "
      ]
     },
     "execution_count": 7,
     "metadata": {},
     "output_type": "execute_result"
    }
   ],
   "source": [
    "frame.head()"
   ]
  },
  {
   "cell_type": "code",
   "execution_count": 4,
   "metadata": {},
   "outputs": [
    {
     "data": {
      "text/plain": [
       "CUSTOMER_CDE                 0\n",
       "SUB_INDUSTRY_CDE             0\n",
       "CUS_TARGET_CDE               0\n",
       "CUSTOMER_STATUS_CDE          0\n",
       "GENDER_CDE                   0\n",
       "PROVINCE_CDE             20085\n",
       "MARITAL_STATUS               0\n",
       "BANK_RELATION                0\n",
       "AGE                          0\n",
       "TOI_DP_2018            2435065\n",
       "TOI_DP_2017            2836142\n",
       "TOI_DP_2016            3500001\n",
       "LAISUAT                2435074\n",
       "KYHAN                  2435065\n",
       "CURRENCY_CDE           2435065\n",
       "dtype: int64"
      ]
     },
     "execution_count": 4,
     "metadata": {},
     "output_type": "execute_result"
    }
   ],
   "source": [
    "frame.isnull().sum()"
   ]
  },
  {
   "cell_type": "code",
   "execution_count": 7,
   "metadata": {},
   "outputs": [
    {
     "name": "stdout",
     "output_type": "stream",
     "text": [
      "<class 'pandas.core.frame.DataFrame'>\n",
      "RangeIndex: 5714729 entries, 0 to 5714728\n",
      "Data columns (total 15 columns):\n",
      "CUSTOMER_CDE           int64\n",
      "SUB_INDUSTRY_CDE       int64\n",
      "CUS_TARGET_CDE         int64\n",
      "CUSTOMER_STATUS_CDE    int64\n",
      "GENDER_CDE             object\n",
      "PROVINCE_CDE           float64\n",
      "MARITAL_STATUS         object\n",
      "BANK_RELATION          int64\n",
      "AGE                    int64\n",
      "TOI_DP_2018            float64\n",
      "TOI_DP_2017            float64\n",
      "TOI_DP_2016            float64\n",
      "LAISUAT                float64\n",
      "KYHAN                  object\n",
      "CURRENCY_CDE           object\n",
      "dtypes: float64(5), int64(6), object(4)\n",
      "memory usage: 654.0+ MB\n"
     ]
    }
   ],
   "source": [
    "frame.info()"
   ]
  },
  {
   "cell_type": "code",
   "execution_count": 8,
   "metadata": {
    "scrolled": true
   },
   "outputs": [
    {
     "data": {
      "text/html": [
       "<div>\n",
       "<style scoped>\n",
       "    .dataframe tbody tr th:only-of-type {\n",
       "        vertical-align: middle;\n",
       "    }\n",
       "\n",
       "    .dataframe tbody tr th {\n",
       "        vertical-align: top;\n",
       "    }\n",
       "\n",
       "    .dataframe thead th {\n",
       "        text-align: right;\n",
       "    }\n",
       "</style>\n",
       "<table border=\"1\" class=\"dataframe\">\n",
       "  <thead>\n",
       "    <tr style=\"text-align: right;\">\n",
       "      <th></th>\n",
       "      <th>CUSTOMER_CDE</th>\n",
       "      <th>SUB_INDUSTRY_CDE</th>\n",
       "      <th>CUS_TARGET_CDE</th>\n",
       "      <th>CUSTOMER_STATUS_CDE</th>\n",
       "      <th>PROVINCE_CDE</th>\n",
       "      <th>BANK_RELATION</th>\n",
       "      <th>AGE</th>\n",
       "      <th>TOI_DP_2018</th>\n",
       "      <th>TOI_DP_2017</th>\n",
       "      <th>TOI_DP_2016</th>\n",
       "      <th>LAISUAT</th>\n",
       "    </tr>\n",
       "  </thead>\n",
       "  <tbody>\n",
       "    <tr>\n",
       "      <th>count</th>\n",
       "      <td>5.714729e+06</td>\n",
       "      <td>5.714729e+06</td>\n",
       "      <td>5.714729e+06</td>\n",
       "      <td>5.714729e+06</td>\n",
       "      <td>5.694644e+06</td>\n",
       "      <td>5.714729e+06</td>\n",
       "      <td>5.714729e+06</td>\n",
       "      <td>3.279664e+06</td>\n",
       "      <td>2.575235e+06</td>\n",
       "      <td>1.890424e+06</td>\n",
       "      <td>3.279655e+06</td>\n",
       "    </tr>\n",
       "    <tr>\n",
       "      <th>mean</th>\n",
       "      <td>8.005662e+06</td>\n",
       "      <td>4.465514e+03</td>\n",
       "      <td>1.879517e+03</td>\n",
       "      <td>1.175845e+03</td>\n",
       "      <td>5.817467e+03</td>\n",
       "      <td>5.588313e+00</td>\n",
       "      <td>3.656370e+01</td>\n",
       "      <td>2.059285e+06</td>\n",
       "      <td>1.539648e+06</td>\n",
       "      <td>1.780025e+06</td>\n",
       "      <td>1.674292e+00</td>\n",
       "    </tr>\n",
       "    <tr>\n",
       "      <th>std</th>\n",
       "      <td>3.482138e+06</td>\n",
       "      <td>2.485195e+03</td>\n",
       "      <td>3.309288e+02</td>\n",
       "      <td>4.315132e+02</td>\n",
       "      <td>1.823726e+03</td>\n",
       "      <td>1.206202e+00</td>\n",
       "      <td>1.381305e+01</td>\n",
       "      <td>1.612736e+07</td>\n",
       "      <td>1.236769e+07</td>\n",
       "      <td>1.418260e+07</td>\n",
       "      <td>2.467813e+00</td>\n",
       "    </tr>\n",
       "    <tr>\n",
       "      <th>min</th>\n",
       "      <td>3.000000e+00</td>\n",
       "      <td>1.000000e+01</td>\n",
       "      <td>1.001000e+03</td>\n",
       "      <td>1.000000e+01</td>\n",
       "      <td>1.000000e+03</td>\n",
       "      <td>-1.000000e+00</td>\n",
       "      <td>0.000000e+00</td>\n",
       "      <td>-3.352166e+07</td>\n",
       "      <td>-5.091580e+07</td>\n",
       "      <td>-1.978461e+07</td>\n",
       "      <td>0.000000e+00</td>\n",
       "    </tr>\n",
       "    <tr>\n",
       "      <th>25%</th>\n",
       "      <td>5.677730e+06</td>\n",
       "      <td>3.012000e+03</td>\n",
       "      <td>2.001000e+03</td>\n",
       "      <td>1.001000e+03</td>\n",
       "      <td>5.000000e+03</td>\n",
       "      <td>5.000000e+00</td>\n",
       "      <td>2.700000e+01</td>\n",
       "      <td>3.246093e+03</td>\n",
       "      <td>3.106786e+03</td>\n",
       "      <td>3.500383e+03</td>\n",
       "      <td>3.000000e-01</td>\n",
       "    </tr>\n",
       "    <tr>\n",
       "      <th>50%</th>\n",
       "      <td>8.636364e+06</td>\n",
       "      <td>4.243000e+03</td>\n",
       "      <td>2.001000e+03</td>\n",
       "      <td>1.001000e+03</td>\n",
       "      <td>5.800000e+03</td>\n",
       "      <td>5.000000e+00</td>\n",
       "      <td>3.400000e+01</td>\n",
       "      <td>4.167539e+04</td>\n",
       "      <td>3.569994e+04</td>\n",
       "      <td>3.983998e+04</td>\n",
       "      <td>3.000000e-01</td>\n",
       "    </tr>\n",
       "    <tr>\n",
       "      <th>75%</th>\n",
       "      <td>1.094900e+07</td>\n",
       "      <td>7.311000e+03</td>\n",
       "      <td>2.001000e+03</td>\n",
       "      <td>1.005000e+03</td>\n",
       "      <td>7.200000e+03</td>\n",
       "      <td>5.000000e+00</td>\n",
       "      <td>4.500000e+01</td>\n",
       "      <td>7.160463e+05</td>\n",
       "      <td>5.122241e+05</td>\n",
       "      <td>5.133652e+05</td>\n",
       "      <td>3.000000e-01</td>\n",
       "    </tr>\n",
       "    <tr>\n",
       "      <th>max</th>\n",
       "      <td>3.106413e+08</td>\n",
       "      <td>9.001000e+03</td>\n",
       "      <td>9.999000e+03</td>\n",
       "      <td>9.999000e+03</td>\n",
       "      <td>9.900000e+03</td>\n",
       "      <td>1.000000e+01</td>\n",
       "      <td>1.019000e+03</td>\n",
       "      <td>5.972468e+09</td>\n",
       "      <td>3.808193e+09</td>\n",
       "      <td>4.817094e+09</td>\n",
       "      <td>5.050000e+02</td>\n",
       "    </tr>\n",
       "  </tbody>\n",
       "</table>\n",
       "</div>"
      ],
      "text/plain": [
       "       CUSTOMER_CDE  SUB_INDUSTRY_CDE  CUS_TARGET_CDE  CUSTOMER_STATUS_CDE  \\\n",
       "count  5.714729e+06      5.714729e+06    5.714729e+06         5.714729e+06   \n",
       "mean   8.005662e+06      4.465514e+03    1.879517e+03         1.175845e+03   \n",
       "std    3.482138e+06      2.485195e+03    3.309288e+02         4.315132e+02   \n",
       "min    3.000000e+00      1.000000e+01    1.001000e+03         1.000000e+01   \n",
       "25%    5.677730e+06      3.012000e+03    2.001000e+03         1.001000e+03   \n",
       "50%    8.636364e+06      4.243000e+03    2.001000e+03         1.001000e+03   \n",
       "75%    1.094900e+07      7.311000e+03    2.001000e+03         1.005000e+03   \n",
       "max    3.106413e+08      9.001000e+03    9.999000e+03         9.999000e+03   \n",
       "\n",
       "       PROVINCE_CDE  BANK_RELATION           AGE   TOI_DP_2018   TOI_DP_2017  \\\n",
       "count  5.694644e+06   5.714729e+06  5.714729e+06  3.279664e+06  2.575235e+06   \n",
       "mean   5.817467e+03   5.588313e+00  3.656370e+01  2.059285e+06  1.539648e+06   \n",
       "std    1.823726e+03   1.206202e+00  1.381305e+01  1.612736e+07  1.236769e+07   \n",
       "min    1.000000e+03  -1.000000e+00  0.000000e+00 -3.352166e+07 -5.091580e+07   \n",
       "25%    5.000000e+03   5.000000e+00  2.700000e+01  3.246093e+03  3.106786e+03   \n",
       "50%    5.800000e+03   5.000000e+00  3.400000e+01  4.167539e+04  3.569994e+04   \n",
       "75%    7.200000e+03   5.000000e+00  4.500000e+01  7.160463e+05  5.122241e+05   \n",
       "max    9.900000e+03   1.000000e+01  1.019000e+03  5.972468e+09  3.808193e+09   \n",
       "\n",
       "        TOI_DP_2016       LAISUAT  \n",
       "count  1.890424e+06  3.279655e+06  \n",
       "mean   1.780025e+06  1.674292e+00  \n",
       "std    1.418260e+07  2.467813e+00  \n",
       "min   -1.978461e+07  0.000000e+00  \n",
       "25%    3.500383e+03  3.000000e-01  \n",
       "50%    3.983998e+04  3.000000e-01  \n",
       "75%    5.133652e+05  3.000000e-01  \n",
       "max    4.817094e+09  5.050000e+02  "
      ]
     },
     "execution_count": 8,
     "metadata": {},
     "output_type": "execute_result"
    }
   ],
   "source": [
    "frame.describe()"
   ]
  },
  {
   "cell_type": "code",
   "execution_count": 45,
   "metadata": {
    "scrolled": true
   },
   "outputs": [
    {
     "data": {
      "text/plain": [
       "CUSTOMER_CDE           12211\n",
       "SUB_INDUSTRY_CDE       12211\n",
       "CUS_TARGET_CDE         12211\n",
       "CUSTOMER_STATUS_CDE    12211\n",
       "GENDER_CDE             12211\n",
       "PROVINCE_CDE           12211\n",
       "MARITAL_STATUS         12211\n",
       "BANK_RELATION          12211\n",
       "AGE                    12211\n",
       "TOI_DP_2018            12211\n",
       "TOI_DP_2017             5298\n",
       "TOI_DP_2016             1937\n",
       "LAISUAT                12211\n",
       "KYHAN                  12211\n",
       "CURRENCY_CDE           12211\n",
       "dtype: int64"
      ]
     },
     "execution_count": 45,
     "metadata": {},
     "output_type": "execute_result"
    }
   ],
   "source": [
    "frame[frame.TOI_DP_2018<0].count()"
   ]
  },
  {
   "cell_type": "code",
   "execution_count": 11,
   "metadata": {
    "scrolled": false
   },
   "outputs": [
    {
     "data": {
      "text/html": [
       "<div>\n",
       "<style scoped>\n",
       "    .dataframe tbody tr th:only-of-type {\n",
       "        vertical-align: middle;\n",
       "    }\n",
       "\n",
       "    .dataframe tbody tr th {\n",
       "        vertical-align: top;\n",
       "    }\n",
       "\n",
       "    .dataframe thead th {\n",
       "        text-align: right;\n",
       "    }\n",
       "</style>\n",
       "<table border=\"1\" class=\"dataframe\">\n",
       "  <thead>\n",
       "    <tr style=\"text-align: right;\">\n",
       "      <th></th>\n",
       "      <th>CUSTOMER_CDE</th>\n",
       "      <th>SUB_INDUSTRY_CDE</th>\n",
       "      <th>CUS_TARGET_CDE</th>\n",
       "      <th>CUSTOMER_STATUS_CDE</th>\n",
       "      <th>GENDER_CDE</th>\n",
       "      <th>PROVINCE_CDE</th>\n",
       "      <th>MARITAL_STATUS</th>\n",
       "      <th>BANK_RELATION</th>\n",
       "      <th>AGE</th>\n",
       "      <th>TOI_DP_2018</th>\n",
       "      <th>TOI_DP_2017</th>\n",
       "      <th>TOI_DP_2016</th>\n",
       "      <th>LAISUAT</th>\n",
       "      <th>KYHAN</th>\n",
       "      <th>CURRENCY_CDE</th>\n",
       "    </tr>\n",
       "  </thead>\n",
       "  <tbody>\n",
       "    <tr>\n",
       "      <th>3966</th>\n",
       "      <td>10006519</td>\n",
       "      <td>424</td>\n",
       "      <td>1001</td>\n",
       "      <td>2001</td>\n",
       "      <td>MALE</td>\n",
       "      <td>5000.0</td>\n",
       "      <td>SINGLE</td>\n",
       "      <td>5</td>\n",
       "      <td>31</td>\n",
       "      <td>-4.329299e+04</td>\n",
       "      <td>-5.880278e+04</td>\n",
       "      <td>-9.563750e+03</td>\n",
       "      <td>0.3</td>\n",
       "      <td>NonTerm</td>\n",
       "      <td>VND</td>\n",
       "    </tr>\n",
       "    <tr>\n",
       "      <th>3967</th>\n",
       "      <td>10006519</td>\n",
       "      <td>424</td>\n",
       "      <td>1001</td>\n",
       "      <td>2001</td>\n",
       "      <td>MALE</td>\n",
       "      <td>5000.0</td>\n",
       "      <td>SINGLE</td>\n",
       "      <td>5</td>\n",
       "      <td>31</td>\n",
       "      <td>-4.329299e+04</td>\n",
       "      <td>-5.880278e+04</td>\n",
       "      <td>-9.563750e+03</td>\n",
       "      <td>6.9</td>\n",
       "      <td>12M</td>\n",
       "      <td>VND</td>\n",
       "    </tr>\n",
       "    <tr>\n",
       "      <th>2298715</th>\n",
       "      <td>2151251</td>\n",
       "      <td>424</td>\n",
       "      <td>2001</td>\n",
       "      <td>1001</td>\n",
       "      <td>FEMALE</td>\n",
       "      <td>4100.0</td>\n",
       "      <td>MARRIED</td>\n",
       "      <td>5</td>\n",
       "      <td>56</td>\n",
       "      <td>-2.169210e+06</td>\n",
       "      <td>-1.588957e+06</td>\n",
       "      <td>-7.727950e+05</td>\n",
       "      <td>0.3</td>\n",
       "      <td>NonTerm</td>\n",
       "      <td>VND</td>\n",
       "    </tr>\n",
       "    <tr>\n",
       "      <th>2298716</th>\n",
       "      <td>2151251</td>\n",
       "      <td>424</td>\n",
       "      <td>2001</td>\n",
       "      <td>1001</td>\n",
       "      <td>FEMALE</td>\n",
       "      <td>4100.0</td>\n",
       "      <td>MARRIED</td>\n",
       "      <td>5</td>\n",
       "      <td>56</td>\n",
       "      <td>-2.169210e+06</td>\n",
       "      <td>-1.588957e+06</td>\n",
       "      <td>-7.727950e+05</td>\n",
       "      <td>6.9</td>\n",
       "      <td>12M</td>\n",
       "      <td>VND</td>\n",
       "    </tr>\n",
       "    <tr>\n",
       "      <th>2830243</th>\n",
       "      <td>4078783</td>\n",
       "      <td>7311</td>\n",
       "      <td>2001</td>\n",
       "      <td>51</td>\n",
       "      <td>MALE</td>\n",
       "      <td>4100.0</td>\n",
       "      <td>MARRIED</td>\n",
       "      <td>5</td>\n",
       "      <td>50</td>\n",
       "      <td>-4.686393e+06</td>\n",
       "      <td>-3.699065e+06</td>\n",
       "      <td>-3.469330e+06</td>\n",
       "      <td>6.9</td>\n",
       "      <td>12M</td>\n",
       "      <td>VND</td>\n",
       "    </tr>\n",
       "  </tbody>\n",
       "</table>\n",
       "</div>"
      ],
      "text/plain": [
       "         CUSTOMER_CDE  SUB_INDUSTRY_CDE  CUS_TARGET_CDE  CUSTOMER_STATUS_CDE  \\\n",
       "3966         10006519               424            1001                 2001   \n",
       "3967         10006519               424            1001                 2001   \n",
       "2298715       2151251               424            2001                 1001   \n",
       "2298716       2151251               424            2001                 1001   \n",
       "2830243       4078783              7311            2001                   51   \n",
       "\n",
       "        GENDER_CDE  PROVINCE_CDE MARITAL_STATUS  BANK_RELATION  AGE  \\\n",
       "3966          MALE        5000.0         SINGLE              5   31   \n",
       "3967          MALE        5000.0         SINGLE              5   31   \n",
       "2298715     FEMALE        4100.0        MARRIED              5   56   \n",
       "2298716     FEMALE        4100.0        MARRIED              5   56   \n",
       "2830243       MALE        4100.0        MARRIED              5   50   \n",
       "\n",
       "          TOI_DP_2018   TOI_DP_2017   TOI_DP_2016  LAISUAT    KYHAN  \\\n",
       "3966    -4.329299e+04 -5.880278e+04 -9.563750e+03      0.3  NonTerm   \n",
       "3967    -4.329299e+04 -5.880278e+04 -9.563750e+03      6.9      12M   \n",
       "2298715 -2.169210e+06 -1.588957e+06 -7.727950e+05      0.3  NonTerm   \n",
       "2298716 -2.169210e+06 -1.588957e+06 -7.727950e+05      6.9      12M   \n",
       "2830243 -4.686393e+06 -3.699065e+06 -3.469330e+06      6.9      12M   \n",
       "\n",
       "        CURRENCY_CDE  \n",
       "3966             VND  \n",
       "3967             VND  \n",
       "2298715          VND  \n",
       "2298716          VND  \n",
       "2830243          VND  "
      ]
     },
     "execution_count": 11,
     "metadata": {},
     "output_type": "execute_result"
    }
   ],
   "source": [
    "frame[(frame.TOI_DP_2018<0) & (frame.TOI_DP_2017<0) & (frame.TOI_DP_2016<0)].head()"
   ]
  },
  {
   "cell_type": "code",
   "execution_count": 5,
   "metadata": {},
   "outputs": [],
   "source": [
    "df = frame"
   ]
  },
  {
   "cell_type": "code",
   "execution_count": 13,
   "metadata": {},
   "outputs": [
    {
     "data": {
      "text/plain": [
       "dict_keys(['100M', '105M', '108M', '10M', '110M', '111M', '114M', '117M', '118M', '11M', '120M', '12M', '13M', '14M', '15M', '16M', '18M', '19M', '1M', '1W', '20M', '22M', '23M', '24M', '25M', '26M', '27M', '28M', '2M', '2W', '30M', '32M', '33M', '34M', '35M', '36M', '3M', '3W', '42M', '43M', '44M', '46M', '47M', '48M', '49M', '4M', '51M', '58M', '59M', '5M', '60M', '62M', '6M', '70M', '72M', '7M', '82M', '84M', '85M', '86M', '8M', '90M', '96M', '98M', '99M', '9M', '>10Y', 'NonTerm'])"
      ]
     },
     "execution_count": 13,
     "metadata": {},
     "output_type": "execute_result"
    }
   ],
   "source": [
    "g = df.groupby('KYHAN')\n",
    "g.groups.keys()"
   ]
  },
  {
   "cell_type": "code",
   "execution_count": 6,
   "metadata": {},
   "outputs": [],
   "source": [
    "df['TOIDP_CLASS'] = 0"
   ]
  },
  {
   "cell_type": "code",
   "execution_count": 7,
   "metadata": {},
   "outputs": [],
   "source": [
    "df.loc[df.TOI_DP_2018.isnull()==False,'TOIDP_CLASS'] = 1"
   ]
  },
  {
   "cell_type": "code",
   "execution_count": 8,
   "metadata": {},
   "outputs": [
    {
     "data": {
      "text/plain": [
       "dict_keys([0, 1])"
      ]
     },
     "execution_count": 8,
     "metadata": {},
     "output_type": "execute_result"
    }
   ],
   "source": [
    "g = df.groupby('TOIDP_CLASS')\n",
    "g.groups.keys()"
   ]
  },
  {
   "cell_type": "code",
   "execution_count": 9,
   "metadata": {
    "scrolled": true
   },
   "outputs": [
    {
     "data": {
      "text/html": [
       "<div>\n",
       "<style scoped>\n",
       "    .dataframe tbody tr th:only-of-type {\n",
       "        vertical-align: middle;\n",
       "    }\n",
       "\n",
       "    .dataframe tbody tr th {\n",
       "        vertical-align: top;\n",
       "    }\n",
       "\n",
       "    .dataframe thead th {\n",
       "        text-align: right;\n",
       "    }\n",
       "</style>\n",
       "<table border=\"1\" class=\"dataframe\">\n",
       "  <thead>\n",
       "    <tr style=\"text-align: right;\">\n",
       "      <th></th>\n",
       "      <th>TOIDP_CLASS</th>\n",
       "      <th>count</th>\n",
       "    </tr>\n",
       "  </thead>\n",
       "  <tbody>\n",
       "    <tr>\n",
       "      <th>1</th>\n",
       "      <td>1</td>\n",
       "      <td>3279664</td>\n",
       "    </tr>\n",
       "    <tr>\n",
       "      <th>0</th>\n",
       "      <td>0</td>\n",
       "      <td>2435065</td>\n",
       "    </tr>\n",
       "  </tbody>\n",
       "</table>\n",
       "</div>"
      ],
      "text/plain": [
       "   TOIDP_CLASS    count\n",
       "1            1  3279664\n",
       "0            0  2435065"
      ]
     },
     "execution_count": 9,
     "metadata": {},
     "output_type": "execute_result"
    }
   ],
   "source": [
    "df.groupby('TOIDP_CLASS')['TOIDP_CLASS'].count().reset_index(name='count').sort_values(['count'],ascending=False).head()"
   ]
  },
  {
   "cell_type": "code",
   "execution_count": 10,
   "metadata": {
    "scrolled": true
   },
   "outputs": [
    {
     "data": {
      "text/plain": [
       "CUSTOMER_CDE                 0\n",
       "SUB_INDUSTRY_CDE             0\n",
       "CUS_TARGET_CDE               0\n",
       "CUSTOMER_STATUS_CDE          0\n",
       "GENDER_CDE                   0\n",
       "PROVINCE_CDE             20085\n",
       "MARITAL_STATUS               0\n",
       "BANK_RELATION                0\n",
       "AGE                          0\n",
       "TOI_DP_2018            2435065\n",
       "TOI_DP_2017            2836142\n",
       "TOI_DP_2016            3500001\n",
       "LAISUAT                2435074\n",
       "KYHAN                  2435065\n",
       "CURRENCY_CDE           2435065\n",
       "TOIDP_CLASS                  0\n",
       "dtype: int64"
      ]
     },
     "execution_count": 10,
     "metadata": {},
     "output_type": "execute_result"
    }
   ],
   "source": [
    "df.isnull().sum()"
   ]
  },
  {
   "cell_type": "code",
   "execution_count": 14,
   "metadata": {
    "scrolled": true
   },
   "outputs": [
    {
     "data": {
      "text/html": [
       "<div>\n",
       "<style scoped>\n",
       "    .dataframe tbody tr th:only-of-type {\n",
       "        vertical-align: middle;\n",
       "    }\n",
       "\n",
       "    .dataframe tbody tr th {\n",
       "        vertical-align: top;\n",
       "    }\n",
       "\n",
       "    .dataframe thead th {\n",
       "        text-align: right;\n",
       "    }\n",
       "</style>\n",
       "<table border=\"1\" class=\"dataframe\">\n",
       "  <thead>\n",
       "    <tr style=\"text-align: right;\">\n",
       "      <th></th>\n",
       "      <th>PROVINCE_CDE</th>\n",
       "      <th>count</th>\n",
       "    </tr>\n",
       "  </thead>\n",
       "  <tbody>\n",
       "    <tr>\n",
       "      <th>43</th>\n",
       "      <td>5000.0</td>\n",
       "      <td>1291101</td>\n",
       "    </tr>\n",
       "    <tr>\n",
       "      <th>78</th>\n",
       "      <td>6800.0</td>\n",
       "      <td>230816</td>\n",
       "    </tr>\n",
       "    <tr>\n",
       "      <th>81</th>\n",
       "      <td>7200.0</td>\n",
       "      <td>196716</td>\n",
       "    </tr>\n",
       "    <tr>\n",
       "      <th>0</th>\n",
       "      <td>1000.0</td>\n",
       "      <td>182367</td>\n",
       "    </tr>\n",
       "    <tr>\n",
       "      <th>87</th>\n",
       "      <td>8000.0</td>\n",
       "      <td>170480</td>\n",
       "    </tr>\n",
       "  </tbody>\n",
       "</table>\n",
       "</div>"
      ],
      "text/plain": [
       "    PROVINCE_CDE    count\n",
       "43        5000.0  1291101\n",
       "78        6800.0   230816\n",
       "81        7200.0   196716\n",
       "0         1000.0   182367\n",
       "87        8000.0   170480"
      ]
     },
     "execution_count": 14,
     "metadata": {},
     "output_type": "execute_result"
    }
   ],
   "source": [
    "df.groupby('PROVINCE_CDE')['PROVINCE_CDE'].count().reset_index(name='count').sort_values(['count'],ascending=False).head()"
   ]
  },
  {
   "cell_type": "code",
   "execution_count": 11,
   "metadata": {},
   "outputs": [],
   "source": [
    "# df[\"PROVINCE_CDE\"].fillna(5000.0, inplace = True)\n",
    "df[\"PROVINCE_CDE\"].fillna(method='ffill', inplace = True)"
   ]
  },
  {
   "cell_type": "code",
   "execution_count": 12,
   "metadata": {},
   "outputs": [],
   "source": [
    "df['HISTORY_TOIDP'] = 0"
   ]
  },
  {
   "cell_type": "code",
   "execution_count": 13,
   "metadata": {},
   "outputs": [],
   "source": [
    "df.loc[(df.TOI_DP_2016.isnull()==False) & (df.TOI_DP_2017.isnull()==False),'HISTORY_TOIDP'] = 2\n",
    "df.loc[(df.TOI_DP_2016.isnull()==True) & (df.TOI_DP_2017.isnull()==False),'HISTORY_TOIDP'] = 1\n",
    "df.loc[(df.TOI_DP_2016.isnull()==False) & (df.TOI_DP_2017.isnull()==True),'HISTORY_TOIDP'] = 1"
   ]
  },
  {
   "cell_type": "code",
   "execution_count": 14,
   "metadata": {},
   "outputs": [
    {
     "data": {
      "text/plain": [
       "dict_keys([0, 1, 2])"
      ]
     },
     "execution_count": 14,
     "metadata": {},
     "output_type": "execute_result"
    }
   ],
   "source": [
    "g = df.groupby('HISTORY_TOIDP')\n",
    "g.groups.keys()"
   ]
  },
  {
   "cell_type": "code",
   "execution_count": 15,
   "metadata": {},
   "outputs": [
    {
     "data": {
      "text/plain": [
       "CUSTOMER_CDE           2078075\n",
       "SUB_INDUSTRY_CDE       2078075\n",
       "CUS_TARGET_CDE         2078075\n",
       "CUSTOMER_STATUS_CDE    2078075\n",
       "GENDER_CDE             2078075\n",
       "PROVINCE_CDE           2078075\n",
       "MARITAL_STATUS         2078075\n",
       "BANK_RELATION          2078075\n",
       "AGE                    2078075\n",
       "TOI_DP_2018            1873930\n",
       "TOI_DP_2017            2078075\n",
       "TOI_DP_2016            2078075\n",
       "LAISUAT                1873928\n",
       "KYHAN                  1873930\n",
       "CURRENCY_CDE           1873930\n",
       "TOIDP_CLASS            2078075\n",
       "HISTORY_TOIDP          2078075\n",
       "dtype: int64"
      ]
     },
     "execution_count": 15,
     "metadata": {},
     "output_type": "execute_result"
    }
   ],
   "source": [
    "df[df.HISTORY_TOIDP==2].count()"
   ]
  },
  {
   "cell_type": "code",
   "execution_count": 16,
   "metadata": {},
   "outputs": [],
   "source": [
    "#data_class = df[['SUB_INDUSTRY_CDE','CUS_TARGET_CDE','CUSTOMER_STATUS_CDE','GENDER_CDE','PROVINCE_CDE','MARITAL_STATUS','BANK_RELATION','AGE','HISTORY_TOIDP','TOIDP_CLASS']]\n",
    "data_class = df[['SUB_INDUSTRY_CDE','CUS_TARGET_CDE','GENDER_CDE','PROVINCE_CDE','MARITAL_STATUS','BANK_RELATION','AGE','HISTORY_TOIDP','TOIDP_CLASS']]"
   ]
  },
  {
   "cell_type": "code",
   "execution_count": 17,
   "metadata": {
    "scrolled": true
   },
   "outputs": [
    {
     "data": {
      "text/plain": [
       "SUB_INDUSTRY_CDE    0\n",
       "CUS_TARGET_CDE      0\n",
       "GENDER_CDE          0\n",
       "PROVINCE_CDE        0\n",
       "MARITAL_STATUS      0\n",
       "BANK_RELATION       0\n",
       "AGE                 0\n",
       "HISTORY_TOIDP       0\n",
       "TOIDP_CLASS         0\n",
       "dtype: int64"
      ]
     },
     "execution_count": 17,
     "metadata": {},
     "output_type": "execute_result"
    }
   ],
   "source": [
    "data_class.isnull().sum()"
   ]
  },
  {
   "cell_type": "code",
   "execution_count": 18,
   "metadata": {
    "scrolled": true
   },
   "outputs": [
    {
     "name": "stdout",
     "output_type": "stream",
     "text": [
      "<class 'pandas.core.frame.DataFrame'>\n",
      "RangeIndex: 5714729 entries, 0 to 5714728\n",
      "Data columns (total 9 columns):\n",
      "SUB_INDUSTRY_CDE    int64\n",
      "CUS_TARGET_CDE      int64\n",
      "GENDER_CDE          object\n",
      "PROVINCE_CDE        float64\n",
      "MARITAL_STATUS      object\n",
      "BANK_RELATION       int64\n",
      "AGE                 int64\n",
      "HISTORY_TOIDP       int64\n",
      "TOIDP_CLASS         int64\n",
      "dtypes: float64(1), int64(6), object(2)\n",
      "memory usage: 392.4+ MB\n"
     ]
    }
   ],
   "source": [
    "data_class.info()"
   ]
  },
  {
   "cell_type": "code",
   "execution_count": 19,
   "metadata": {
    "scrolled": true
   },
   "outputs": [
    {
     "data": {
      "text/html": [
       "<div>\n",
       "<style scoped>\n",
       "    .dataframe tbody tr th:only-of-type {\n",
       "        vertical-align: middle;\n",
       "    }\n",
       "\n",
       "    .dataframe tbody tr th {\n",
       "        vertical-align: top;\n",
       "    }\n",
       "\n",
       "    .dataframe thead th {\n",
       "        text-align: right;\n",
       "    }\n",
       "</style>\n",
       "<table border=\"1\" class=\"dataframe\">\n",
       "  <thead>\n",
       "    <tr style=\"text-align: right;\">\n",
       "      <th></th>\n",
       "      <th>SUB_INDUSTRY_CDE</th>\n",
       "      <th>CUS_TARGET_CDE</th>\n",
       "      <th>GENDER_CDE</th>\n",
       "      <th>PROVINCE_CDE</th>\n",
       "      <th>MARITAL_STATUS</th>\n",
       "      <th>BANK_RELATION</th>\n",
       "      <th>AGE</th>\n",
       "      <th>HISTORY_TOIDP</th>\n",
       "      <th>TOIDP_CLASS</th>\n",
       "    </tr>\n",
       "  </thead>\n",
       "  <tbody>\n",
       "    <tr>\n",
       "      <th>0</th>\n",
       "      <td>1571</td>\n",
       "      <td>2001</td>\n",
       "      <td>MALE</td>\n",
       "      <td>5000.0</td>\n",
       "      <td>MARRIED</td>\n",
       "      <td>5</td>\n",
       "      <td>31</td>\n",
       "      <td>1</td>\n",
       "      <td>1</td>\n",
       "    </tr>\n",
       "    <tr>\n",
       "      <th>1</th>\n",
       "      <td>1571</td>\n",
       "      <td>2001</td>\n",
       "      <td>MALE</td>\n",
       "      <td>5000.0</td>\n",
       "      <td>MARRIED</td>\n",
       "      <td>5</td>\n",
       "      <td>31</td>\n",
       "      <td>1</td>\n",
       "      <td>1</td>\n",
       "    </tr>\n",
       "    <tr>\n",
       "      <th>2</th>\n",
       "      <td>7311</td>\n",
       "      <td>2001</td>\n",
       "      <td>MALE</td>\n",
       "      <td>5000.0</td>\n",
       "      <td>SINGLE</td>\n",
       "      <td>5</td>\n",
       "      <td>21</td>\n",
       "      <td>1</td>\n",
       "      <td>1</td>\n",
       "    </tr>\n",
       "    <tr>\n",
       "      <th>3</th>\n",
       "      <td>7311</td>\n",
       "      <td>2001</td>\n",
       "      <td>MALE</td>\n",
       "      <td>3600.0</td>\n",
       "      <td>MARRIED</td>\n",
       "      <td>5</td>\n",
       "      <td>57</td>\n",
       "      <td>2</td>\n",
       "      <td>0</td>\n",
       "    </tr>\n",
       "    <tr>\n",
       "      <th>4</th>\n",
       "      <td>7311</td>\n",
       "      <td>2001</td>\n",
       "      <td>FEMALE</td>\n",
       "      <td>5000.0</td>\n",
       "      <td>SINGLE</td>\n",
       "      <td>8</td>\n",
       "      <td>22</td>\n",
       "      <td>0</td>\n",
       "      <td>0</td>\n",
       "    </tr>\n",
       "  </tbody>\n",
       "</table>\n",
       "</div>"
      ],
      "text/plain": [
       "   SUB_INDUSTRY_CDE  CUS_TARGET_CDE GENDER_CDE  PROVINCE_CDE MARITAL_STATUS  \\\n",
       "0              1571            2001       MALE        5000.0        MARRIED   \n",
       "1              1571            2001       MALE        5000.0        MARRIED   \n",
       "2              7311            2001       MALE        5000.0         SINGLE   \n",
       "3              7311            2001       MALE        3600.0        MARRIED   \n",
       "4              7311            2001     FEMALE        5000.0         SINGLE   \n",
       "\n",
       "   BANK_RELATION  AGE  HISTORY_TOIDP  TOIDP_CLASS  \n",
       "0              5   31              1            1  \n",
       "1              5   31              1            1  \n",
       "2              5   21              1            1  \n",
       "3              5   57              2            0  \n",
       "4              8   22              0            0  "
      ]
     },
     "execution_count": 19,
     "metadata": {},
     "output_type": "execute_result"
    }
   ],
   "source": [
    "data_class.head()"
   ]
  },
  {
   "cell_type": "code",
   "execution_count": 31,
   "metadata": {
    "scrolled": true
   },
   "outputs": [
    {
     "data": {
      "image/png": "[encoded data removed]",
      "text/plain": [
       "<Figure size 432x288 with 1 Axes>"
      ]
     },
     "metadata": {
      "needs_background": "light"
     },
     "output_type": "display_data"
    }
   ],
   "source": [
    "# fig, axs = plt.subplots(1, figsize = (10,20))\n",
    "fig, axs = plt.subplots(1, 1)\n",
    "plt1 = sns.boxplot(data_class['AGE'], ax = axs)\n",
    "plt.tight_layout()"
   ]
  },
  {
   "cell_type": "code",
   "execution_count": 34,
   "metadata": {
    "scrolled": true
   },
   "outputs": [
    {
     "data": {
      "text/html": [
       "<div>\n",
       "<style scoped>\n",
       "    .dataframe tbody tr th:only-of-type {\n",
       "        vertical-align: middle;\n",
       "    }\n",
       "\n",
       "    .dataframe tbody tr th {\n",
       "        vertical-align: top;\n",
       "    }\n",
       "\n",
       "    .dataframe thead th {\n",
       "        text-align: right;\n",
       "    }\n",
       "</style>\n",
       "<table border=\"1\" class=\"dataframe\">\n",
       "  <thead>\n",
       "    <tr style=\"text-align: right;\">\n",
       "      <th></th>\n",
       "      <th>AGE</th>\n",
       "      <th>count</th>\n",
       "    </tr>\n",
       "  </thead>\n",
       "  <tbody>\n",
       "    <tr>\n",
       "      <th>0</th>\n",
       "      <td>0</td>\n",
       "      <td>593</td>\n",
       "    </tr>\n",
       "    <tr>\n",
       "      <th>1</th>\n",
       "      <td>1</td>\n",
       "      <td>1877</td>\n",
       "    </tr>\n",
       "    <tr>\n",
       "      <th>2</th>\n",
       "      <td>2</td>\n",
       "      <td>3135</td>\n",
       "    </tr>\n",
       "    <tr>\n",
       "      <th>3</th>\n",
       "      <td>3</td>\n",
       "      <td>5349</td>\n",
       "    </tr>\n",
       "    <tr>\n",
       "      <th>4</th>\n",
       "      <td>4</td>\n",
       "      <td>7739</td>\n",
       "    </tr>\n",
       "    <tr>\n",
       "      <th>5</th>\n",
       "      <td>5</td>\n",
       "      <td>8597</td>\n",
       "    </tr>\n",
       "    <tr>\n",
       "      <th>6</th>\n",
       "      <td>6</td>\n",
       "      <td>9918</td>\n",
       "    </tr>\n",
       "    <tr>\n",
       "      <th>7</th>\n",
       "      <td>7</td>\n",
       "      <td>9401</td>\n",
       "    </tr>\n",
       "    <tr>\n",
       "      <th>8</th>\n",
       "      <td>8</td>\n",
       "      <td>7832</td>\n",
       "    </tr>\n",
       "    <tr>\n",
       "      <th>9</th>\n",
       "      <td>9</td>\n",
       "      <td>8359</td>\n",
       "    </tr>\n",
       "    <tr>\n",
       "      <th>10</th>\n",
       "      <td>10</td>\n",
       "      <td>8597</td>\n",
       "    </tr>\n",
       "    <tr>\n",
       "      <th>11</th>\n",
       "      <td>11</td>\n",
       "      <td>8210</td>\n",
       "    </tr>\n",
       "    <tr>\n",
       "      <th>12</th>\n",
       "      <td>12</td>\n",
       "      <td>6808</td>\n",
       "    </tr>\n",
       "    <tr>\n",
       "      <th>13</th>\n",
       "      <td>13</td>\n",
       "      <td>6350</td>\n",
       "    </tr>\n",
       "    <tr>\n",
       "      <th>14</th>\n",
       "      <td>14</td>\n",
       "      <td>5500</td>\n",
       "    </tr>\n",
       "    <tr>\n",
       "      <th>15</th>\n",
       "      <td>15</td>\n",
       "      <td>6809</td>\n",
       "    </tr>\n",
       "    <tr>\n",
       "      <th>16</th>\n",
       "      <td>16</td>\n",
       "      <td>9710</td>\n",
       "    </tr>\n",
       "    <tr>\n",
       "      <th>17</th>\n",
       "      <td>17</td>\n",
       "      <td>17064</td>\n",
       "    </tr>\n",
       "    <tr>\n",
       "      <th>18</th>\n",
       "      <td>18</td>\n",
       "      <td>49652</td>\n",
       "    </tr>\n",
       "    <tr>\n",
       "      <th>19</th>\n",
       "      <td>19</td>\n",
       "      <td>86268</td>\n",
       "    </tr>\n",
       "    <tr>\n",
       "      <th>20</th>\n",
       "      <td>20</td>\n",
       "      <td>95268</td>\n",
       "    </tr>\n",
       "    <tr>\n",
       "      <th>21</th>\n",
       "      <td>21</td>\n",
       "      <td>136360</td>\n",
       "    </tr>\n",
       "    <tr>\n",
       "      <th>22</th>\n",
       "      <td>22</td>\n",
       "      <td>159632</td>\n",
       "    </tr>\n",
       "    <tr>\n",
       "      <th>23</th>\n",
       "      <td>23</td>\n",
       "      <td>163358</td>\n",
       "    </tr>\n",
       "    <tr>\n",
       "      <th>24</th>\n",
       "      <td>24</td>\n",
       "      <td>167507</td>\n",
       "    </tr>\n",
       "    <tr>\n",
       "      <th>25</th>\n",
       "      <td>25</td>\n",
       "      <td>183415</td>\n",
       "    </tr>\n",
       "    <tr>\n",
       "      <th>26</th>\n",
       "      <td>26</td>\n",
       "      <td>194231</td>\n",
       "    </tr>\n",
       "    <tr>\n",
       "      <th>27</th>\n",
       "      <td>27</td>\n",
       "      <td>191661</td>\n",
       "    </tr>\n",
       "    <tr>\n",
       "      <th>28</th>\n",
       "      <td>28</td>\n",
       "      <td>198377</td>\n",
       "    </tr>\n",
       "    <tr>\n",
       "      <th>29</th>\n",
       "      <td>29</td>\n",
       "      <td>205336</td>\n",
       "    </tr>\n",
       "    <tr>\n",
       "      <th>...</th>\n",
       "      <td>...</td>\n",
       "      <td>...</td>\n",
       "    </tr>\n",
       "    <tr>\n",
       "      <th>254</th>\n",
       "      <td>827</td>\n",
       "      <td>9</td>\n",
       "    </tr>\n",
       "    <tr>\n",
       "      <th>255</th>\n",
       "      <td>828</td>\n",
       "      <td>14</td>\n",
       "    </tr>\n",
       "    <tr>\n",
       "      <th>256</th>\n",
       "      <td>829</td>\n",
       "      <td>6</td>\n",
       "    </tr>\n",
       "    <tr>\n",
       "      <th>257</th>\n",
       "      <td>900</td>\n",
       "      <td>2</td>\n",
       "    </tr>\n",
       "    <tr>\n",
       "      <th>258</th>\n",
       "      <td>919</td>\n",
       "      <td>1</td>\n",
       "    </tr>\n",
       "    <tr>\n",
       "      <th>259</th>\n",
       "      <td>924</td>\n",
       "      <td>1</td>\n",
       "    </tr>\n",
       "    <tr>\n",
       "      <th>260</th>\n",
       "      <td>930</td>\n",
       "      <td>4</td>\n",
       "    </tr>\n",
       "    <tr>\n",
       "      <th>261</th>\n",
       "      <td>931</td>\n",
       "      <td>7</td>\n",
       "    </tr>\n",
       "    <tr>\n",
       "      <th>262</th>\n",
       "      <td>932</td>\n",
       "      <td>3</td>\n",
       "    </tr>\n",
       "    <tr>\n",
       "      <th>263</th>\n",
       "      <td>933</td>\n",
       "      <td>1</td>\n",
       "    </tr>\n",
       "    <tr>\n",
       "      <th>264</th>\n",
       "      <td>934</td>\n",
       "      <td>5</td>\n",
       "    </tr>\n",
       "    <tr>\n",
       "      <th>265</th>\n",
       "      <td>937</td>\n",
       "      <td>1</td>\n",
       "    </tr>\n",
       "    <tr>\n",
       "      <th>266</th>\n",
       "      <td>938</td>\n",
       "      <td>2</td>\n",
       "    </tr>\n",
       "    <tr>\n",
       "      <th>267</th>\n",
       "      <td>940</td>\n",
       "      <td>1</td>\n",
       "    </tr>\n",
       "    <tr>\n",
       "      <th>268</th>\n",
       "      <td>943</td>\n",
       "      <td>1</td>\n",
       "    </tr>\n",
       "    <tr>\n",
       "      <th>269</th>\n",
       "      <td>944</td>\n",
       "      <td>3</td>\n",
       "    </tr>\n",
       "    <tr>\n",
       "      <th>270</th>\n",
       "      <td>947</td>\n",
       "      <td>2</td>\n",
       "    </tr>\n",
       "    <tr>\n",
       "      <th>271</th>\n",
       "      <td>949</td>\n",
       "      <td>1</td>\n",
       "    </tr>\n",
       "    <tr>\n",
       "      <th>272</th>\n",
       "      <td>950</td>\n",
       "      <td>1</td>\n",
       "    </tr>\n",
       "    <tr>\n",
       "      <th>273</th>\n",
       "      <td>953</td>\n",
       "      <td>2</td>\n",
       "    </tr>\n",
       "    <tr>\n",
       "      <th>274</th>\n",
       "      <td>954</td>\n",
       "      <td>1</td>\n",
       "    </tr>\n",
       "    <tr>\n",
       "      <th>275</th>\n",
       "      <td>958</td>\n",
       "      <td>1</td>\n",
       "    </tr>\n",
       "    <tr>\n",
       "      <th>276</th>\n",
       "      <td>960</td>\n",
       "      <td>1</td>\n",
       "    </tr>\n",
       "    <tr>\n",
       "      <th>277</th>\n",
       "      <td>965</td>\n",
       "      <td>2</td>\n",
       "    </tr>\n",
       "    <tr>\n",
       "      <th>278</th>\n",
       "      <td>969</td>\n",
       "      <td>1</td>\n",
       "    </tr>\n",
       "    <tr>\n",
       "      <th>279</th>\n",
       "      <td>1004</td>\n",
       "      <td>1</td>\n",
       "    </tr>\n",
       "    <tr>\n",
       "      <th>280</th>\n",
       "      <td>1007</td>\n",
       "      <td>1</td>\n",
       "    </tr>\n",
       "    <tr>\n",
       "      <th>281</th>\n",
       "      <td>1008</td>\n",
       "      <td>1</td>\n",
       "    </tr>\n",
       "    <tr>\n",
       "      <th>282</th>\n",
       "      <td>1010</td>\n",
       "      <td>3</td>\n",
       "    </tr>\n",
       "    <tr>\n",
       "      <th>283</th>\n",
       "      <td>1019</td>\n",
       "      <td>1</td>\n",
       "    </tr>\n",
       "  </tbody>\n",
       "</table>\n",
       "<p>284 rows × 2 columns</p>\n",
       "</div>"
      ],
      "text/plain": [
       "      AGE   count\n",
       "0       0     593\n",
       "1       1    1877\n",
       "2       2    3135\n",
       "3       3    5349\n",
       "4       4    7739\n",
       "5       5    8597\n",
       "6       6    9918\n",
       "7       7    9401\n",
       "8       8    7832\n",
       "9       9    8359\n",
       "10     10    8597\n",
       "11     11    8210\n",
       "12     12    6808\n",
       "13     13    6350\n",
       "14     14    5500\n",
       "15     15    6809\n",
       "16     16    9710\n",
       "17     17   17064\n",
       "18     18   49652\n",
       "19     19   86268\n",
       "20     20   95268\n",
       "21     21  136360\n",
       "22     22  159632\n",
       "23     23  163358\n",
       "24     24  167507\n",
       "25     25  183415\n",
       "26     26  194231\n",
       "27     27  191661\n",
       "28     28  198377\n",
       "29     29  205336\n",
       "..    ...     ...\n",
       "254   827       9\n",
       "255   828      14\n",
       "256   829       6\n",
       "257   900       2\n",
       "258   919       1\n",
       "259   924       1\n",
       "260   930       4\n",
       "261   931       7\n",
       "262   932       3\n",
       "263   933       1\n",
       "264   934       5\n",
       "265   937       1\n",
       "266   938       2\n",
       "267   940       1\n",
       "268   943       1\n",
       "269   944       3\n",
       "270   947       2\n",
       "271   949       1\n",
       "272   950       1\n",
       "273   953       2\n",
       "274   954       1\n",
       "275   958       1\n",
       "276   960       1\n",
       "277   965       2\n",
       "278   969       1\n",
       "279  1004       1\n",
       "280  1007       1\n",
       "281  1008       1\n",
       "282  1010       3\n",
       "283  1019       1\n",
       "\n",
       "[284 rows x 2 columns]"
      ]
     },
     "execution_count": 34,
     "metadata": {},
     "output_type": "execute_result"
    }
   ],
   "source": [
    "data_class.groupby('AGE')['AGE'].count().reset_index(name='count').sort_values(['AGE'],ascending=True)"
   ]
  },
  {
   "cell_type": "code",
   "execution_count": 76,
   "metadata": {
    "scrolled": true
   },
   "outputs": [
    {
     "data": {
      "text/plain": [
       "SUB_INDUSTRY_CDE       363036\n",
       "CUS_TARGET_CDE         363036\n",
       "CUSTOMER_STATUS_CDE    363036\n",
       "GENDER_CDE             363036\n",
       "PROVINCE_CDE           363036\n",
       "MARITAL_STATUS         363036\n",
       "BANK_RELATION          363036\n",
       "AGE                    363036\n",
       "TOIDP_CLASS            363036\n",
       "dtype: int64"
      ]
     },
     "execution_count": 76,
     "metadata": {},
     "output_type": "execute_result"
    }
   ],
   "source": [
    "data_class[(data_class.AGE<=20) & (data_class.AGE>=0)].count()"
   ]
  },
  {
   "cell_type": "code",
   "execution_count": 24,
   "metadata": {},
   "outputs": [
    {
     "data": {
      "image/png": "[encoded data removed]",
      "text/plain": [
       "<Figure size 720x288 with 2 Axes>"
      ]
     },
     "metadata": {
      "needs_background": "light"
     },
     "output_type": "display_data"
    }
   ],
   "source": [
    "\n",
    "# Outlier Analysis\n",
    "fig, axs = plt.subplots(2, figsize = (10,4))\n",
    "plt1 = sns.boxplot(data_class['AGE'], ax = axs[0])\n",
    "plt.tight_layout()"
   ]
  },
  {
   "cell_type": "code",
   "execution_count": 20,
   "metadata": {
    "scrolled": false
   },
   "outputs": [
    {
     "name": "stderr",
     "output_type": "stream",
     "text": [
      "C:\\WPy-3710\\python-3.7.1.amd64\\lib\\site-packages\\ipykernel_launcher.py:2: SettingWithCopyWarning: \n",
      "A value is trying to be set on a copy of a slice from a DataFrame.\n",
      "Try using .loc[row_indexer,col_indexer] = value instead\n",
      "\n",
      "See the caveats in the documentation: http://pandas.pydata.org/pandas-docs/stable/indexing.html#indexing-view-versus-copy\n",
      "  \n"
     ]
    }
   ],
   "source": [
    "median = data_class.loc[data_class['AGE']<=100,'AGE'].median()\n",
    "data_class['AGE'] = np.where(data_class['AGE'] > 100,median,data_class['AGE'])"
   ]
  },
  {
   "cell_type": "code",
   "execution_count": 21,
   "metadata": {
    "scrolled": true
   },
   "outputs": [
    {
     "data": {
      "text/html": [
       "<div>\n",
       "<style scoped>\n",
       "    .dataframe tbody tr th:only-of-type {\n",
       "        vertical-align: middle;\n",
       "    }\n",
       "\n",
       "    .dataframe tbody tr th {\n",
       "        vertical-align: top;\n",
       "    }\n",
       "\n",
       "    .dataframe thead th {\n",
       "        text-align: right;\n",
       "    }\n",
       "</style>\n",
       "<table border=\"1\" class=\"dataframe\">\n",
       "  <thead>\n",
       "    <tr style=\"text-align: right;\">\n",
       "      <th></th>\n",
       "      <th>SUB_INDUSTRY_CDE</th>\n",
       "      <th>CUS_TARGET_CDE</th>\n",
       "      <th>GENDER_CDE</th>\n",
       "      <th>PROVINCE_CDE</th>\n",
       "      <th>BANK_RELATION</th>\n",
       "      <th>AGE</th>\n",
       "      <th>HISTORY_TOIDP</th>\n",
       "      <th>TOIDP_CLASS</th>\n",
       "    </tr>\n",
       "    <tr>\n",
       "      <th>MARITAL_STATUS</th>\n",
       "      <th></th>\n",
       "      <th></th>\n",
       "      <th></th>\n",
       "      <th></th>\n",
       "      <th></th>\n",
       "      <th></th>\n",
       "      <th></th>\n",
       "      <th></th>\n",
       "    </tr>\n",
       "  </thead>\n",
       "  <tbody>\n",
       "    <tr>\n",
       "      <th>DIVORCED</th>\n",
       "      <td>2127</td>\n",
       "      <td>2127</td>\n",
       "      <td>2127</td>\n",
       "      <td>2127</td>\n",
       "      <td>2127</td>\n",
       "      <td>2127</td>\n",
       "      <td>2127</td>\n",
       "      <td>2127</td>\n",
       "    </tr>\n",
       "    <tr>\n",
       "      <th>IM1421703562</th>\n",
       "      <td>1</td>\n",
       "      <td>1</td>\n",
       "      <td>1</td>\n",
       "      <td>1</td>\n",
       "      <td>1</td>\n",
       "      <td>1</td>\n",
       "      <td>1</td>\n",
       "      <td>1</td>\n",
       "    </tr>\n",
       "    <tr>\n",
       "      <th>MARRIED</th>\n",
       "      <td>3903157</td>\n",
       "      <td>3903157</td>\n",
       "      <td>3903157</td>\n",
       "      <td>3903157</td>\n",
       "      <td>3903157</td>\n",
       "      <td>3903157</td>\n",
       "      <td>3903157</td>\n",
       "      <td>3903157</td>\n",
       "    </tr>\n",
       "    <tr>\n",
       "      <th>OTHER</th>\n",
       "      <td>18958</td>\n",
       "      <td>18958</td>\n",
       "      <td>18958</td>\n",
       "      <td>18958</td>\n",
       "      <td>18958</td>\n",
       "      <td>18958</td>\n",
       "      <td>18958</td>\n",
       "      <td>18958</td>\n",
       "    </tr>\n",
       "    <tr>\n",
       "      <th>PARTNER</th>\n",
       "      <td>760</td>\n",
       "      <td>760</td>\n",
       "      <td>760</td>\n",
       "      <td>760</td>\n",
       "      <td>760</td>\n",
       "      <td>760</td>\n",
       "      <td>760</td>\n",
       "      <td>760</td>\n",
       "    </tr>\n",
       "    <tr>\n",
       "      <th>SINGLE</th>\n",
       "      <td>1789683</td>\n",
       "      <td>1789683</td>\n",
       "      <td>1789683</td>\n",
       "      <td>1789683</td>\n",
       "      <td>1789683</td>\n",
       "      <td>1789683</td>\n",
       "      <td>1789683</td>\n",
       "      <td>1789683</td>\n",
       "    </tr>\n",
       "    <tr>\n",
       "      <th>WIDOWED</th>\n",
       "      <td>43</td>\n",
       "      <td>43</td>\n",
       "      <td>43</td>\n",
       "      <td>43</td>\n",
       "      <td>43</td>\n",
       "      <td>43</td>\n",
       "      <td>43</td>\n",
       "      <td>43</td>\n",
       "    </tr>\n",
       "  </tbody>\n",
       "</table>\n",
       "</div>"
      ],
      "text/plain": [
       "                SUB_INDUSTRY_CDE  CUS_TARGET_CDE  GENDER_CDE  PROVINCE_CDE  \\\n",
       "MARITAL_STATUS                                                               \n",
       "DIVORCED                    2127            2127        2127          2127   \n",
       "IM1421703562                   1               1           1             1   \n",
       "MARRIED                  3903157         3903157     3903157       3903157   \n",
       "OTHER                      18958           18958       18958         18958   \n",
       "PARTNER                      760             760         760           760   \n",
       "SINGLE                   1789683         1789683     1789683       1789683   \n",
       "WIDOWED                       43              43          43            43   \n",
       "\n",
       "                BANK_RELATION      AGE  HISTORY_TOIDP  TOIDP_CLASS  \n",
       "MARITAL_STATUS                                                      \n",
       "DIVORCED                 2127     2127           2127         2127  \n",
       "IM1421703562                1        1              1            1  \n",
       "MARRIED               3903157  3903157        3903157      3903157  \n",
       "OTHER                   18958    18958          18958        18958  \n",
       "PARTNER                   760      760            760          760  \n",
       "SINGLE                1789683  1789683        1789683      1789683  \n",
       "WIDOWED                    43       43             43           43  "
      ]
     },
     "execution_count": 21,
     "metadata": {},
     "output_type": "execute_result"
    }
   ],
   "source": [
    "data_class.groupby('MARITAL_STATUS').count()"
   ]
  },
  {
   "cell_type": "code",
   "execution_count": 22,
   "metadata": {
    "scrolled": false
   },
   "outputs": [
    {
     "name": "stderr",
     "output_type": "stream",
     "text": [
      "C:\\WPy-3710\\python-3.7.1.amd64\\lib\\site-packages\\pandas\\core\\indexing.py:543: SettingWithCopyWarning: \n",
      "A value is trying to be set on a copy of a slice from a DataFrame.\n",
      "Try using .loc[row_indexer,col_indexer] = value instead\n",
      "\n",
      "See the caveats in the documentation: http://pandas.pydata.org/pandas-docs/stable/indexing.html#indexing-view-versus-copy\n",
      "  self.obj[item] = s\n"
     ]
    }
   ],
   "source": [
    "data_class.loc[(data_class.MARITAL_STATUS=='IM1421703562'),'MARITAL_STATUS']='OTHER'"
   ]
  },
  {
   "cell_type": "code",
   "execution_count": 23,
   "metadata": {},
   "outputs": [],
   "source": [
    "from sklearn import preprocessing \n",
    "le = preprocessing.LabelEncoder()"
   ]
  },
  {
   "cell_type": "code",
   "execution_count": 24,
   "metadata": {
    "scrolled": true
   },
   "outputs": [
    {
     "name": "stderr",
     "output_type": "stream",
     "text": [
      "C:\\WPy-3710\\python-3.7.1.amd64\\lib\\site-packages\\ipykernel_launcher.py:1: SettingWithCopyWarning: \n",
      "A value is trying to be set on a copy of a slice from a DataFrame.\n",
      "Try using .loc[row_indexer,col_indexer] = value instead\n",
      "\n",
      "See the caveats in the documentation: http://pandas.pydata.org/pandas-docs/stable/indexing.html#indexing-view-versus-copy\n",
      "  \"\"\"Entry point for launching an IPython kernel.\n"
     ]
    }
   ],
   "source": [
    "data_class['GENDER_CDE'] = le.fit_transform(data_class['GENDER_CDE'])"
   ]
  },
  {
   "cell_type": "code",
   "execution_count": 25,
   "metadata": {
    "scrolled": true
   },
   "outputs": [
    {
     "name": "stderr",
     "output_type": "stream",
     "text": [
      "C:\\WPy-3710\\python-3.7.1.amd64\\lib\\site-packages\\ipykernel_launcher.py:1: SettingWithCopyWarning: \n",
      "A value is trying to be set on a copy of a slice from a DataFrame.\n",
      "Try using .loc[row_indexer,col_indexer] = value instead\n",
      "\n",
      "See the caveats in the documentation: http://pandas.pydata.org/pandas-docs/stable/indexing.html#indexing-view-versus-copy\n",
      "  \"\"\"Entry point for launching an IPython kernel.\n"
     ]
    }
   ],
   "source": [
    "data_class['MARITAL_STATUS'] = le.fit_transform(data_class['MARITAL_STATUS'])"
   ]
  },
  {
   "cell_type": "code",
   "execution_count": 26,
   "metadata": {
    "scrolled": true
   },
   "outputs": [
    {
     "data": {
      "text/html": [
       "<div>\n",
       "<style scoped>\n",
       "    .dataframe tbody tr th:only-of-type {\n",
       "        vertical-align: middle;\n",
       "    }\n",
       "\n",
       "    .dataframe tbody tr th {\n",
       "        vertical-align: top;\n",
       "    }\n",
       "\n",
       "    .dataframe thead th {\n",
       "        text-align: right;\n",
       "    }\n",
       "</style>\n",
       "<table border=\"1\" class=\"dataframe\">\n",
       "  <thead>\n",
       "    <tr style=\"text-align: right;\">\n",
       "      <th></th>\n",
       "      <th>SUB_INDUSTRY_CDE</th>\n",
       "      <th>CUS_TARGET_CDE</th>\n",
       "      <th>GENDER_CDE</th>\n",
       "      <th>PROVINCE_CDE</th>\n",
       "      <th>BANK_RELATION</th>\n",
       "      <th>AGE</th>\n",
       "      <th>HISTORY_TOIDP</th>\n",
       "      <th>TOIDP_CLASS</th>\n",
       "    </tr>\n",
       "    <tr>\n",
       "      <th>MARITAL_STATUS</th>\n",
       "      <th></th>\n",
       "      <th></th>\n",
       "      <th></th>\n",
       "      <th></th>\n",
       "      <th></th>\n",
       "      <th></th>\n",
       "      <th></th>\n",
       "      <th></th>\n",
       "    </tr>\n",
       "  </thead>\n",
       "  <tbody>\n",
       "    <tr>\n",
       "      <th>0</th>\n",
       "      <td>9361759</td>\n",
       "      <td>3511241</td>\n",
       "      <td>760</td>\n",
       "      <td>1.120000e+07</td>\n",
       "      <td>10470</td>\n",
       "      <td>85487.0</td>\n",
       "      <td>2347</td>\n",
       "      <td>1085</td>\n",
       "    </tr>\n",
       "    <tr>\n",
       "      <th>1</th>\n",
       "      <td>17122738298</td>\n",
       "      <td>7337811733</td>\n",
       "      <td>1856929</td>\n",
       "      <td>2.261430e+10</td>\n",
       "      <td>21874517</td>\n",
       "      <td>162272582.0</td>\n",
       "      <td>3520995</td>\n",
       "      <td>2214499</td>\n",
       "    </tr>\n",
       "    <tr>\n",
       "      <th>2</th>\n",
       "      <td>80125481</td>\n",
       "      <td>36052244</td>\n",
       "      <td>9314</td>\n",
       "      <td>1.128192e+08</td>\n",
       "      <td>93826</td>\n",
       "      <td>621727.0</td>\n",
       "      <td>18799</td>\n",
       "      <td>7865</td>\n",
       "    </tr>\n",
       "    <tr>\n",
       "      <th>3</th>\n",
       "      <td>2328812</td>\n",
       "      <td>1469889</td>\n",
       "      <td>357</td>\n",
       "      <td>4.643200e+06</td>\n",
       "      <td>3765</td>\n",
       "      <td>28801.0</td>\n",
       "      <td>688</td>\n",
       "      <td>278</td>\n",
       "    </tr>\n",
       "    <tr>\n",
       "      <th>4</th>\n",
       "      <td>8304405968</td>\n",
       "      <td>3362001864</td>\n",
       "      <td>929558</td>\n",
       "      <td>1.048127e+10</td>\n",
       "      <td>9952903</td>\n",
       "      <td>45720155.0</td>\n",
       "      <td>1550460</td>\n",
       "      <td>1055927</td>\n",
       "    </tr>\n",
       "    <tr>\n",
       "      <th>5</th>\n",
       "      <td>244887</td>\n",
       "      <td>82134</td>\n",
       "      <td>6</td>\n",
       "      <td>2.662000e+05</td>\n",
       "      <td>215</td>\n",
       "      <td>2280.0</td>\n",
       "      <td>26</td>\n",
       "      <td>10</td>\n",
       "    </tr>\n",
       "  </tbody>\n",
       "</table>\n",
       "</div>"
      ],
      "text/plain": [
       "                SUB_INDUSTRY_CDE  CUS_TARGET_CDE  GENDER_CDE  PROVINCE_CDE  \\\n",
       "MARITAL_STATUS                                                               \n",
       "0                        9361759         3511241         760  1.120000e+07   \n",
       "1                    17122738298      7337811733     1856929  2.261430e+10   \n",
       "2                       80125481        36052244        9314  1.128192e+08   \n",
       "3                        2328812         1469889         357  4.643200e+06   \n",
       "4                     8304405968      3362001864      929558  1.048127e+10   \n",
       "5                         244887           82134           6  2.662000e+05   \n",
       "\n",
       "                BANK_RELATION          AGE  HISTORY_TOIDP  TOIDP_CLASS  \n",
       "MARITAL_STATUS                                                          \n",
       "0                       10470      85487.0           2347         1085  \n",
       "1                    21874517  162272582.0        3520995      2214499  \n",
       "2                       93826     621727.0          18799         7865  \n",
       "3                        3765      28801.0            688          278  \n",
       "4                     9952903   45720155.0        1550460      1055927  \n",
       "5                         215       2280.0             26           10  "
      ]
     },
     "execution_count": 26,
     "metadata": {},
     "output_type": "execute_result"
    }
   ],
   "source": [
    "data_class.groupby('MARITAL_STATUS').sum()"
   ]
  },
  {
   "cell_type": "code",
   "execution_count": 27,
   "metadata": {},
   "outputs": [],
   "source": [
    "#Randomforest method\n",
    "X = data_class.drop('TOIDP_CLASS', axis=1)  \n",
    "y = data_class['TOIDP_CLASS'] "
   ]
  },
  {
   "cell_type": "code",
   "execution_count": 28,
   "metadata": {},
   "outputs": [
    {
     "name": "stdout",
     "output_type": "stream",
     "text": [
      "(4571783, 8) 4571783\n",
      "(1142946, 8) (1142946,)\n"
     ]
    }
   ],
   "source": [
    "from sklearn.model_selection import train_test_split  \n",
    "X_train, X_test, y_train, y_test = train_test_split(X, y, test_size=0.20)\n",
    "print(X_train.shape, y_train.size)\n",
    "print(X_test.shape, y_test.shape)"
   ]
  },
  {
   "cell_type": "markdown",
   "metadata": {},
   "source": [
    "## Cách 1: Xây dựng mô hình phân lớp  Random Forest"
   ]
  },
  {
   "cell_type": "code",
   "execution_count": 29,
   "metadata": {},
   "outputs": [],
   "source": [
    "import xgboost as xgb\n",
    "from xgboost import XGBClassifier\n",
    "clf = XGBClassifier(learning_rate=0.1, n_estimators=140, max_depth=5,\n",
    "                        min_child_weight=3, gamma=0.2, subsample=0.6, colsample_bytree=1.0,\n",
    "                        objective='binary:logistic', nthread=4, scale_pos_weight=1, seed=27)"
   ]
  },
  {
   "cell_type": "code",
   "execution_count": 30,
   "metadata": {},
   "outputs": [
    {
     "name": "stdout",
     "output_type": "stream",
     "text": [
      "Start Training\n",
      "[14:11:00] WARNING: D:\\Build\\xgboost\\xgboost-0.90.git\\src\\learner.cc:686: Tree method is automatically selected to be 'approx' for faster speed. To use old behavior (exact greedy algorithm on single machine), set tree_method to 'exact'.\n"
     ]
    },
    {
     "data": {
      "text/plain": [
       "XGBClassifier(base_score=0.5, booster='gbtree', colsample_bylevel=1,\n",
       "       colsample_bynode=1, colsample_bytree=1.0, gamma=0.2,\n",
       "       learning_rate=0.1, max_delta_step=0, max_depth=5,\n",
       "       min_child_weight=3, missing=None, n_estimators=140, n_jobs=1,\n",
       "       nthread=4, objective='binary:logistic', random_state=0, reg_alpha=0,\n",
       "       reg_lambda=1, scale_pos_weight=1, seed=27, silent=None,\n",
       "       subsample=0.6, verbosity=1)"
      ]
     },
     "execution_count": 30,
     "metadata": {},
     "output_type": "execute_result"
    }
   ],
   "source": [
    "print('Start Training')\n",
    "clf.fit(X_train, y_train, eval_metric='auc')"
   ]
  },
  {
   "cell_type": "code",
   "execution_count": 31,
   "metadata": {},
   "outputs": [
    {
     "data": {
      "text/plain": [
       "array([0, 0, 1, ..., 0, 1, 0], dtype=int64)"
      ]
     },
     "execution_count": 31,
     "metadata": {},
     "output_type": "execute_result"
    }
   ],
   "source": [
    "y_pred = clf.predict(X_test)\n",
    "y_pred"
   ]
  },
  {
   "cell_type": "code",
   "execution_count": 32,
   "metadata": {
    "scrolled": true
   },
   "outputs": [
    {
     "data": {
      "text/plain": [
       "(1142946,)"
      ]
     },
     "execution_count": 32,
     "metadata": {},
     "output_type": "execute_result"
    }
   ],
   "source": [
    "y_test.values.shape"
   ]
  },
  {
   "cell_type": "code",
   "execution_count": 34,
   "metadata": {},
   "outputs": [
    {
     "data": {
      "text/plain": [
       "0.8306945384996317"
      ]
     },
     "execution_count": 34,
     "metadata": {},
     "output_type": "execute_result"
    }
   ],
   "source": [
    "from sklearn.metrics import accuracy_score\n",
    "accuracy_score(y_test.values, y_pred)"
   ]
  },
  {
   "cell_type": "code",
   "execution_count": 35,
   "metadata": {},
   "outputs": [
    {
     "name": "stdout",
     "output_type": "stream",
     "text": [
      "Random Forest classifier accuracy score for training set is 0.8306945384996317\n"
     ]
    }
   ],
   "source": [
    "# accuracy của model on testing set\n",
    "accuracy_score = clf.score(X_test, y_test)\n",
    "print(f\"Random Forest classifier accuracy score for training set is {accuracy_score}\")"
   ]
  },
  {
   "cell_type": "code",
   "execution_count": 36,
   "metadata": {
    "scrolled": false
   },
   "outputs": [
    {
     "name": "stdout",
     "output_type": "stream",
     "text": [
      "[[369785 116931]\n",
      " [ 76576 579654]]\n",
      "              precision    recall  f1-score   support\n",
      "\n",
      "           0       0.83      0.76      0.79    486716\n",
      "           1       0.83      0.88      0.86    656230\n",
      "\n",
      "   micro avg       0.83      0.83      0.83   1142946\n",
      "   macro avg       0.83      0.82      0.82   1142946\n",
      "weighted avg       0.83      0.83      0.83   1142946\n",
      "\n"
     ]
    }
   ],
   "source": [
    "from sklearn.metrics import classification_report, confusion_matrix  \n",
    "print(confusion_matrix(y_test, y_pred))  \n",
    "print(classification_report(y_test, y_pred))  "
   ]
  },
  {
   "cell_type": "code",
   "execution_count": 35,
   "metadata": {
    "scrolled": true
   },
   "outputs": [
    {
     "data": {
      "text/plain": [
       "BANK_RELATION          0.617250\n",
       "HISTORY_TOIDP          0.334671\n",
       "SUB_INDUSTRY_CDE       0.011570\n",
       "AGE                    0.009469\n",
       "MARITAL_STATUS         0.009433\n",
       "CUS_TARGET_CDE         0.005728\n",
       "CUSTOMER_STATUS_CDE    0.005659\n",
       "PROVINCE_CDE           0.004731\n",
       "GENDER_CDE             0.001490\n",
       "dtype: float32"
      ]
     },
     "execution_count": 35,
     "metadata": {},
     "output_type": "execute_result"
    }
   ],
   "source": [
    "#Tạo Series object để thấy feature nào quan trọng\n",
    "feature_imp = pd.Series(clf.feature_importances_,index=X_train.columns).sort_values(ascending=False)\n",
    "feature_imp"
   ]
  },
  {
   "cell_type": "code",
   "execution_count": 36,
   "metadata": {
    "scrolled": true
   },
   "outputs": [
    {
     "name": "stderr",
     "output_type": "stream",
     "text": [
      "No handles with labels found to put in legend.\n"
     ]
    },
    {
     "data": {
      "image/png": "[encoded data removed]",
      "text/plain": [
       "<Figure size 432x288 with 1 Axes>"
      ]
     },
     "metadata": {
      "needs_background": "light"
     },
     "output_type": "display_data"
    }
   ],
   "source": [
    "# Creating a bar plot\n",
    "sns.barplot(x=feature_imp, y=feature_imp.index)\n",
    "# Add labels to your graph\n",
    "plt.xlabel('Feature Importance Score')\n",
    "plt.ylabel('Features')\n",
    "plt.title(\"Visualizing Important Features\")\n",
    "plt.legend()\n",
    "plt.show()"
   ]
  },
  {
   "cell_type": "code",
   "execution_count": null,
   "metadata": {},
   "outputs": [],
   "source": [
    "filename='Xgboost_model_toidp.sav' \n",
    "\n",
    "pickle.dump(clf, open(filename, 'wb')) \n",
    "\n",
    "load_xgboost_model =pickle.load(open(filename, 'rb')) \n",
    "\n",
    "load_xgboost_model.coef_ \n",
    "\n",
    "#y_load_predit=load_xgboost_model.predict(X_test) "
   ]
  },
  {
   "cell_type": "code",
   "execution_count": 14,
   "metadata": {
    "scrolled": true
   },
   "outputs": [
    {
     "data": {
      "text/plain": [
       "CUSTOMER_CDE           6370\n",
       "SUB_INDUSTRY_CDE       6370\n",
       "CUS_TARGET_CDE         6370\n",
       "CUSTOMER_STATUS_CDE    6370\n",
       "GENDER_CDE             6370\n",
       "PROVINCE_CDE           6370\n",
       "MARITAL_STATUS         6370\n",
       "BANK_RELATION          6370\n",
       "AGE                    6370\n",
       "TOI_DP_2018            6370\n",
       "TOI_DP_2017            6225\n",
       "TOI_DP_2016            5870\n",
       "LAISUAT                6370\n",
       "KYHAN                  6370\n",
       "CURRENCY_CDE           6370\n",
       "dtype: int64"
      ]
     },
     "execution_count": 14,
     "metadata": {},
     "output_type": "execute_result"
    }
   ],
   "source": [
    "# df[df.TOI_DP_2018>100000000].count()"
   ]
  },
  {
   "cell_type": "code",
   "execution_count": 64,
   "metadata": {},
   "outputs": [],
   "source": [
    "# df['TOIDP_RANGE'] = pd.cut(df.TOI_DP_2018,bins=[-35000000,10000000,50000000,100000000,np.inf],labels=False, right=True)"
   ]
  },
  {
   "cell_type": "code",
   "execution_count": 69,
   "metadata": {},
   "outputs": [
    {
     "data": {
      "text/plain": [
       "dict_keys([-1.0, 0.0, 1.0, 2.0, 3.0])"
      ]
     },
     "execution_count": 69,
     "metadata": {},
     "output_type": "execute_result"
    }
   ],
   "source": [
    "# g = df.groupby('TOIDP_RANGE')\n",
    "# g.groups.keys()"
   ]
  },
  {
   "cell_type": "code",
   "execution_count": 68,
   "metadata": {},
   "outputs": [
    {
     "data": {
      "text/plain": [
       "0"
      ]
     },
     "execution_count": 68,
     "metadata": {},
     "output_type": "execute_result"
    }
   ],
   "source": [
    "# df['TOIDP_RANGE'].isnull().sum()"
   ]
  },
  {
   "cell_type": "code",
   "execution_count": 67,
   "metadata": {},
   "outputs": [],
   "source": [
    "# df.loc[df.TOIDP_RANGE.isnull(),'TOIDP_RANGE'] = -1"
   ]
  },
  {
   "cell_type": "code",
   "execution_count": 72,
   "metadata": {
    "scrolled": true
   },
   "outputs": [
    {
     "data": {
      "text/plain": [
       "CUSTOMER_CDE           16494\n",
       "SUB_INDUSTRY_CDE       16494\n",
       "CUS_TARGET_CDE         16494\n",
       "CUSTOMER_STATUS_CDE    16494\n",
       "GENDER_CDE             16494\n",
       "PROVINCE_CDE           16493\n",
       "MARITAL_STATUS         16494\n",
       "BANK_RELATION          16494\n",
       "AGE                    16494\n",
       "TOI_DP_2018            16494\n",
       "TOI_DP_2017                0\n",
       "TOI_DP_2016            16494\n",
       "LAISUAT                16494\n",
       "KYHAN                  16494\n",
       "CURRENCY_CDE           16494\n",
       "TOIDP_RANGE            16494\n",
       "dtype: int64"
      ]
     },
     "execution_count": 72,
     "metadata": {},
     "output_type": "execute_result"
    }
   ],
   "source": [
    "df[(df.TOI_DP_2018.isnull()==False) & (df.TOI_DP_2017.isnull()==True) & (df.TOI_DP_2016.isnull()==False)].count()"
   ]
  },
  {
   "cell_type": "code",
   "execution_count": null,
   "metadata": {},
   "outputs": [],
   "source": [
    "##------------------------------------------------------"
   ]
  },
  {
   "cell_type": "code",
   "execution_count": null,
   "metadata": {},
   "outputs": [],
   "source": [
    "# frame[\"TOI_DP_2018\"].fillna(-1, inplace = True)"
   ]
  },
  {
   "cell_type": "code",
   "execution_count": 19,
   "metadata": {},
   "outputs": [],
   "source": [
    "frame.loc[frame.TOI_DP_2018<0,'TOI_DP_2018'] = 0"
   ]
  },
  {
   "cell_type": "code",
   "execution_count": 21,
   "metadata": {},
   "outputs": [
    {
     "data": {
      "text/plain": [
       "CUSTOMER_CDE           12347\n",
       "SUB_INDUSTRY_CDE       12347\n",
       "CUS_TARGET_CDE         12347\n",
       "CUSTOMER_STATUS_CDE    12347\n",
       "GENDER_CDE             12347\n",
       "PROVINCE_CDE           12347\n",
       "MARITAL_STATUS         12347\n",
       "BANK_RELATION          12347\n",
       "AGE                    12347\n",
       "TOI_DP_2018            12347\n",
       "TOI_DP_2017             5358\n",
       "TOI_DP_2016             1980\n",
       "LAISUAT                12346\n",
       "KYHAN                  12347\n",
       "CURRENCY_CDE           12347\n",
       "dtype: int64"
      ]
     },
     "execution_count": 21,
     "metadata": {},
     "output_type": "execute_result"
    }
   ],
   "source": [
    "frame[frame.TOI_DP_2018==0].count()"
   ]
  },
  {
   "cell_type": "code",
   "execution_count": 26,
   "metadata": {},
   "outputs": [],
   "source": [
    "frame.loc[frame.TOI_DP_2018.isnull(),'TOI_DP_2018'] = -1\n",
    "frame.loc[frame.KYHAN.isnull(),'KYHAN'] = -1\n",
    "frame.loc[frame.CURRENCY_CDE.isnull(),'CURRENCY_CDE'] = -1"
   ]
  },
  {
   "cell_type": "code",
   "execution_count": 29,
   "metadata": {},
   "outputs": [
    {
     "data": {
      "text/plain": [
       "CUSTOMER_CDE           2435065\n",
       "SUB_INDUSTRY_CDE       2435065\n",
       "CUS_TARGET_CDE         2435065\n",
       "CUSTOMER_STATUS_CDE    2435065\n",
       "GENDER_CDE             2435065\n",
       "PROVINCE_CDE           2415223\n",
       "MARITAL_STATUS         2435065\n",
       "BANK_RELATION          2435065\n",
       "AGE                    2435065\n",
       "TOI_DP_2018            2435065\n",
       "TOI_DP_2017                  0\n",
       "TOI_DP_2016                  0\n",
       "LAISUAT                2435065\n",
       "KYHAN                  2435065\n",
       "CURRENCY_CDE           2435065\n",
       "dtype: int64"
      ]
     },
     "execution_count": 29,
     "metadata": {},
     "output_type": "execute_result"
    }
   ],
   "source": [
    "frame[frame.TOI_DP_2018==-1].count()"
   ]
  },
  {
   "cell_type": "code",
   "execution_count": 28,
   "metadata": {},
   "outputs": [],
   "source": [
    "frame.loc[frame.TOI_DP_2018==-1,'LAISUAT'] = -1"
   ]
  },
  {
   "cell_type": "code",
   "execution_count": 31,
   "metadata": {},
   "outputs": [],
   "source": [
    "di = {'100M':'100', '105M':'105', '108M':'108', '10M':'10', '110M':'110', '111M':'111', '114M':'114', '117M':'117', '118M':'118', '11M':'11', '120M':'120', '12M':'12', '13M':'13', '14M':'14', '15M':'15', '16M':'16', '18M':'18', '19M':'19', \n",
    "      '1M':'1', '1W':'0.25', '20M':'20', '21M':'21', '22M':'22', '23M':'23', '24M':'24', '25M':'25', '26M':'26', '27M':'27', '28M':'28', '2M':'2', '2W':'0.5', '30M':'30', '32M':'32', '33M':'33', '34M':'34', '35M':'35', '36M':'36', \n",
    "      '3M':'3', '3W':'0.75', '42M':'42', '43M':'43', '44M':'44', '46M':'46', '47M':'47', '48M':'48', '49M':'49', '4M':'4', '51M':'51', '58M':'58', '59M':'59', '5M':'5', '60M':'60', '62M':'62', '6M':'6', '70M':'70', '72M':'72', \n",
    "      '7M':'7', '82M':'82', '84M':'84', '85M':'85', '86M':'86', '8M':'8', '96M':'96', '90M':'90', '98M':'98', '99M':'99', '9M':'9', '>10Y':'122', 'NonTerm':'0'}\n",
    "frame['KYHAN'].replace(di, inplace=True)"
   ]
  },
  {
   "cell_type": "code",
   "execution_count": 34,
   "metadata": {},
   "outputs": [],
   "source": [
    "frame.loc[frame.TOI_DP_2017<0,'TOI_DP_2017'] = 0\n",
    "frame.loc[frame.TOI_DP_2016<0,'TOI_DP_2016'] = 0"
   ]
  },
  {
   "cell_type": "code",
   "execution_count": 35,
   "metadata": {},
   "outputs": [],
   "source": [
    "frame.loc[frame.TOI_DP_2017.isnull(),'TOI_DP_2017'] = -1\n",
    "frame.loc[frame.TOI_DP_2016.isnull(),'TOI_DP_2016'] = -1"
   ]
  },
  {
   "cell_type": "code",
   "execution_count": 36,
   "metadata": {},
   "outputs": [
    {
     "data": {
      "text/plain": [
       "CUSTOMER_CDE           2435065\n",
       "SUB_INDUSTRY_CDE       2435065\n",
       "CUS_TARGET_CDE         2435065\n",
       "CUSTOMER_STATUS_CDE    2435065\n",
       "GENDER_CDE             2435065\n",
       "PROVINCE_CDE           2415223\n",
       "MARITAL_STATUS         2435065\n",
       "BANK_RELATION          2435065\n",
       "AGE                    2435065\n",
       "TOI_DP_2018            2435065\n",
       "TOI_DP_2017            2435065\n",
       "TOI_DP_2016            2435065\n",
       "LAISUAT                2435065\n",
       "KYHAN                  2435065\n",
       "CURRENCY_CDE           2435065\n",
       "dtype: int64"
      ]
     },
     "execution_count": 36,
     "metadata": {},
     "output_type": "execute_result"
    }
   ],
   "source": [
    "frame[frame.TOI_DP_2018==-1].count()"
   ]
  },
  {
   "cell_type": "code",
   "execution_count": null,
   "metadata": {},
   "outputs": [],
   "source": [
    "##------------------------------------------------------"
   ]
  },
  {
   "cell_type": "code",
   "execution_count": 81,
   "metadata": {},
   "outputs": [],
   "source": [
    "data = df[['SUB_INDUSTRY_CDE','CUS_TARGET_CDE','CUSTOMER_STATUS_CDE','GENDER_CDE','PROVINCE_CDE','MARITAL_STATUS','BANK_RELATION','AGE','HISTORY_TOIDP','TOIDP_RANGE']]"
   ]
  },
  {
   "cell_type": "code",
   "execution_count": 82,
   "metadata": {},
   "outputs": [
    {
     "data": {
      "text/plain": [
       "SUB_INDUSTRY_CDE           0\n",
       "CUS_TARGET_CDE             0\n",
       "CUSTOMER_STATUS_CDE        0\n",
       "GENDER_CDE                 0\n",
       "PROVINCE_CDE           20085\n",
       "MARITAL_STATUS             0\n",
       "BANK_RELATION              0\n",
       "AGE                        0\n",
       "HISTORY_TOIDP              0\n",
       "TOIDP_RANGE                0\n",
       "dtype: int64"
      ]
     },
     "execution_count": 82,
     "metadata": {},
     "output_type": "execute_result"
    }
   ],
   "source": [
    "data.isnull().sum()"
   ]
  },
  {
   "cell_type": "code",
   "execution_count": 83,
   "metadata": {},
   "outputs": [
    {
     "data": {
      "text/plain": [
       "<matplotlib.axes._subplots.AxesSubplot at 0x28fafe723c8>"
      ]
     },
     "execution_count": 83,
     "metadata": {},
     "output_type": "execute_result"
    },
    {
     "data": {
      "image/png": "[encoded data removed]",
      "text/plain": [
       "<Figure size 432x288 with 1 Axes>"
      ]
     },
     "metadata": {
      "needs_background": "light"
     },
     "output_type": "display_data"
    }
   ],
   "source": [
    "sns.countplot(data['GENDER_CDE'], hue=data['TOIDP_RANGE'])"
   ]
  },
  {
   "cell_type": "code",
   "execution_count": 91,
   "metadata": {},
   "outputs": [
    {
     "data": {
      "text/html": [
       "<div>\n",
       "<style scoped>\n",
       "    .dataframe tbody tr th:only-of-type {\n",
       "        vertical-align: middle;\n",
       "    }\n",
       "\n",
       "    .dataframe tbody tr th {\n",
       "        vertical-align: top;\n",
       "    }\n",
       "\n",
       "    .dataframe thead th {\n",
       "        text-align: right;\n",
       "    }\n",
       "</style>\n",
       "<table border=\"1\" class=\"dataframe\">\n",
       "  <thead>\n",
       "    <tr style=\"text-align: right;\">\n",
       "      <th></th>\n",
       "      <th>PROVINCE_CDE</th>\n",
       "      <th>count</th>\n",
       "    </tr>\n",
       "  </thead>\n",
       "  <tbody>\n",
       "    <tr>\n",
       "      <th>43</th>\n",
       "      <td>5000.0</td>\n",
       "      <td>1291101</td>\n",
       "    </tr>\n",
       "    <tr>\n",
       "      <th>78</th>\n",
       "      <td>6800.0</td>\n",
       "      <td>230816</td>\n",
       "    </tr>\n",
       "    <tr>\n",
       "      <th>81</th>\n",
       "      <td>7200.0</td>\n",
       "      <td>196716</td>\n",
       "    </tr>\n",
       "    <tr>\n",
       "      <th>0</th>\n",
       "      <td>1000.0</td>\n",
       "      <td>182367</td>\n",
       "    </tr>\n",
       "    <tr>\n",
       "      <th>87</th>\n",
       "      <td>8000.0</td>\n",
       "      <td>170480</td>\n",
       "    </tr>\n",
       "  </tbody>\n",
       "</table>\n",
       "</div>"
      ],
      "text/plain": [
       "    PROVINCE_CDE    count\n",
       "43        5000.0  1291101\n",
       "78        6800.0   230816\n",
       "81        7200.0   196716\n",
       "0         1000.0   182367\n",
       "87        8000.0   170480"
      ]
     },
     "execution_count": 91,
     "metadata": {},
     "output_type": "execute_result"
    }
   ],
   "source": [
    "data.groupby('PROVINCE_CDE')['PROVINCE_CDE'].count().reset_index(name='count').sort_values(['count'],ascending=False).head()"
   ]
  },
  {
   "cell_type": "code",
   "execution_count": 93,
   "metadata": {},
   "outputs": [
    {
     "data": {
      "text/plain": [
       "(5714729, 10)"
      ]
     },
     "execution_count": 93,
     "metadata": {},
     "output_type": "execute_result"
    }
   ],
   "source": [
    "data.shape"
   ]
  },
  {
   "cell_type": "code",
   "execution_count": 94,
   "metadata": {},
   "outputs": [
    {
     "name": "stderr",
     "output_type": "stream",
     "text": [
      "C:\\WPy-3710\\python-3.7.1.amd64\\lib\\site-packages\\pandas\\core\\generic.py:5434: SettingWithCopyWarning: \n",
      "A value is trying to be set on a copy of a slice from a DataFrame\n",
      "\n",
      "See the caveats in the documentation: http://pandas.pydata.org/pandas-docs/stable/indexing.html#indexing-view-versus-copy\n",
      "  self._update_inplace(new_data)\n"
     ]
    }
   ],
   "source": [
    "data[\"PROVINCE_CDE\"].fillna(5000.0, inplace = True)"
   ]
  },
  {
   "cell_type": "code",
   "execution_count": 95,
   "metadata": {},
   "outputs": [
    {
     "data": {
      "text/plain": [
       "SUB_INDUSTRY_CDE       0\n",
       "CUS_TARGET_CDE         0\n",
       "CUSTOMER_STATUS_CDE    0\n",
       "GENDER_CDE             0\n",
       "PROVINCE_CDE           0\n",
       "MARITAL_STATUS         0\n",
       "BANK_RELATION          0\n",
       "AGE                    0\n",
       "HISTORY_TOIDP          0\n",
       "TOIDP_RANGE            0\n",
       "dtype: int64"
      ]
     },
     "execution_count": 95,
     "metadata": {},
     "output_type": "execute_result"
    }
   ],
   "source": [
    "data.isnull().sum()"
   ]
  },
  {
   "cell_type": "code",
   "execution_count": null,
   "metadata": {},
   "outputs": [],
   "source": []
  }
 ],
 "metadata": {
  "kernelspec": {
   "display_name": "Python 3",
   "language": "python",
   "name": "python3"
  },
  "language_info": {
   "codemirror_mode": {
    "name": "ipython",
    "version": 3
   },
   "file_extension": ".py",
   "mimetype": "text/x-python",
   "name": "python",
   "nbconvert_exporter": "python",
   "pygments_lexer": "ipython3",
   "version": "3.7.1"
  }
 },
 "nbformat": 4,
 "nbformat_minor": 2
}
