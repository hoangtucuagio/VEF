{
 "cells": [
  {
   "cell_type": "code",
   "execution_count": 1,
   "metadata": {},
   "outputs": [],
   "source": [
    "import seaborn as sns\n",
    "import matplotlib.pyplot as plt\n",
    "import numpy as np\n",
    "import math\n",
    "import glob\n",
    "import pandas as pd\n",
    "import numpy as np\n",
    "%matplotlib inline"
   ]
  },
  {
   "cell_type": "code",
   "execution_count": 2,
   "metadata": {},
   "outputs": [],
   "source": [
    "import regex as re\n",
    "import datetime\n",
    "import time\n",
    "import os\n",
    "import json\n",
    "import warnings\n",
    "warnings.filterwarnings('ignore')\n",
    "import sys\n",
    "import sqlalchemy\n",
    "import cx_Oracle\n",
    "import pymssql\n",
    "import pyodbc\n",
    "import multiprocessing as mp"
   ]
  },
  {
   "cell_type": "markdown",
   "metadata": {},
   "source": [
    "### 1. Load Data"
   ]
  },
  {
   "cell_type": "code",
   "execution_count": 3,
   "metadata": {},
   "outputs": [],
   "source": [
    "#Open connection to DWH\n",
    "#PREPARE CORRECT QUERY WITH ALL NEEDED COLUMNS\n"
   ]
  },
  {
   "cell_type": "code",
   "execution_count": 3,
   "metadata": {},
   "outputs": [],
   "source": [
    "host=''\n",
    "port=\n",
    "sname=''\n",
    "user=''\n",
    "password=''\n",
    "conn=cx_Oracle.connect('{}/{}@{}:{}/{}'.format(user,password,host,str(port),sname))\n",
    "cur = conn.cursor()\n",
    "query_select=\"\"\"\\\n",
    "select * from AD_TOILOAN_TMP_ALL_02\n",
    "where PRODUCT_CDE in\n",
    "(\n",
    "'60172--21060'\n",
    ",'60127--21060'\n",
    ",'60126--21050'\n",
    ",'60036--21060'\n",
    ",'60058--21050'\n",
    ",'60052--21060'\n",
    ")\n",
    "\"\"\"\n",
    "\n",
    "#offset 0 rows fetch next 4000001 rows only\n"
   ]
  },
  {
   "cell_type": "code",
   "execution_count": 4,
   "metadata": {},
   "outputs": [
    {
     "data": {
      "text/plain": [
       "<cx_Oracle.Cursor on <cx_Oracle.Connection to DW_ANALYTICS@192.168.124.105:1594/DWDEV>>"
      ]
     },
     "execution_count": 4,
     "metadata": {},
     "output_type": "execute_result"
    }
   ],
   "source": [
    "cur.execute(query_select)"
   ]
  },
  {
   "cell_type": "code",
   "execution_count": 5,
   "metadata": {},
   "outputs": [],
   "source": [
    "# Create dataframe\n",
    "col_names = []\n",
    "for i in range (0,len(cur.description)):\n",
    "    col_names.append(cur.description[i][0])\n",
    "df_loan = pd.DataFrame(cur.fetchall(),columns = col_names)\n",
    "cur.close()\n",
    "conn.close()"
   ]
  },
  {
   "cell_type": "code",
   "execution_count": 7,
   "metadata": {},
   "outputs": [
    {
     "data": {
      "text/plain": [
       "1563702"
      ]
     },
     "execution_count": 7,
     "metadata": {},
     "output_type": "execute_result"
    }
   ],
   "source": [
    "len(df_loan)"
   ]
  },
  {
   "cell_type": "code",
   "execution_count": 8,
   "metadata": {},
   "outputs": [
    {
     "data": {
      "text/plain": [
       "CUSTOMER_CDE     0\n",
       "PRODUCT_CDE      0\n",
       "LD_ID            0\n",
       "AMT_INIT         0\n",
       "AMT_CUR          0\n",
       "INTEREST_RATE    0\n",
       "RATE_FTP         0\n",
       "KYHAN            0\n",
       "LOAITRAGOP       0\n",
       "MUCDICHVAY       0\n",
       "LMV              0\n",
       "LBV              0\n",
       "ACCT_USE_DAYS    0\n",
       "TOI              0\n",
       "PROCESS_MONTH    0\n",
       "PROCESS_YEAR     0\n",
       "dtype: int64"
      ]
     },
     "execution_count": 8,
     "metadata": {},
     "output_type": "execute_result"
    }
   ],
   "source": [
    "df_loan.isnull().sum()"
   ]
  },
  {
   "cell_type": "code",
   "execution_count": 9,
   "metadata": {},
   "outputs": [
    {
     "data": {
      "text/html": [
       "<div>\n",
       "<style scoped>\n",
       "    .dataframe tbody tr th:only-of-type {\n",
       "        vertical-align: middle;\n",
       "    }\n",
       "\n",
       "    .dataframe tbody tr th {\n",
       "        vertical-align: top;\n",
       "    }\n",
       "\n",
       "    .dataframe thead th {\n",
       "        text-align: right;\n",
       "    }\n",
       "</style>\n",
       "<table border=\"1\" class=\"dataframe\">\n",
       "  <thead>\n",
       "    <tr style=\"text-align: right;\">\n",
       "      <th></th>\n",
       "      <th>LOAITRAGOP</th>\n",
       "      <th>count</th>\n",
       "    </tr>\n",
       "  </thead>\n",
       "  <tbody>\n",
       "    <tr>\n",
       "      <td>1</td>\n",
       "      <td>E</td>\n",
       "      <td>816171</td>\n",
       "    </tr>\n",
       "    <tr>\n",
       "      <td>0</td>\n",
       "      <td>B</td>\n",
       "      <td>580896</td>\n",
       "    </tr>\n",
       "    <tr>\n",
       "      <td>2</td>\n",
       "      <td>S</td>\n",
       "      <td>166635</td>\n",
       "    </tr>\n",
       "  </tbody>\n",
       "</table>\n",
       "</div>"
      ],
      "text/plain": [
       "  LOAITRAGOP   count\n",
       "1          E  816171\n",
       "0          B  580896\n",
       "2          S  166635"
      ]
     },
     "execution_count": 9,
     "metadata": {},
     "output_type": "execute_result"
    }
   ],
   "source": [
    "df_loan.groupby('LOAITRAGOP')['LOAITRAGOP'].count().reset_index(name='count').sort_values(['count'],ascending=False)"
   ]
  },
  {
   "cell_type": "code",
   "execution_count": 9,
   "metadata": {},
   "outputs": [],
   "source": [
    "# df_loan.fillna({'LOAITRAGOP':'B'}, inplace=True)"
   ]
  },
  {
   "cell_type": "code",
   "execution_count": 8,
   "metadata": {},
   "outputs": [],
   "source": [
    "# df_loan.drop(df_loan[df_loan.LMV.isnull()==True].index,inplace=True)"
   ]
  },
  {
   "cell_type": "code",
   "execution_count": 10,
   "metadata": {},
   "outputs": [],
   "source": [
    "df_b = df_loan[(df_loan.LOAITRAGOP =='E') | (df_loan.LOAITRAGOP =='B')]"
   ]
  },
  {
   "cell_type": "code",
   "execution_count": 11,
   "metadata": {},
   "outputs": [],
   "source": [
    "df_b = df_b.reset_index(drop=True)"
   ]
  },
  {
   "cell_type": "code",
   "execution_count": 12,
   "metadata": {
    "scrolled": true
   },
   "outputs": [
    {
     "data": {
      "text/plain": [
       "1397067"
      ]
     },
     "execution_count": 12,
     "metadata": {},
     "output_type": "execute_result"
    }
   ],
   "source": [
    "len(df_b)"
   ]
  },
  {
   "cell_type": "code",
   "execution_count": 13,
   "metadata": {},
   "outputs": [
    {
     "data": {
      "text/plain": [
       "CUSTOMER_CDE     124038\n",
       "PRODUCT_CDE      124038\n",
       "LD_ID            124038\n",
       "AMT_INIT         124038\n",
       "AMT_CUR          124038\n",
       "INTEREST_RATE    124038\n",
       "RATE_FTP         124038\n",
       "KYHAN            124038\n",
       "LOAITRAGOP       124038\n",
       "MUCDICHVAY       124038\n",
       "LMV              124038\n",
       "LBV              124038\n",
       "ACCT_USE_DAYS    124038\n",
       "TOI              124038\n",
       "PROCESS_MONTH    124038\n",
       "PROCESS_YEAR     124038\n",
       "dtype: int64"
      ]
     },
     "execution_count": 13,
     "metadata": {},
     "output_type": "execute_result"
    }
   ],
   "source": [
    "df_b[df_b['AMT_CUR']<=1].count()"
   ]
  },
  {
   "cell_type": "code",
   "execution_count": 14,
   "metadata": {},
   "outputs": [],
   "source": [
    "df_b.drop(df_b[df_b['AMT_CUR']<=1].index,inplace=True)"
   ]
  },
  {
   "cell_type": "code",
   "execution_count": 15,
   "metadata": {},
   "outputs": [
    {
     "data": {
      "text/plain": [
       "CUSTOMER_CDE     7704\n",
       "PRODUCT_CDE      7704\n",
       "LD_ID            7704\n",
       "AMT_INIT         7704\n",
       "AMT_CUR          7704\n",
       "INTEREST_RATE    7704\n",
       "RATE_FTP         7704\n",
       "KYHAN            7704\n",
       "LOAITRAGOP       7704\n",
       "MUCDICHVAY       7704\n",
       "LMV              7704\n",
       "LBV              7704\n",
       "ACCT_USE_DAYS    7704\n",
       "TOI              7704\n",
       "PROCESS_MONTH    7704\n",
       "PROCESS_YEAR     7704\n",
       "dtype: int64"
      ]
     },
     "execution_count": 15,
     "metadata": {},
     "output_type": "execute_result"
    }
   ],
   "source": [
    "df_b[df_b['TOI']<=1].count()"
   ]
  },
  {
   "cell_type": "code",
   "execution_count": 16,
   "metadata": {},
   "outputs": [],
   "source": [
    "df_b.drop(df_b[df_b['TOI']<=1].index,inplace=True)"
   ]
  },
  {
   "cell_type": "code",
   "execution_count": 17,
   "metadata": {},
   "outputs": [
    {
     "data": {
      "text/html": [
       "<div>\n",
       "<style scoped>\n",
       "    .dataframe tbody tr th:only-of-type {\n",
       "        vertical-align: middle;\n",
       "    }\n",
       "\n",
       "    .dataframe tbody tr th {\n",
       "        vertical-align: top;\n",
       "    }\n",
       "\n",
       "    .dataframe thead th {\n",
       "        text-align: right;\n",
       "    }\n",
       "</style>\n",
       "<table border=\"1\" class=\"dataframe\">\n",
       "  <thead>\n",
       "    <tr style=\"text-align: right;\">\n",
       "      <th></th>\n",
       "      <th>LOAITRAGOP</th>\n",
       "      <th>count</th>\n",
       "    </tr>\n",
       "  </thead>\n",
       "  <tbody>\n",
       "    <tr>\n",
       "      <td>1</td>\n",
       "      <td>E</td>\n",
       "      <td>735246</td>\n",
       "    </tr>\n",
       "    <tr>\n",
       "      <td>0</td>\n",
       "      <td>B</td>\n",
       "      <td>530079</td>\n",
       "    </tr>\n",
       "  </tbody>\n",
       "</table>\n",
       "</div>"
      ],
      "text/plain": [
       "  LOAITRAGOP   count\n",
       "1          E  735246\n",
       "0          B  530079"
      ]
     },
     "execution_count": 17,
     "metadata": {},
     "output_type": "execute_result"
    }
   ],
   "source": [
    "df_b.groupby('LOAITRAGOP')['LOAITRAGOP'].count().reset_index(name='count').sort_values(['count'],ascending=False)"
   ]
  },
  {
   "cell_type": "code",
   "execution_count": 18,
   "metadata": {},
   "outputs": [
    {
     "data": {
      "text/plain": [
       "Index(['CUSTOMER_CDE', 'PRODUCT_CDE', 'LD_ID', 'AMT_INIT', 'AMT_CUR',\n",
       "       'INTEREST_RATE', 'RATE_FTP', 'KYHAN', 'LOAITRAGOP', 'MUCDICHVAY', 'LMV',\n",
       "       'LBV', 'ACCT_USE_DAYS', 'TOI', 'PROCESS_MONTH', 'PROCESS_YEAR'],\n",
       "      dtype='object')"
      ]
     },
     "execution_count": 18,
     "metadata": {},
     "output_type": "execute_result"
    }
   ],
   "source": [
    "df_b.columns"
   ]
  },
  {
   "cell_type": "markdown",
   "metadata": {},
   "source": [
    "### 4. Exploration Data Analysis"
   ]
  },
  {
   "cell_type": "code",
   "execution_count": 19,
   "metadata": {},
   "outputs": [],
   "source": [
    "numerical_columns=['AMT_INIT','AMT_CUR',\n",
    "       'ACCT_USE_DAYS','INTEREST_RATE',\n",
    "       'RATE_FTP','KYHAN','LMV','LBV','TOI']"
   ]
  },
  {
   "cell_type": "code",
   "execution_count": 20,
   "metadata": {
    "scrolled": false
   },
   "outputs": [
    {
     "data": {
      "image/png": "[encoded data removed]",
      "text/plain": [
       "<Figure size 1440x720 with 2 Axes>"
      ]
     },
     "metadata": {
      "needs_background": "light"
     },
     "output_type": "display_data"
    }
   ],
   "source": [
    "# Let's see the correlation between different variables.\n",
    "fig, ax = plt.subplots(figsize=(20,10))\n",
    "sns.heatmap(df_b[numerical_columns]. corr(), cmap=\"YlGnBu\", annot = True)\n",
    "plt.show()"
   ]
  },
  {
   "cell_type": "code",
   "execution_count": 206,
   "metadata": {},
   "outputs": [],
   "source": [
    "# temp['LMV_LOG'] = pd.to_numeric(np.log(temp['LMV']), errors='coerce')"
   ]
  },
  {
   "cell_type": "code",
   "execution_count": 240,
   "metadata": {},
   "outputs": [],
   "source": [
    "# df_b['AMT_INIT_LOG'] = pd.to_numeric(np.log(df_b['AMT_INIT']), errors='coerce')"
   ]
  },
  {
   "cell_type": "code",
   "execution_count": 21,
   "metadata": {},
   "outputs": [],
   "source": [
    "df_b['AMT_CUR_LOG'] = pd.to_numeric(np.log(df_b['AMT_CUR']), errors='coerce')"
   ]
  },
  {
   "cell_type": "code",
   "execution_count": 22,
   "metadata": {},
   "outputs": [],
   "source": [
    "df_b['TOI_LOG'] = pd.to_numeric(np.log(df_b['TOI']), errors='coerce')"
   ]
  },
  {
   "cell_type": "markdown",
   "metadata": {},
   "source": [
    "### Build model"
   ]
  },
  {
   "cell_type": "code",
   "execution_count": 53,
   "metadata": {},
   "outputs": [],
   "source": [
    "temp = df_b.copy()"
   ]
  },
  {
   "cell_type": "code",
   "execution_count": 54,
   "metadata": {},
   "outputs": [
    {
     "data": {
      "text/plain": [
       "1265325"
      ]
     },
     "execution_count": 54,
     "metadata": {},
     "output_type": "execute_result"
    }
   ],
   "source": [
    "len(temp)"
   ]
  },
  {
   "cell_type": "code",
   "execution_count": 55,
   "metadata": {},
   "outputs": [],
   "source": [
    "col_model = ['PRODUCT_CDE','AMT_CUR_LOG', 'ACCT_USE_DAYS','RATE_FTP','INTEREST_RATE','KYHAN','TOI_LOG']"
   ]
  },
  {
   "cell_type": "code",
   "execution_count": 56,
   "metadata": {},
   "outputs": [],
   "source": [
    "col_input = ['AMT_CUR_LOG', 'ACCT_USE_DAYS', 'RATE_FTP', 'INTEREST_RATE','KYHAN']"
   ]
  },
  {
   "cell_type": "code",
   "execution_count": 57,
   "metadata": {},
   "outputs": [],
   "source": [
    "temp.drop_duplicates(subset=col_model, inplace=True)\n",
    "temp = temp.reset_index(drop=True)"
   ]
  },
  {
   "cell_type": "code",
   "execution_count": 58,
   "metadata": {},
   "outputs": [
    {
     "data": {
      "text/plain": [
       "1015444"
      ]
     },
     "execution_count": 58,
     "metadata": {},
     "output_type": "execute_result"
    }
   ],
   "source": [
    "len(temp)\n",
    "# 2067789\n",
    "# 1994818"
   ]
  },
  {
   "cell_type": "code",
   "execution_count": 59,
   "metadata": {},
   "outputs": [
    {
     "data": {
      "text/plain": [
       "count    1.015444e+06\n",
       "mean     5.309528e+05\n",
       "std      5.246070e+06\n",
       "min      6.074999e+00\n",
       "25%      2.038759e+05\n",
       "50%      3.760167e+05\n",
       "75%      6.730443e+05\n",
       "max      5.260677e+09\n",
       "Name: TOI, dtype: float64"
      ]
     },
     "execution_count": 59,
     "metadata": {},
     "output_type": "execute_result"
    }
   ],
   "source": [
    "temp['TOI'].describe(include='all')"
   ]
  },
  {
   "cell_type": "code",
   "execution_count": 60,
   "metadata": {},
   "outputs": [
    {
     "data": {
      "text/plain": [
       "125"
      ]
     },
     "execution_count": 60,
     "metadata": {},
     "output_type": "execute_result"
    }
   ],
   "source": [
    "temp[temp['TOI']<1000]['TOI'].count()"
   ]
  },
  {
   "cell_type": "code",
   "execution_count": 61,
   "metadata": {},
   "outputs": [],
   "source": [
    "temp = temp[(temp['TOI']>=1000) & (temp['TOI']<=20000000)]\n",
    "temp = temp.reset_index(drop=True)"
   ]
  },
  {
   "cell_type": "code",
   "execution_count": 62,
   "metadata": {},
   "outputs": [],
   "source": [
    "# temp[temp['AMT_INIT']<=1].count()"
   ]
  },
  {
   "cell_type": "code",
   "execution_count": 63,
   "metadata": {},
   "outputs": [],
   "source": [
    "# temp.drop(temp[temp['AMT_INIT']<=1].index,inplace=True)"
   ]
  },
  {
   "cell_type": "code",
   "execution_count": 64,
   "metadata": {},
   "outputs": [],
   "source": [
    "PRODUCT_CDE_df = pd.get_dummies(temp['PRODUCT_CDE'], prefix = 'PRODUCT_CDE')"
   ]
  },
  {
   "cell_type": "code",
   "execution_count": 65,
   "metadata": {},
   "outputs": [],
   "source": [
    "# MUCDICHVAY_df = pd.get_dummies(temp['MUCDICHVAY'], prefix = 'MUCDICHVAY')"
   ]
  },
  {
   "cell_type": "code",
   "execution_count": 66,
   "metadata": {},
   "outputs": [],
   "source": [
    "temp.drop(['PRODUCT_CDE'],axis=1, inplace = True)"
   ]
  },
  {
   "cell_type": "code",
   "execution_count": 67,
   "metadata": {},
   "outputs": [],
   "source": [
    "temp2 = pd.concat([PRODUCT_CDE_df,temp[col_input]], axis = 1)"
   ]
  },
  {
   "cell_type": "code",
   "execution_count": 68,
   "metadata": {},
   "outputs": [
    {
     "name": "stdout",
     "output_type": "stream",
     "text": [
      "<class 'pandas.core.frame.DataFrame'>\n",
      "RangeIndex: 1015318 entries, 0 to 1015317\n",
      "Data columns (total 11 columns):\n",
      "PRODUCT_CDE_60036--21060    1015318 non-null uint8\n",
      "PRODUCT_CDE_60052--21060    1015318 non-null uint8\n",
      "PRODUCT_CDE_60058--21050    1015318 non-null uint8\n",
      "PRODUCT_CDE_60126--21050    1015318 non-null uint8\n",
      "PRODUCT_CDE_60127--21060    1015318 non-null uint8\n",
      "PRODUCT_CDE_60172--21060    1015318 non-null uint8\n",
      "AMT_CUR_LOG                 1015318 non-null float64\n",
      "ACCT_USE_DAYS               1015318 non-null int64\n",
      "RATE_FTP                    1015318 non-null float64\n",
      "INTEREST_RATE               1015318 non-null float64\n",
      "KYHAN                       1015318 non-null int64\n",
      "dtypes: float64(3), int64(2), uint8(6)\n",
      "memory usage: 44.5 MB\n"
     ]
    }
   ],
   "source": [
    "temp2.info()"
   ]
  },
  {
   "cell_type": "code",
   "execution_count": 69,
   "metadata": {},
   "outputs": [
    {
     "data": {
      "text/html": [
       "<div>\n",
       "<style scoped>\n",
       "    .dataframe tbody tr th:only-of-type {\n",
       "        vertical-align: middle;\n",
       "    }\n",
       "\n",
       "    .dataframe tbody tr th {\n",
       "        vertical-align: top;\n",
       "    }\n",
       "\n",
       "    .dataframe thead th {\n",
       "        text-align: right;\n",
       "    }\n",
       "</style>\n",
       "<table border=\"1\" class=\"dataframe\">\n",
       "  <thead>\n",
       "    <tr style=\"text-align: right;\">\n",
       "      <th></th>\n",
       "      <th>PRODUCT_CDE_60036--21060</th>\n",
       "      <th>PRODUCT_CDE_60052--21060</th>\n",
       "      <th>PRODUCT_CDE_60058--21050</th>\n",
       "      <th>PRODUCT_CDE_60126--21050</th>\n",
       "      <th>PRODUCT_CDE_60127--21060</th>\n",
       "      <th>PRODUCT_CDE_60172--21060</th>\n",
       "      <th>AMT_CUR_LOG</th>\n",
       "      <th>ACCT_USE_DAYS</th>\n",
       "      <th>RATE_FTP</th>\n",
       "      <th>INTEREST_RATE</th>\n",
       "      <th>KYHAN</th>\n",
       "    </tr>\n",
       "  </thead>\n",
       "  <tbody>\n",
       "    <tr>\n",
       "      <td>0</td>\n",
       "      <td>0</td>\n",
       "      <td>1</td>\n",
       "      <td>0</td>\n",
       "      <td>0</td>\n",
       "      <td>0</td>\n",
       "      <td>0</td>\n",
       "      <td>20.212440</td>\n",
       "      <td>29</td>\n",
       "      <td>8.901944</td>\n",
       "      <td>10.0</td>\n",
       "      <td>84</td>\n",
       "    </tr>\n",
       "    <tr>\n",
       "      <td>1</td>\n",
       "      <td>1</td>\n",
       "      <td>0</td>\n",
       "      <td>0</td>\n",
       "      <td>0</td>\n",
       "      <td>0</td>\n",
       "      <td>0</td>\n",
       "      <td>18.420681</td>\n",
       "      <td>26</td>\n",
       "      <td>7.060000</td>\n",
       "      <td>8.8</td>\n",
       "      <td>12</td>\n",
       "    </tr>\n",
       "    <tr>\n",
       "      <td>2</td>\n",
       "      <td>0</td>\n",
       "      <td>0</td>\n",
       "      <td>0</td>\n",
       "      <td>1</td>\n",
       "      <td>0</td>\n",
       "      <td>0</td>\n",
       "      <td>18.420681</td>\n",
       "      <td>30</td>\n",
       "      <td>7.080000</td>\n",
       "      <td>11.0</td>\n",
       "      <td>12</td>\n",
       "    </tr>\n",
       "    <tr>\n",
       "      <td>3</td>\n",
       "      <td>0</td>\n",
       "      <td>0</td>\n",
       "      <td>0</td>\n",
       "      <td>1</td>\n",
       "      <td>0</td>\n",
       "      <td>0</td>\n",
       "      <td>18.826146</td>\n",
       "      <td>30</td>\n",
       "      <td>7.170000</td>\n",
       "      <td>10.9</td>\n",
       "      <td>12</td>\n",
       "    </tr>\n",
       "    <tr>\n",
       "      <td>4</td>\n",
       "      <td>0</td>\n",
       "      <td>0</td>\n",
       "      <td>1</td>\n",
       "      <td>0</td>\n",
       "      <td>0</td>\n",
       "      <td>0</td>\n",
       "      <td>19.434098</td>\n",
       "      <td>30</td>\n",
       "      <td>9.220000</td>\n",
       "      <td>10.8</td>\n",
       "      <td>60</td>\n",
       "    </tr>\n",
       "  </tbody>\n",
       "</table>\n",
       "</div>"
      ],
      "text/plain": [
       "   PRODUCT_CDE_60036--21060  PRODUCT_CDE_60052--21060  \\\n",
       "0                         0                         1   \n",
       "1                         1                         0   \n",
       "2                         0                         0   \n",
       "3                         0                         0   \n",
       "4                         0                         0   \n",
       "\n",
       "   PRODUCT_CDE_60058--21050  PRODUCT_CDE_60126--21050  \\\n",
       "0                         0                         0   \n",
       "1                         0                         0   \n",
       "2                         0                         1   \n",
       "3                         0                         1   \n",
       "4                         1                         0   \n",
       "\n",
       "   PRODUCT_CDE_60127--21060  PRODUCT_CDE_60172--21060  AMT_CUR_LOG  \\\n",
       "0                         0                         0    20.212440   \n",
       "1                         0                         0    18.420681   \n",
       "2                         0                         0    18.420681   \n",
       "3                         0                         0    18.826146   \n",
       "4                         0                         0    19.434098   \n",
       "\n",
       "   ACCT_USE_DAYS  RATE_FTP  INTEREST_RATE  KYHAN  \n",
       "0             29  8.901944           10.0     84  \n",
       "1             26  7.060000            8.8     12  \n",
       "2             30  7.080000           11.0     12  \n",
       "3             30  7.170000           10.9     12  \n",
       "4             30  9.220000           10.8     60  "
      ]
     },
     "execution_count": 69,
     "metadata": {},
     "output_type": "execute_result"
    }
   ],
   "source": [
    "temp2.head()"
   ]
  },
  {
   "cell_type": "code",
   "execution_count": 70,
   "metadata": {},
   "outputs": [],
   "source": [
    "from sklearn.preprocessing import MinMaxScaler,StandardScaler,RobustScaler"
   ]
  },
  {
   "cell_type": "code",
   "execution_count": 71,
   "metadata": {},
   "outputs": [],
   "source": [
    "robust=RobustScaler()\n",
    "# s_rb=robust.fit_transform(temp[col_input])\n",
    "s_rb=robust.fit_transform(temp2)"
   ]
  },
  {
   "cell_type": "code",
   "execution_count": 72,
   "metadata": {},
   "outputs": [],
   "source": [
    "# df_mm = pd.DataFrame(s_rb, columns=col_input)\n",
    "df_mm = pd.DataFrame(s_rb, columns=temp2.columns)"
   ]
  },
  {
   "cell_type": "code",
   "execution_count": 73,
   "metadata": {},
   "outputs": [
    {
     "data": {
      "text/plain": [
       "Index(['PRODUCT_CDE_60036--21060', 'PRODUCT_CDE_60052--21060',\n",
       "       'PRODUCT_CDE_60058--21050', 'PRODUCT_CDE_60126--21050',\n",
       "       'PRODUCT_CDE_60127--21060', 'PRODUCT_CDE_60172--21060', 'AMT_CUR_LOG',\n",
       "       'ACCT_USE_DAYS', 'RATE_FTP', 'INTEREST_RATE', 'KYHAN'],\n",
       "      dtype='object')"
      ]
     },
     "execution_count": 73,
     "metadata": {},
     "output_type": "execute_result"
    }
   ],
   "source": [
    "df_mm.columns"
   ]
  },
  {
   "cell_type": "code",
   "execution_count": 74,
   "metadata": {
    "scrolled": true
   },
   "outputs": [
    {
     "data": {
      "text/html": [
       "<div>\n",
       "<style scoped>\n",
       "    .dataframe tbody tr th:only-of-type {\n",
       "        vertical-align: middle;\n",
       "    }\n",
       "\n",
       "    .dataframe tbody tr th {\n",
       "        vertical-align: top;\n",
       "    }\n",
       "\n",
       "    .dataframe thead th {\n",
       "        text-align: right;\n",
       "    }\n",
       "</style>\n",
       "<table border=\"1\" class=\"dataframe\">\n",
       "  <thead>\n",
       "    <tr style=\"text-align: right;\">\n",
       "      <th></th>\n",
       "      <th>PRODUCT_CDE_60036--21060</th>\n",
       "      <th>PRODUCT_CDE_60052--21060</th>\n",
       "      <th>PRODUCT_CDE_60058--21050</th>\n",
       "      <th>PRODUCT_CDE_60126--21050</th>\n",
       "      <th>PRODUCT_CDE_60127--21060</th>\n",
       "      <th>PRODUCT_CDE_60172--21060</th>\n",
       "      <th>AMT_CUR_LOG</th>\n",
       "      <th>ACCT_USE_DAYS</th>\n",
       "      <th>RATE_FTP</th>\n",
       "      <th>INTEREST_RATE</th>\n",
       "      <th>KYHAN</th>\n",
       "    </tr>\n",
       "  </thead>\n",
       "  <tbody>\n",
       "    <tr>\n",
       "      <td>0</td>\n",
       "      <td>0.0</td>\n",
       "      <td>1.0</td>\n",
       "      <td>0.0</td>\n",
       "      <td>0.0</td>\n",
       "      <td>0.0</td>\n",
       "      <td>0.0</td>\n",
       "      <td>0.835121</td>\n",
       "      <td>-2.0</td>\n",
       "      <td>0.265916</td>\n",
       "      <td>-1.192308</td>\n",
       "      <td>1.000000</td>\n",
       "    </tr>\n",
       "    <tr>\n",
       "      <td>1</td>\n",
       "      <td>1.0</td>\n",
       "      <td>0.0</td>\n",
       "      <td>0.0</td>\n",
       "      <td>0.0</td>\n",
       "      <td>0.0</td>\n",
       "      <td>0.0</td>\n",
       "      <td>-0.359633</td>\n",
       "      <td>-5.0</td>\n",
       "      <td>-0.729730</td>\n",
       "      <td>-2.115385</td>\n",
       "      <td>-1.000000</td>\n",
       "    </tr>\n",
       "    <tr>\n",
       "      <td>2</td>\n",
       "      <td>0.0</td>\n",
       "      <td>0.0</td>\n",
       "      <td>0.0</td>\n",
       "      <td>1.0</td>\n",
       "      <td>0.0</td>\n",
       "      <td>0.0</td>\n",
       "      <td>-0.359633</td>\n",
       "      <td>-1.0</td>\n",
       "      <td>-0.718919</td>\n",
       "      <td>-0.423077</td>\n",
       "      <td>-1.000000</td>\n",
       "    </tr>\n",
       "    <tr>\n",
       "      <td>3</td>\n",
       "      <td>0.0</td>\n",
       "      <td>0.0</td>\n",
       "      <td>0.0</td>\n",
       "      <td>1.0</td>\n",
       "      <td>0.0</td>\n",
       "      <td>0.0</td>\n",
       "      <td>-0.089267</td>\n",
       "      <td>-1.0</td>\n",
       "      <td>-0.670270</td>\n",
       "      <td>-0.500000</td>\n",
       "      <td>-1.000000</td>\n",
       "    </tr>\n",
       "    <tr>\n",
       "      <td>4</td>\n",
       "      <td>0.0</td>\n",
       "      <td>0.0</td>\n",
       "      <td>1.0</td>\n",
       "      <td>0.0</td>\n",
       "      <td>0.0</td>\n",
       "      <td>0.0</td>\n",
       "      <td>0.316119</td>\n",
       "      <td>-1.0</td>\n",
       "      <td>0.437838</td>\n",
       "      <td>-0.576923</td>\n",
       "      <td>0.333333</td>\n",
       "    </tr>\n",
       "  </tbody>\n",
       "</table>\n",
       "</div>"
      ],
      "text/plain": [
       "   PRODUCT_CDE_60036--21060  PRODUCT_CDE_60052--21060  \\\n",
       "0                       0.0                       1.0   \n",
       "1                       1.0                       0.0   \n",
       "2                       0.0                       0.0   \n",
       "3                       0.0                       0.0   \n",
       "4                       0.0                       0.0   \n",
       "\n",
       "   PRODUCT_CDE_60058--21050  PRODUCT_CDE_60126--21050  \\\n",
       "0                       0.0                       0.0   \n",
       "1                       0.0                       0.0   \n",
       "2                       0.0                       1.0   \n",
       "3                       0.0                       1.0   \n",
       "4                       1.0                       0.0   \n",
       "\n",
       "   PRODUCT_CDE_60127--21060  PRODUCT_CDE_60172--21060  AMT_CUR_LOG  \\\n",
       "0                       0.0                       0.0     0.835121   \n",
       "1                       0.0                       0.0    -0.359633   \n",
       "2                       0.0                       0.0    -0.359633   \n",
       "3                       0.0                       0.0    -0.089267   \n",
       "4                       0.0                       0.0     0.316119   \n",
       "\n",
       "   ACCT_USE_DAYS  RATE_FTP  INTEREST_RATE     KYHAN  \n",
       "0           -2.0  0.265916      -1.192308  1.000000  \n",
       "1           -5.0 -0.729730      -2.115385 -1.000000  \n",
       "2           -1.0 -0.718919      -0.423077 -1.000000  \n",
       "3           -1.0 -0.670270      -0.500000 -1.000000  \n",
       "4           -1.0  0.437838      -0.576923  0.333333  "
      ]
     },
     "execution_count": 74,
     "metadata": {},
     "output_type": "execute_result"
    }
   ],
   "source": [
    "df_mm.head()"
   ]
  },
  {
   "cell_type": "code",
   "execution_count": 133,
   "metadata": {},
   "outputs": [
    {
     "name": "stdout",
     "output_type": "stream",
     "text": [
      "<class 'pandas.core.frame.DataFrame'>\n",
      "RangeIndex: 1015318 entries, 0 to 1015317\n",
      "Data columns (total 11 columns):\n",
      "PRODUCT_CDE_60036--21060    1015318 non-null float64\n",
      "PRODUCT_CDE_60052--21060    1015318 non-null float64\n",
      "PRODUCT_CDE_60058--21050    1015318 non-null float64\n",
      "PRODUCT_CDE_60126--21050    1015318 non-null float64\n",
      "PRODUCT_CDE_60127--21060    1015318 non-null float64\n",
      "PRODUCT_CDE_60172--21060    1015318 non-null float64\n",
      "AMT_CUR_LOG                 1015318 non-null float64\n",
      "ACCT_USE_DAYS               1015318 non-null float64\n",
      "RATE_FTP                    1015318 non-null float64\n",
      "INTEREST_RATE               1015318 non-null float64\n",
      "KYHAN                       1015318 non-null float64\n",
      "dtypes: float64(11)\n",
      "memory usage: 85.2 MB\n"
     ]
    }
   ],
   "source": [
    "df_mm.info()"
   ]
  },
  {
   "cell_type": "code",
   "execution_count": 132,
   "metadata": {},
   "outputs": [
    {
     "data": {
      "text/html": [
       "<div>\n",
       "<style scoped>\n",
       "    .dataframe tbody tr th:only-of-type {\n",
       "        vertical-align: middle;\n",
       "    }\n",
       "\n",
       "    .dataframe tbody tr th {\n",
       "        vertical-align: top;\n",
       "    }\n",
       "\n",
       "    .dataframe thead th {\n",
       "        text-align: right;\n",
       "    }\n",
       "</style>\n",
       "<table border=\"1\" class=\"dataframe\">\n",
       "  <thead>\n",
       "    <tr style=\"text-align: right;\">\n",
       "      <th></th>\n",
       "      <th>PRODUCT_CDE_60052--21060</th>\n",
       "      <th>count</th>\n",
       "    </tr>\n",
       "  </thead>\n",
       "  <tbody>\n",
       "    <tr>\n",
       "      <td>0</td>\n",
       "      <td>0.0</td>\n",
       "      <td>816412</td>\n",
       "    </tr>\n",
       "    <tr>\n",
       "      <td>1</td>\n",
       "      <td>1.0</td>\n",
       "      <td>198906</td>\n",
       "    </tr>\n",
       "  </tbody>\n",
       "</table>\n",
       "</div>"
      ],
      "text/plain": [
       "   PRODUCT_CDE_60052--21060   count\n",
       "0                       0.0  816412\n",
       "1                       1.0  198906"
      ]
     },
     "execution_count": 132,
     "metadata": {},
     "output_type": "execute_result"
    }
   ],
   "source": [
    "df_mm.groupby('PRODUCT_CDE_60052--21060')['PRODUCT_CDE_60052--21060'].count().reset_index(name='count').sort_values(['count'],ascending=False)"
   ]
  },
  {
   "cell_type": "code",
   "execution_count": 75,
   "metadata": {},
   "outputs": [
    {
     "data": {
      "text/plain": [
       "1015318"
      ]
     },
     "execution_count": 75,
     "metadata": {},
     "output_type": "execute_result"
    }
   ],
   "source": [
    "len(df_mm)"
   ]
  },
  {
   "cell_type": "code",
   "execution_count": 76,
   "metadata": {},
   "outputs": [],
   "source": [
    "from sklearn.model_selection import train_test_split\n",
    "X_train, X_test, y_train, y_test = train_test_split(df_mm, temp['TOI_LOG'], test_size=0.2, random_state=42)"
   ]
  },
  {
   "cell_type": "code",
   "execution_count": 77,
   "metadata": {},
   "outputs": [],
   "source": [
    "from sklearn.metrics import mean_squared_error, r2_score"
   ]
  },
  {
   "cell_type": "code",
   "execution_count": 620,
   "metadata": {},
   "outputs": [],
   "source": [
    "# from sklearn.ensemble import RandomForestRegressor\n",
    "\n",
    "# rfr = RandomForestRegressor()\n",
    "# rfr.fit(X_train, y_train)\n",
    "# y_pred_rf = rfr.predict(X_test)"
   ]
  },
  {
   "cell_type": "code",
   "execution_count": 78,
   "metadata": {},
   "outputs": [],
   "source": [
    "import xgboost as xgb\n",
    "\n",
    "rfr = xgb.XGBRegressor(learning_rate=0.05,max_depth=4,n_estimators=5000)\n",
    "rfr.fit(X_train, y_train)\n",
    "y_pred_rf = rfr.predict(X_test)"
   ]
  },
  {
   "cell_type": "code",
   "execution_count": 79,
   "metadata": {},
   "outputs": [
    {
     "name": "stdout",
     "output_type": "stream",
     "text": [
      "MSE        = 0.0098\n",
      "R-squared   = 0.9895\n"
     ]
    }
   ],
   "source": [
    "# print(f'RMSE        = {mean_squared_error(y_test, y_pred_rf)**0.5:.4f}')\n",
    "print(f'MSE        = {mean_squared_error(y_test, y_pred_rf):.4f}')\n",
    "print(f'R-squared   = {r2_score(y_test, y_pred_rf):.4f}')"
   ]
  },
  {
   "cell_type": "code",
   "execution_count": 80,
   "metadata": {},
   "outputs": [],
   "source": [
    "y_test = y_test.reset_index(drop=True)\n",
    "y_test_ser = pd.Series(y_test)\n",
    "y_pred_rf_ser = pd.Series(y_pred_rf)\n",
    "data_result2  = pd.concat([y_pred_rf_ser, y_test_ser], axis=1, keys=['TOI_LOAN_PREDICT', 'TOI_LOAN_ACTUAL'])"
   ]
  },
  {
   "cell_type": "code",
   "execution_count": 81,
   "metadata": {},
   "outputs": [],
   "source": [
    "data_result2 = np.exp(data_result2)"
   ]
  },
  {
   "cell_type": "code",
   "execution_count": 82,
   "metadata": {},
   "outputs": [
    {
     "data": {
      "text/html": [
       "<div>\n",
       "<style scoped>\n",
       "    .dataframe tbody tr th:only-of-type {\n",
       "        vertical-align: middle;\n",
       "    }\n",
       "\n",
       "    .dataframe tbody tr th {\n",
       "        vertical-align: top;\n",
       "    }\n",
       "\n",
       "    .dataframe thead th {\n",
       "        text-align: right;\n",
       "    }\n",
       "</style>\n",
       "<table border=\"1\" class=\"dataframe\">\n",
       "  <thead>\n",
       "    <tr style=\"text-align: right;\">\n",
       "      <th></th>\n",
       "      <th>TOI_LOAN_PREDICT</th>\n",
       "      <th>TOI_LOAN_ACTUAL</th>\n",
       "    </tr>\n",
       "  </thead>\n",
       "  <tbody>\n",
       "    <tr>\n",
       "      <td>0</td>\n",
       "      <td>1.329471e+05</td>\n",
       "      <td>1.360685e+05</td>\n",
       "    </tr>\n",
       "    <tr>\n",
       "      <td>1</td>\n",
       "      <td>5.179148e+05</td>\n",
       "      <td>5.146849e+05</td>\n",
       "    </tr>\n",
       "    <tr>\n",
       "      <td>2</td>\n",
       "      <td>6.112430e+05</td>\n",
       "      <td>7.044881e+05</td>\n",
       "    </tr>\n",
       "    <tr>\n",
       "      <td>3</td>\n",
       "      <td>9.147544e+05</td>\n",
       "      <td>9.192150e+05</td>\n",
       "    </tr>\n",
       "    <tr>\n",
       "      <td>4</td>\n",
       "      <td>3.371568e+04</td>\n",
       "      <td>3.427945e+04</td>\n",
       "    </tr>\n",
       "    <tr>\n",
       "      <td>5</td>\n",
       "      <td>6.375235e+04</td>\n",
       "      <td>6.076389e+04</td>\n",
       "    </tr>\n",
       "    <tr>\n",
       "      <td>6</td>\n",
       "      <td>1.176912e+05</td>\n",
       "      <td>1.185000e+05</td>\n",
       "    </tr>\n",
       "    <tr>\n",
       "      <td>7</td>\n",
       "      <td>1.353744e+05</td>\n",
       "      <td>1.464110e+05</td>\n",
       "    </tr>\n",
       "    <tr>\n",
       "      <td>8</td>\n",
       "      <td>6.623082e+05</td>\n",
       "      <td>6.524333e+05</td>\n",
       "    </tr>\n",
       "    <tr>\n",
       "      <td>9</td>\n",
       "      <td>4.291290e+05</td>\n",
       "      <td>4.719406e+05</td>\n",
       "    </tr>\n",
       "    <tr>\n",
       "      <td>10</td>\n",
       "      <td>2.049119e+05</td>\n",
       "      <td>2.016446e+05</td>\n",
       "    </tr>\n",
       "    <tr>\n",
       "      <td>11</td>\n",
       "      <td>4.287032e+05</td>\n",
       "      <td>4.325274e+05</td>\n",
       "    </tr>\n",
       "    <tr>\n",
       "      <td>12</td>\n",
       "      <td>3.380430e+05</td>\n",
       "      <td>3.491507e+05</td>\n",
       "    </tr>\n",
       "    <tr>\n",
       "      <td>13</td>\n",
       "      <td>4.359371e+05</td>\n",
       "      <td>4.399045e+05</td>\n",
       "    </tr>\n",
       "    <tr>\n",
       "      <td>14</td>\n",
       "      <td>3.130549e+05</td>\n",
       "      <td>3.004826e+05</td>\n",
       "    </tr>\n",
       "    <tr>\n",
       "      <td>15</td>\n",
       "      <td>9.360855e+05</td>\n",
       "      <td>9.380795e+05</td>\n",
       "    </tr>\n",
       "    <tr>\n",
       "      <td>16</td>\n",
       "      <td>6.814890e+05</td>\n",
       "      <td>6.668304e+05</td>\n",
       "    </tr>\n",
       "    <tr>\n",
       "      <td>17</td>\n",
       "      <td>2.338099e+05</td>\n",
       "      <td>2.356032e+05</td>\n",
       "    </tr>\n",
       "    <tr>\n",
       "      <td>18</td>\n",
       "      <td>8.690701e+06</td>\n",
       "      <td>8.464361e+06</td>\n",
       "    </tr>\n",
       "    <tr>\n",
       "      <td>19</td>\n",
       "      <td>2.290184e+05</td>\n",
       "      <td>2.304603e+05</td>\n",
       "    </tr>\n",
       "  </tbody>\n",
       "</table>\n",
       "</div>"
      ],
      "text/plain": [
       "    TOI_LOAN_PREDICT  TOI_LOAN_ACTUAL\n",
       "0       1.329471e+05     1.360685e+05\n",
       "1       5.179148e+05     5.146849e+05\n",
       "2       6.112430e+05     7.044881e+05\n",
       "3       9.147544e+05     9.192150e+05\n",
       "4       3.371568e+04     3.427945e+04\n",
       "5       6.375235e+04     6.076389e+04\n",
       "6       1.176912e+05     1.185000e+05\n",
       "7       1.353744e+05     1.464110e+05\n",
       "8       6.623082e+05     6.524333e+05\n",
       "9       4.291290e+05     4.719406e+05\n",
       "10      2.049119e+05     2.016446e+05\n",
       "11      4.287032e+05     4.325274e+05\n",
       "12      3.380430e+05     3.491507e+05\n",
       "13      4.359371e+05     4.399045e+05\n",
       "14      3.130549e+05     3.004826e+05\n",
       "15      9.360855e+05     9.380795e+05\n",
       "16      6.814890e+05     6.668304e+05\n",
       "17      2.338099e+05     2.356032e+05\n",
       "18      8.690701e+06     8.464361e+06\n",
       "19      2.290184e+05     2.304603e+05"
      ]
     },
     "execution_count": 82,
     "metadata": {},
     "output_type": "execute_result"
    }
   ],
   "source": [
    "data_result2.head(20)"
   ]
  },
  {
   "cell_type": "code",
   "execution_count": 83,
   "metadata": {},
   "outputs": [],
   "source": [
    "data_result2['TOI_STD']=abs(data_result2['TOI_LOAN_ACTUAL']-data_result2['TOI_LOAN_PREDICT'])"
   ]
  },
  {
   "cell_type": "code",
   "execution_count": 86,
   "metadata": {},
   "outputs": [
    {
     "data": {
      "text/html": [
       "<div>\n",
       "<style scoped>\n",
       "    .dataframe tbody tr th:only-of-type {\n",
       "        vertical-align: middle;\n",
       "    }\n",
       "\n",
       "    .dataframe tbody tr th {\n",
       "        vertical-align: top;\n",
       "    }\n",
       "\n",
       "    .dataframe thead th {\n",
       "        text-align: right;\n",
       "    }\n",
       "</style>\n",
       "<table border=\"1\" class=\"dataframe\">\n",
       "  <thead>\n",
       "    <tr style=\"text-align: right;\">\n",
       "      <th></th>\n",
       "      <th>TOI_LOAN_PREDICT</th>\n",
       "      <th>TOI_LOAN_ACTUAL</th>\n",
       "      <th>TOI_STD</th>\n",
       "    </tr>\n",
       "  </thead>\n",
       "  <tbody>\n",
       "    <tr>\n",
       "      <td>100036</td>\n",
       "      <td>1.427867e+07</td>\n",
       "      <td>1.442733e+07</td>\n",
       "      <td>1.486609e+05</td>\n",
       "    </tr>\n",
       "    <tr>\n",
       "      <td>34782</td>\n",
       "      <td>1.385315e+07</td>\n",
       "      <td>1.426849e+07</td>\n",
       "      <td>4.153441e+05</td>\n",
       "    </tr>\n",
       "    <tr>\n",
       "      <td>184166</td>\n",
       "      <td>1.401826e+07</td>\n",
       "      <td>1.394484e+07</td>\n",
       "      <td>7.342515e+04</td>\n",
       "    </tr>\n",
       "    <tr>\n",
       "      <td>138299</td>\n",
       "      <td>1.406261e+07</td>\n",
       "      <td>1.249399e+07</td>\n",
       "      <td>1.568619e+06</td>\n",
       "    </tr>\n",
       "    <tr>\n",
       "      <td>32364</td>\n",
       "      <td>1.138065e+07</td>\n",
       "      <td>1.167583e+07</td>\n",
       "      <td>2.951809e+05</td>\n",
       "    </tr>\n",
       "    <tr>\n",
       "      <td>61393</td>\n",
       "      <td>1.071800e+07</td>\n",
       "      <td>1.149467e+07</td>\n",
       "      <td>7.766664e+05</td>\n",
       "    </tr>\n",
       "    <tr>\n",
       "      <td>178518</td>\n",
       "      <td>9.200840e+06</td>\n",
       "      <td>9.653146e+06</td>\n",
       "      <td>4.523062e+05</td>\n",
       "    </tr>\n",
       "    <tr>\n",
       "      <td>72930</td>\n",
       "      <td>9.080561e+06</td>\n",
       "      <td>9.633633e+06</td>\n",
       "      <td>5.530726e+05</td>\n",
       "    </tr>\n",
       "    <tr>\n",
       "      <td>32215</td>\n",
       "      <td>8.426948e+06</td>\n",
       "      <td>8.944207e+06</td>\n",
       "      <td>5.172592e+05</td>\n",
       "    </tr>\n",
       "    <tr>\n",
       "      <td>18</td>\n",
       "      <td>8.690701e+06</td>\n",
       "      <td>8.464361e+06</td>\n",
       "      <td>2.263396e+05</td>\n",
       "    </tr>\n",
       "    <tr>\n",
       "      <td>66757</td>\n",
       "      <td>8.132430e+06</td>\n",
       "      <td>8.154702e+06</td>\n",
       "      <td>2.227201e+04</td>\n",
       "    </tr>\n",
       "    <tr>\n",
       "      <td>61311</td>\n",
       "      <td>8.247509e+06</td>\n",
       "      <td>8.150000e+06</td>\n",
       "      <td>9.750852e+04</td>\n",
       "    </tr>\n",
       "    <tr>\n",
       "      <td>71119</td>\n",
       "      <td>7.040314e+06</td>\n",
       "      <td>7.964489e+06</td>\n",
       "      <td>9.241753e+05</td>\n",
       "    </tr>\n",
       "    <tr>\n",
       "      <td>104293</td>\n",
       "      <td>7.895342e+06</td>\n",
       "      <td>7.945914e+06</td>\n",
       "      <td>5.057219e+04</td>\n",
       "    </tr>\n",
       "    <tr>\n",
       "      <td>190953</td>\n",
       "      <td>7.377320e+06</td>\n",
       "      <td>7.846998e+06</td>\n",
       "      <td>4.696783e+05</td>\n",
       "    </tr>\n",
       "    <tr>\n",
       "      <td>151422</td>\n",
       "      <td>7.052779e+06</td>\n",
       "      <td>7.783357e+06</td>\n",
       "      <td>7.305780e+05</td>\n",
       "    </tr>\n",
       "    <tr>\n",
       "      <td>143988</td>\n",
       "      <td>7.084172e+06</td>\n",
       "      <td>7.696828e+06</td>\n",
       "      <td>6.126552e+05</td>\n",
       "    </tr>\n",
       "    <tr>\n",
       "      <td>1008</td>\n",
       "      <td>7.033562e+06</td>\n",
       "      <td>7.600340e+06</td>\n",
       "      <td>5.667780e+05</td>\n",
       "    </tr>\n",
       "    <tr>\n",
       "      <td>135181</td>\n",
       "      <td>1.384448e+06</td>\n",
       "      <td>7.518333e+06</td>\n",
       "      <td>6.133886e+06</td>\n",
       "    </tr>\n",
       "    <tr>\n",
       "      <td>194942</td>\n",
       "      <td>8.123949e+06</td>\n",
       "      <td>7.492485e+06</td>\n",
       "      <td>6.314643e+05</td>\n",
       "    </tr>\n",
       "    <tr>\n",
       "      <td>165940</td>\n",
       "      <td>1.022465e+07</td>\n",
       "      <td>7.441079e+06</td>\n",
       "      <td>2.783573e+06</td>\n",
       "    </tr>\n",
       "    <tr>\n",
       "      <td>180649</td>\n",
       "      <td>6.989904e+06</td>\n",
       "      <td>7.270137e+06</td>\n",
       "      <td>2.802333e+05</td>\n",
       "    </tr>\n",
       "    <tr>\n",
       "      <td>126362</td>\n",
       "      <td>7.108400e+06</td>\n",
       "      <td>7.174712e+06</td>\n",
       "      <td>6.631221e+04</td>\n",
       "    </tr>\n",
       "    <tr>\n",
       "      <td>199613</td>\n",
       "      <td>6.785341e+06</td>\n",
       "      <td>7.173036e+06</td>\n",
       "      <td>3.876950e+05</td>\n",
       "    </tr>\n",
       "    <tr>\n",
       "      <td>21553</td>\n",
       "      <td>7.018901e+06</td>\n",
       "      <td>7.159167e+06</td>\n",
       "      <td>1.402655e+05</td>\n",
       "    </tr>\n",
       "    <tr>\n",
       "      <td>81179</td>\n",
       "      <td>6.763305e+06</td>\n",
       "      <td>7.154252e+06</td>\n",
       "      <td>3.909476e+05</td>\n",
       "    </tr>\n",
       "    <tr>\n",
       "      <td>102376</td>\n",
       "      <td>7.183486e+06</td>\n",
       "      <td>7.142917e+06</td>\n",
       "      <td>4.056935e+04</td>\n",
       "    </tr>\n",
       "    <tr>\n",
       "      <td>124613</td>\n",
       "      <td>6.811314e+06</td>\n",
       "      <td>7.122187e+06</td>\n",
       "      <td>3.108738e+05</td>\n",
       "    </tr>\n",
       "    <tr>\n",
       "      <td>88719</td>\n",
       "      <td>6.445305e+06</td>\n",
       "      <td>7.077156e+06</td>\n",
       "      <td>6.318502e+05</td>\n",
       "    </tr>\n",
       "    <tr>\n",
       "      <td>24647</td>\n",
       "      <td>6.771049e+06</td>\n",
       "      <td>7.069679e+06</td>\n",
       "      <td>2.986302e+05</td>\n",
       "    </tr>\n",
       "    <tr>\n",
       "      <td>89821</td>\n",
       "      <td>6.733269e+06</td>\n",
       "      <td>6.990147e+06</td>\n",
       "      <td>2.568774e+05</td>\n",
       "    </tr>\n",
       "    <tr>\n",
       "      <td>157828</td>\n",
       "      <td>7.679697e+06</td>\n",
       "      <td>6.983123e+06</td>\n",
       "      <td>6.965740e+05</td>\n",
       "    </tr>\n",
       "    <tr>\n",
       "      <td>85730</td>\n",
       "      <td>7.760877e+06</td>\n",
       "      <td>6.975507e+06</td>\n",
       "      <td>7.853702e+05</td>\n",
       "    </tr>\n",
       "    <tr>\n",
       "      <td>24371</td>\n",
       "      <td>6.996693e+06</td>\n",
       "      <td>6.969863e+06</td>\n",
       "      <td>2.683009e+04</td>\n",
       "    </tr>\n",
       "    <tr>\n",
       "      <td>150332</td>\n",
       "      <td>6.699955e+06</td>\n",
       "      <td>6.955051e+06</td>\n",
       "      <td>2.550967e+05</td>\n",
       "    </tr>\n",
       "    <tr>\n",
       "      <td>87025</td>\n",
       "      <td>6.805496e+06</td>\n",
       "      <td>6.924542e+06</td>\n",
       "      <td>1.190459e+05</td>\n",
       "    </tr>\n",
       "    <tr>\n",
       "      <td>72182</td>\n",
       "      <td>6.677667e+06</td>\n",
       "      <td>6.813973e+06</td>\n",
       "      <td>1.363060e+05</td>\n",
       "    </tr>\n",
       "    <tr>\n",
       "      <td>173854</td>\n",
       "      <td>6.588047e+06</td>\n",
       "      <td>6.793611e+06</td>\n",
       "      <td>2.055640e+05</td>\n",
       "    </tr>\n",
       "    <tr>\n",
       "      <td>156052</td>\n",
       "      <td>6.999169e+06</td>\n",
       "      <td>6.780176e+06</td>\n",
       "      <td>2.189928e+05</td>\n",
       "    </tr>\n",
       "    <tr>\n",
       "      <td>11951</td>\n",
       "      <td>6.999169e+06</td>\n",
       "      <td>6.780176e+06</td>\n",
       "      <td>2.189928e+05</td>\n",
       "    </tr>\n",
       "  </tbody>\n",
       "</table>\n",
       "</div>"
      ],
      "text/plain": [
       "        TOI_LOAN_PREDICT  TOI_LOAN_ACTUAL       TOI_STD\n",
       "100036      1.427867e+07     1.442733e+07  1.486609e+05\n",
       "34782       1.385315e+07     1.426849e+07  4.153441e+05\n",
       "184166      1.401826e+07     1.394484e+07  7.342515e+04\n",
       "138299      1.406261e+07     1.249399e+07  1.568619e+06\n",
       "32364       1.138065e+07     1.167583e+07  2.951809e+05\n",
       "61393       1.071800e+07     1.149467e+07  7.766664e+05\n",
       "178518      9.200840e+06     9.653146e+06  4.523062e+05\n",
       "72930       9.080561e+06     9.633633e+06  5.530726e+05\n",
       "32215       8.426948e+06     8.944207e+06  5.172592e+05\n",
       "18          8.690701e+06     8.464361e+06  2.263396e+05\n",
       "66757       8.132430e+06     8.154702e+06  2.227201e+04\n",
       "61311       8.247509e+06     8.150000e+06  9.750852e+04\n",
       "71119       7.040314e+06     7.964489e+06  9.241753e+05\n",
       "104293      7.895342e+06     7.945914e+06  5.057219e+04\n",
       "190953      7.377320e+06     7.846998e+06  4.696783e+05\n",
       "151422      7.052779e+06     7.783357e+06  7.305780e+05\n",
       "143988      7.084172e+06     7.696828e+06  6.126552e+05\n",
       "1008        7.033562e+06     7.600340e+06  5.667780e+05\n",
       "135181      1.384448e+06     7.518333e+06  6.133886e+06\n",
       "194942      8.123949e+06     7.492485e+06  6.314643e+05\n",
       "165940      1.022465e+07     7.441079e+06  2.783573e+06\n",
       "180649      6.989904e+06     7.270137e+06  2.802333e+05\n",
       "126362      7.108400e+06     7.174712e+06  6.631221e+04\n",
       "199613      6.785341e+06     7.173036e+06  3.876950e+05\n",
       "21553       7.018901e+06     7.159167e+06  1.402655e+05\n",
       "81179       6.763305e+06     7.154252e+06  3.909476e+05\n",
       "102376      7.183486e+06     7.142917e+06  4.056935e+04\n",
       "124613      6.811314e+06     7.122187e+06  3.108738e+05\n",
       "88719       6.445305e+06     7.077156e+06  6.318502e+05\n",
       "24647       6.771049e+06     7.069679e+06  2.986302e+05\n",
       "89821       6.733269e+06     6.990147e+06  2.568774e+05\n",
       "157828      7.679697e+06     6.983123e+06  6.965740e+05\n",
       "85730       7.760877e+06     6.975507e+06  7.853702e+05\n",
       "24371       6.996693e+06     6.969863e+06  2.683009e+04\n",
       "150332      6.699955e+06     6.955051e+06  2.550967e+05\n",
       "87025       6.805496e+06     6.924542e+06  1.190459e+05\n",
       "72182       6.677667e+06     6.813973e+06  1.363060e+05\n",
       "173854      6.588047e+06     6.793611e+06  2.055640e+05\n",
       "156052      6.999169e+06     6.780176e+06  2.189928e+05\n",
       "11951       6.999169e+06     6.780176e+06  2.189928e+05"
      ]
     },
     "execution_count": 86,
     "metadata": {},
     "output_type": "execute_result"
    }
   ],
   "source": [
    "data_result2.sort_values(by='TOI_LOAN_ACTUAL',ascending=False).head(40)"
   ]
  },
  {
   "cell_type": "code",
   "execution_count": 87,
   "metadata": {},
   "outputs": [
    {
     "data": {
      "image/png": "[encoded data removed]",
      "text/plain": [
       "<Figure size 1800x720 with 1 Axes>"
      ]
     },
     "metadata": {
      "needs_background": "light"
     },
     "output_type": "display_data"
    }
   ],
   "source": [
    "#Generate plot \n",
    "fig, ax = plt.subplots(figsize=(25,10))\n",
    "neighbors = np.arange(0,50)\n",
    "plt.title('Do thi so sanh giua kq toi_predict va toi_actual') \n",
    "plt.plot(neighbors, data_result2[(data_result2['TOI_LOAN_ACTUAL']>1000000)]['TOI_LOAN_ACTUAL'][0:50], label='Target value') \n",
    "plt.plot(neighbors, data_result2[(data_result2['TOI_LOAN_ACTUAL']>1000000)]['TOI_LOAN_PREDICT'][0:50], label='Predict value') \n",
    "plt.legend() \n",
    "plt.xlabel('Number of Customer') \n",
    "plt.ylabel('TOI_LOAN') \n",
    "plt.show()"
   ]
  },
  {
   "cell_type": "code",
   "execution_count": 88,
   "metadata": {
    "collapsed": true
   },
   "outputs": [
    {
     "name": "stdout",
     "output_type": "stream",
     "text": [
      "[0.00247652 0.00098028 0.00131967 0.00230495 0.00219269 0.00244265\n",
      " 0.40927815 0.2996181  0.075226   0.2027345  0.00142644]\n"
     ]
    },
    {
     "ename": "ValueError",
     "evalue": "Length of passed values is 11, index implies 7",
     "output_type": "error",
     "traceback": [
      "\u001b[1;31m---------------------------------------------------------------------------\u001b[0m",
      "\u001b[1;31mValueError\u001b[0m                                Traceback (most recent call last)",
      "\u001b[1;32m<ipython-input-88-4645e2071f47>\u001b[0m in \u001b[0;36m<module>\u001b[1;34m\u001b[0m\n\u001b[0;32m      1\u001b[0m \u001b[0mprint\u001b[0m\u001b[1;33m(\u001b[0m\u001b[0mrfr\u001b[0m\u001b[1;33m.\u001b[0m\u001b[0mfeature_importances_\u001b[0m\u001b[1;33m)\u001b[0m \u001b[1;31m#use inbuilt class feature_importances of tree based regressor\u001b[0m\u001b[1;33m\u001b[0m\u001b[1;33m\u001b[0m\u001b[0m\n\u001b[0;32m      2\u001b[0m \u001b[1;31m#plot graph of feature importances for better visualization\u001b[0m\u001b[1;33m\u001b[0m\u001b[1;33m\u001b[0m\u001b[1;33m\u001b[0m\u001b[0m\n\u001b[1;32m----> 3\u001b[1;33m \u001b[0mfeat_importances\u001b[0m \u001b[1;33m=\u001b[0m \u001b[0mpd\u001b[0m\u001b[1;33m.\u001b[0m\u001b[0mSeries\u001b[0m\u001b[1;33m(\u001b[0m\u001b[0mrfr\u001b[0m\u001b[1;33m.\u001b[0m\u001b[0mfeature_importances_\u001b[0m\u001b[1;33m,\u001b[0m \u001b[0mindex\u001b[0m\u001b[1;33m=\u001b[0m\u001b[0mcol_model\u001b[0m\u001b[1;33m)\u001b[0m\u001b[1;33m\u001b[0m\u001b[1;33m\u001b[0m\u001b[0m\n\u001b[0m\u001b[0;32m      4\u001b[0m \u001b[0mfeat_importances\u001b[0m\u001b[1;33m.\u001b[0m\u001b[0mnlargest\u001b[0m\u001b[1;33m(\u001b[0m\u001b[1;36m3\u001b[0m\u001b[1;33m)\u001b[0m\u001b[1;33m.\u001b[0m\u001b[0mplot\u001b[0m\u001b[1;33m(\u001b[0m\u001b[0mkind\u001b[0m\u001b[1;33m=\u001b[0m\u001b[1;34m'barh'\u001b[0m\u001b[1;33m)\u001b[0m\u001b[1;33m\u001b[0m\u001b[1;33m\u001b[0m\u001b[0m\n\u001b[0;32m      5\u001b[0m \u001b[0mplt\u001b[0m\u001b[1;33m.\u001b[0m\u001b[0mshow\u001b[0m\u001b[1;33m(\u001b[0m\u001b[1;33m)\u001b[0m\u001b[1;33m\u001b[0m\u001b[1;33m\u001b[0m\u001b[0m\n",
      "\u001b[1;32mD:\\Soft\\Setup_UAT_DA\\Winpython64-3.7.4.1\\WPy64-3741\\python-3.7.4.amd64\\lib\\site-packages\\pandas\\core\\series.py\u001b[0m in \u001b[0;36m__init__\u001b[1;34m(self, data, index, dtype, name, copy, fastpath)\u001b[0m\n\u001b[0;32m    297\u001b[0m                         raise ValueError(\n\u001b[0;32m    298\u001b[0m                             \u001b[1;34m\"Length of passed values is {val}, \"\u001b[0m\u001b[1;33m\u001b[0m\u001b[1;33m\u001b[0m\u001b[0m\n\u001b[1;32m--> 299\u001b[1;33m                             \u001b[1;34m\"index implies {ind}\"\u001b[0m\u001b[1;33m.\u001b[0m\u001b[0mformat\u001b[0m\u001b[1;33m(\u001b[0m\u001b[0mval\u001b[0m\u001b[1;33m=\u001b[0m\u001b[0mlen\u001b[0m\u001b[1;33m(\u001b[0m\u001b[0mdata\u001b[0m\u001b[1;33m)\u001b[0m\u001b[1;33m,\u001b[0m \u001b[0mind\u001b[0m\u001b[1;33m=\u001b[0m\u001b[0mlen\u001b[0m\u001b[1;33m(\u001b[0m\u001b[0mindex\u001b[0m\u001b[1;33m)\u001b[0m\u001b[1;33m)\u001b[0m\u001b[1;33m\u001b[0m\u001b[1;33m\u001b[0m\u001b[0m\n\u001b[0m\u001b[0;32m    300\u001b[0m                         )\n\u001b[0;32m    301\u001b[0m                 \u001b[1;32mexcept\u001b[0m \u001b[0mTypeError\u001b[0m\u001b[1;33m:\u001b[0m\u001b[1;33m\u001b[0m\u001b[1;33m\u001b[0m\u001b[0m\n",
      "\u001b[1;31mValueError\u001b[0m: Length of passed values is 11, index implies 7"
     ]
    }
   ],
   "source": [
    "print(rfr.feature_importances_) #use inbuilt class feature_importances of tree based regressor\n",
    "#plot graph of feature importances for better visualization\n",
    "feat_importances = pd.Series(rfr.feature_importances_, index=col_model)\n",
    "feat_importances.nlargest(3).plot(kind='barh')\n",
    "plt.show()"
   ]
  },
  {
   "cell_type": "code",
   "execution_count": 42,
   "metadata": {},
   "outputs": [],
   "source": [
    "# udfs ----\n",
    "\n",
    "# function for creating a feature importance dataframe\n",
    "def imp_df(column_names, importances):\n",
    "    df = pd.DataFrame({'feature': column_names,\n",
    "                       'feature_importance': importances}) \\\n",
    "           .sort_values('feature_importance', ascending = False) \\\n",
    "           .reset_index(drop = True)\n",
    "    return df\n",
    "\n",
    "# plotting a feature importance dataframe (horizontal barchart)\n",
    "def var_imp_plot(imp_df, title):\n",
    "    imp_df.columns = ['feature', 'feature_importance']\n",
    "    sns.barplot(x = 'feature_importance', y = 'feature', data = imp_df, orient = 'h', color = 'royalblue') \\\n",
    "       .set_title(title, fontsize = 20)"
   ]
  },
  {
   "cell_type": "code",
   "execution_count": 43,
   "metadata": {},
   "outputs": [
    {
     "data": {
      "text/html": [
       "<div>\n",
       "<style scoped>\n",
       "    .dataframe tbody tr th:only-of-type {\n",
       "        vertical-align: middle;\n",
       "    }\n",
       "\n",
       "    .dataframe tbody tr th {\n",
       "        vertical-align: top;\n",
       "    }\n",
       "\n",
       "    .dataframe thead th {\n",
       "        text-align: right;\n",
       "    }\n",
       "</style>\n",
       "<table border=\"1\" class=\"dataframe\">\n",
       "  <thead>\n",
       "    <tr style=\"text-align: right;\">\n",
       "      <th></th>\n",
       "      <th>feature</th>\n",
       "      <th>feature_importance</th>\n",
       "    </tr>\n",
       "  </thead>\n",
       "  <tbody>\n",
       "    <tr>\n",
       "      <td>0</td>\n",
       "      <td>AMT_CUR_LOG</td>\n",
       "      <td>0.999686</td>\n",
       "    </tr>\n",
       "    <tr>\n",
       "      <td>1</td>\n",
       "      <td>ACCT_USE_DAYS</td>\n",
       "      <td>0.000229</td>\n",
       "    </tr>\n",
       "    <tr>\n",
       "      <td>2</td>\n",
       "      <td>RATE_FTP_END</td>\n",
       "      <td>0.000045</td>\n",
       "    </tr>\n",
       "    <tr>\n",
       "      <td>3</td>\n",
       "      <td>INTEREST_RATE_END</td>\n",
       "      <td>0.000041</td>\n",
       "    </tr>\n",
       "  </tbody>\n",
       "</table>\n",
       "</div>"
      ],
      "text/plain": [
       "             feature  feature_importance\n",
       "0        AMT_CUR_LOG            0.999686\n",
       "1      ACCT_USE_DAYS            0.000229\n",
       "2       RATE_FTP_END            0.000045\n",
       "3  INTEREST_RATE_END            0.000041"
      ]
     },
     "execution_count": 43,
     "metadata": {},
     "output_type": "execute_result"
    }
   ],
   "source": [
    "base_imp = imp_df(input_col, rfr.feature_importances_)\n",
    "base_imp"
   ]
  },
  {
   "cell_type": "code",
   "execution_count": 89,
   "metadata": {},
   "outputs": [
    {
     "name": "stderr",
     "output_type": "stream",
     "text": [
      "D:\\Soft\\Setup_UAT_DA\\Winpython64-3.7.4.1\\WPy64-3741\\python-3.7.4.amd64\\lib\\site-packages\\sklearn\\externals\\joblib\\__init__.py:15: DeprecationWarning: sklearn.externals.joblib is deprecated in 0.21 and will be removed in 0.23. Please import this functionality directly from joblib, which can be installed with: pip install joblib. If this warning is raised when loading pickled models, you may need to re-serialize those models with scikit-learn 0.21+.\n",
      "  warnings.warn(msg, category=DeprecationWarning)\n"
     ]
    },
    {
     "data": {
      "text/plain": [
       "['xgb_toiloan_group01.pkl']"
      ]
     },
     "execution_count": 89,
     "metadata": {},
     "output_type": "execute_result"
    }
   ],
   "source": [
    "from sklearn.externals import joblib\n",
    "# Save the model as a pickle in a file  \n",
    "joblib.dump(rfr, 'xgb_toiloan_group01.pkl')"
   ]
  },
  {
   "cell_type": "code",
   "execution_count": 90,
   "metadata": {},
   "outputs": [
    {
     "data": {
      "text/plain": [
       "['xgb_toiloan_group01_scaler.pkl']"
      ]
     },
     "execution_count": 90,
     "metadata": {},
     "output_type": "execute_result"
    }
   ],
   "source": [
    "joblib.dump(robust, 'xgb_toiloan_group01_scaler.pkl')"
   ]
  },
  {
   "cell_type": "markdown",
   "metadata": {},
   "source": [
    "### TEST DATA 2020"
   ]
  },
  {
   "cell_type": "code",
   "execution_count": 91,
   "metadata": {},
   "outputs": [],
   "source": [
    "path = r'C:\\Users\\phongtn25381\\Downloads\\PHONGTN_TOI_PHASE2\\DP\\inference\\inference_toiloan_group01' # use your path\n",
    "all_files = glob.glob(path + \"/*.csv\")\n",
    "\n",
    "li = []\n",
    "\n",
    "for filename in all_files:\n",
    "    df_test = pd.read_csv(filename, index_col=None, header=0)\n",
    "    li.append(df_test)\n",
    "\n",
    "df_test = pd.concat(li, axis=0, ignore_index=True)"
   ]
  },
  {
   "cell_type": "code",
   "execution_count": 92,
   "metadata": {},
   "outputs": [
    {
     "name": "stdout",
     "output_type": "stream",
     "text": [
      "<class 'pandas.core.frame.DataFrame'>\n",
      "RangeIndex: 237302 entries, 0 to 237301\n",
      "Data columns (total 16 columns):\n",
      "CUSTOMER_CDE     237302 non-null int64\n",
      "PRODUCT_CDE      237302 non-null object\n",
      "LD_ID            237302 non-null object\n",
      "AMT_INIT         237302 non-null int64\n",
      "AMT_CUR          237302 non-null int64\n",
      "INTEREST_RATE    237302 non-null float64\n",
      "RATE_FTP         237302 non-null float64\n",
      "KYHAN            237302 non-null int64\n",
      "LOAITRAGOP       237302 non-null object\n",
      "MUCDICHVAY       237302 non-null int64\n",
      "LMV              237302 non-null float64\n",
      "LBV              237302 non-null float64\n",
      "ACCT_USE_DAYS    237302 non-null int64\n",
      "TOI              237302 non-null float64\n",
      "PROCESS_MONTH    237302 non-null int64\n",
      "PROCESS_YEAR     237302 non-null int64\n",
      "dtypes: float64(5), int64(8), object(3)\n",
      "memory usage: 29.0+ MB\n"
     ]
    }
   ],
   "source": [
    "df_test.info()"
   ]
  },
  {
   "cell_type": "code",
   "execution_count": 96,
   "metadata": {},
   "outputs": [
    {
     "data": {
      "text/html": [
       "<div>\n",
       "<style scoped>\n",
       "    .dataframe tbody tr th:only-of-type {\n",
       "        vertical-align: middle;\n",
       "    }\n",
       "\n",
       "    .dataframe tbody tr th {\n",
       "        vertical-align: top;\n",
       "    }\n",
       "\n",
       "    .dataframe thead th {\n",
       "        text-align: right;\n",
       "    }\n",
       "</style>\n",
       "<table border=\"1\" class=\"dataframe\">\n",
       "  <thead>\n",
       "    <tr style=\"text-align: right;\">\n",
       "      <th></th>\n",
       "      <th>LOAITRAGOP</th>\n",
       "      <th>count</th>\n",
       "    </tr>\n",
       "  </thead>\n",
       "  <tbody>\n",
       "    <tr>\n",
       "      <td>1</td>\n",
       "      <td>E</td>\n",
       "      <td>156419</td>\n",
       "    </tr>\n",
       "    <tr>\n",
       "      <td>2</td>\n",
       "      <td>S</td>\n",
       "      <td>65955</td>\n",
       "    </tr>\n",
       "    <tr>\n",
       "      <td>0</td>\n",
       "      <td>B</td>\n",
       "      <td>14928</td>\n",
       "    </tr>\n",
       "  </tbody>\n",
       "</table>\n",
       "</div>"
      ],
      "text/plain": [
       "  LOAITRAGOP   count\n",
       "1          E  156419\n",
       "2          S   65955\n",
       "0          B   14928"
      ]
     },
     "execution_count": 96,
     "metadata": {},
     "output_type": "execute_result"
    }
   ],
   "source": [
    "df_test.groupby('LOAITRAGOP')['LOAITRAGOP'].count().reset_index(name='count').sort_values(['count'],ascending=False)"
   ]
  },
  {
   "cell_type": "code",
   "execution_count": 147,
   "metadata": {},
   "outputs": [],
   "source": [
    "df_b_test = df_test[(df_test.LOAITRAGOP =='E') | (df_test.LOAITRAGOP =='B')]"
   ]
  },
  {
   "cell_type": "code",
   "execution_count": 148,
   "metadata": {},
   "outputs": [
    {
     "data": {
      "text/plain": [
       "171347"
      ]
     },
     "execution_count": 148,
     "metadata": {},
     "output_type": "execute_result"
    }
   ],
   "source": [
    "len(df_b_test)"
   ]
  },
  {
   "cell_type": "code",
   "execution_count": 149,
   "metadata": {},
   "outputs": [],
   "source": [
    "df_b_test = df_b_test.reset_index(drop=True)"
   ]
  },
  {
   "cell_type": "code",
   "execution_count": 150,
   "metadata": {},
   "outputs": [
    {
     "data": {
      "text/plain": [
       "CUSTOMER_CDE     8291\n",
       "PRODUCT_CDE      8291\n",
       "LD_ID            8291\n",
       "AMT_INIT         8291\n",
       "AMT_CUR          8291\n",
       "INTEREST_RATE    8291\n",
       "RATE_FTP         8291\n",
       "KYHAN            8291\n",
       "LOAITRAGOP       8291\n",
       "MUCDICHVAY       8291\n",
       "LMV              8291\n",
       "LBV              8291\n",
       "ACCT_USE_DAYS    8291\n",
       "TOI              8291\n",
       "PROCESS_MONTH    8291\n",
       "PROCESS_YEAR     8291\n",
       "dtype: int64"
      ]
     },
     "execution_count": 150,
     "metadata": {},
     "output_type": "execute_result"
    }
   ],
   "source": [
    "df_b_test[df_b_test['AMT_CUR']<=1].count()"
   ]
  },
  {
   "cell_type": "code",
   "execution_count": 151,
   "metadata": {},
   "outputs": [],
   "source": [
    "df_b_test.drop(df_b_test[df_b_test['AMT_CUR']<=1].index,inplace=True)"
   ]
  },
  {
   "cell_type": "code",
   "execution_count": 154,
   "metadata": {},
   "outputs": [
    {
     "data": {
      "text/plain": [
       "CUSTOMER_CDE     107\n",
       "PRODUCT_CDE      107\n",
       "LD_ID            107\n",
       "AMT_INIT         107\n",
       "AMT_CUR          107\n",
       "INTEREST_RATE    107\n",
       "RATE_FTP         107\n",
       "KYHAN            107\n",
       "LOAITRAGOP       107\n",
       "MUCDICHVAY       107\n",
       "LMV              107\n",
       "LBV              107\n",
       "ACCT_USE_DAYS    107\n",
       "TOI              107\n",
       "PROCESS_MONTH    107\n",
       "PROCESS_YEAR     107\n",
       "dtype: int64"
      ]
     },
     "execution_count": 154,
     "metadata": {},
     "output_type": "execute_result"
    }
   ],
   "source": [
    "df_b_test[df_b_test['TOI']<=1].count()"
   ]
  },
  {
   "cell_type": "code",
   "execution_count": 155,
   "metadata": {},
   "outputs": [],
   "source": [
    "df_b_test.drop(df_b_test[df_b_test['TOI']<=1].index,inplace=True)"
   ]
  },
  {
   "cell_type": "code",
   "execution_count": 156,
   "metadata": {},
   "outputs": [
    {
     "data": {
      "text/html": [
       "<div>\n",
       "<style scoped>\n",
       "    .dataframe tbody tr th:only-of-type {\n",
       "        vertical-align: middle;\n",
       "    }\n",
       "\n",
       "    .dataframe tbody tr th {\n",
       "        vertical-align: top;\n",
       "    }\n",
       "\n",
       "    .dataframe thead th {\n",
       "        text-align: right;\n",
       "    }\n",
       "</style>\n",
       "<table border=\"1\" class=\"dataframe\">\n",
       "  <thead>\n",
       "    <tr style=\"text-align: right;\">\n",
       "      <th></th>\n",
       "      <th>PRODUCT_CDE</th>\n",
       "      <th>count</th>\n",
       "    </tr>\n",
       "  </thead>\n",
       "  <tbody>\n",
       "    <tr>\n",
       "      <td>6</td>\n",
       "      <td>60172--21060</td>\n",
       "      <td>56564</td>\n",
       "    </tr>\n",
       "    <tr>\n",
       "      <td>4</td>\n",
       "      <td>60126--21050</td>\n",
       "      <td>29751</td>\n",
       "    </tr>\n",
       "    <tr>\n",
       "      <td>5</td>\n",
       "      <td>60127--21060</td>\n",
       "      <td>28322</td>\n",
       "    </tr>\n",
       "    <tr>\n",
       "      <td>1</td>\n",
       "      <td>60052--21060</td>\n",
       "      <td>27549</td>\n",
       "    </tr>\n",
       "    <tr>\n",
       "      <td>2</td>\n",
       "      <td>60058--21050</td>\n",
       "      <td>20735</td>\n",
       "    </tr>\n",
       "    <tr>\n",
       "      <td>3</td>\n",
       "      <td>60058--21060</td>\n",
       "      <td>15</td>\n",
       "    </tr>\n",
       "    <tr>\n",
       "      <td>0</td>\n",
       "      <td>60052--21050</td>\n",
       "      <td>13</td>\n",
       "    </tr>\n",
       "  </tbody>\n",
       "</table>\n",
       "</div>"
      ],
      "text/plain": [
       "    PRODUCT_CDE  count\n",
       "6  60172--21060  56564\n",
       "4  60126--21050  29751\n",
       "5  60127--21060  28322\n",
       "1  60052--21060  27549\n",
       "2  60058--21050  20735\n",
       "3  60058--21060     15\n",
       "0  60052--21050     13"
      ]
     },
     "execution_count": 156,
     "metadata": {},
     "output_type": "execute_result"
    }
   ],
   "source": [
    "df_b_test.groupby('PRODUCT_CDE')['PRODUCT_CDE'].count().reset_index(name='count').sort_values(['count'],ascending=False)"
   ]
  },
  {
   "cell_type": "code",
   "execution_count": null,
   "metadata": {},
   "outputs": [],
   "source": [
    "\"\"\"\n",
    "'60172--21060'\n",
    ",'60127--21060'\n",
    ",'60126--21050'\n",
    ",--'60036--21060'\n",
    ",'60058--21050'\n",
    ",'60052--21060'\n",
    "\"\"\""
   ]
  },
  {
   "cell_type": "code",
   "execution_count": 157,
   "metadata": {},
   "outputs": [],
   "source": [
    "list_A = ['60172--21060'\n",
    ",'60127--21060'\n",
    ",'60126--21050'\n",
    ",'60058--21050'\n",
    ",'60052--21060']"
   ]
  },
  {
   "cell_type": "code",
   "execution_count": 158,
   "metadata": {},
   "outputs": [],
   "source": [
    "df_b_test = df_b_test[df_b_test['PRODUCT_CDE'].isin(list_A)]"
   ]
  },
  {
   "cell_type": "code",
   "execution_count": 160,
   "metadata": {},
   "outputs": [],
   "source": [
    "df_b_test = df_b_test.reset_index(drop=True)"
   ]
  },
  {
   "cell_type": "code",
   "execution_count": 161,
   "metadata": {},
   "outputs": [
    {
     "data": {
      "text/html": [
       "<div>\n",
       "<style scoped>\n",
       "    .dataframe tbody tr th:only-of-type {\n",
       "        vertical-align: middle;\n",
       "    }\n",
       "\n",
       "    .dataframe tbody tr th {\n",
       "        vertical-align: top;\n",
       "    }\n",
       "\n",
       "    .dataframe thead th {\n",
       "        text-align: right;\n",
       "    }\n",
       "</style>\n",
       "<table border=\"1\" class=\"dataframe\">\n",
       "  <thead>\n",
       "    <tr style=\"text-align: right;\">\n",
       "      <th></th>\n",
       "      <th>PRODUCT_CDE</th>\n",
       "      <th>count</th>\n",
       "    </tr>\n",
       "  </thead>\n",
       "  <tbody>\n",
       "    <tr>\n",
       "      <td>4</td>\n",
       "      <td>60172--21060</td>\n",
       "      <td>56564</td>\n",
       "    </tr>\n",
       "    <tr>\n",
       "      <td>2</td>\n",
       "      <td>60126--21050</td>\n",
       "      <td>29751</td>\n",
       "    </tr>\n",
       "    <tr>\n",
       "      <td>3</td>\n",
       "      <td>60127--21060</td>\n",
       "      <td>28322</td>\n",
       "    </tr>\n",
       "    <tr>\n",
       "      <td>0</td>\n",
       "      <td>60052--21060</td>\n",
       "      <td>27549</td>\n",
       "    </tr>\n",
       "    <tr>\n",
       "      <td>1</td>\n",
       "      <td>60058--21050</td>\n",
       "      <td>20735</td>\n",
       "    </tr>\n",
       "  </tbody>\n",
       "</table>\n",
       "</div>"
      ],
      "text/plain": [
       "    PRODUCT_CDE  count\n",
       "4  60172--21060  56564\n",
       "2  60126--21050  29751\n",
       "3  60127--21060  28322\n",
       "0  60052--21060  27549\n",
       "1  60058--21050  20735"
      ]
     },
     "execution_count": 161,
     "metadata": {},
     "output_type": "execute_result"
    }
   ],
   "source": [
    "df_b_test.groupby('PRODUCT_CDE')['PRODUCT_CDE'].count().reset_index(name='count').sort_values(['count'],ascending=False)"
   ]
  },
  {
   "cell_type": "code",
   "execution_count": 162,
   "metadata": {},
   "outputs": [],
   "source": [
    "df_b_test = df_b_test[(df_b_test['TOI']>=1000) & (df_b_test['TOI']<=20000000)]\n",
    "df_b_test = df_b_test.reset_index(drop=True)"
   ]
  },
  {
   "cell_type": "code",
   "execution_count": 163,
   "metadata": {},
   "outputs": [],
   "source": [
    "df_b_test['AMT_CUR_LOG'] = pd.to_numeric(np.log(df_b_test['AMT_CUR']), errors='coerce')"
   ]
  },
  {
   "cell_type": "code",
   "execution_count": 164,
   "metadata": {},
   "outputs": [],
   "source": [
    "PRODUCT_CDE_df_test = pd.get_dummies(df_b_test['PRODUCT_CDE'], prefix = 'PRODUCT_CDE')"
   ]
  },
  {
   "cell_type": "code",
   "execution_count": 166,
   "metadata": {},
   "outputs": [
    {
     "data": {
      "text/html": [
       "<div>\n",
       "<style scoped>\n",
       "    .dataframe tbody tr th:only-of-type {\n",
       "        vertical-align: middle;\n",
       "    }\n",
       "\n",
       "    .dataframe tbody tr th {\n",
       "        vertical-align: top;\n",
       "    }\n",
       "\n",
       "    .dataframe thead th {\n",
       "        text-align: right;\n",
       "    }\n",
       "</style>\n",
       "<table border=\"1\" class=\"dataframe\">\n",
       "  <thead>\n",
       "    <tr style=\"text-align: right;\">\n",
       "      <th></th>\n",
       "      <th>PRODUCT_CDE_60052--21060</th>\n",
       "      <th>PRODUCT_CDE_60058--21050</th>\n",
       "      <th>PRODUCT_CDE_60126--21050</th>\n",
       "      <th>PRODUCT_CDE_60127--21060</th>\n",
       "      <th>PRODUCT_CDE_60172--21060</th>\n",
       "    </tr>\n",
       "  </thead>\n",
       "  <tbody>\n",
       "    <tr>\n",
       "      <td>0</td>\n",
       "      <td>0</td>\n",
       "      <td>0</td>\n",
       "      <td>0</td>\n",
       "      <td>0</td>\n",
       "      <td>1</td>\n",
       "    </tr>\n",
       "    <tr>\n",
       "      <td>1</td>\n",
       "      <td>0</td>\n",
       "      <td>0</td>\n",
       "      <td>0</td>\n",
       "      <td>0</td>\n",
       "      <td>1</td>\n",
       "    </tr>\n",
       "    <tr>\n",
       "      <td>2</td>\n",
       "      <td>0</td>\n",
       "      <td>0</td>\n",
       "      <td>0</td>\n",
       "      <td>0</td>\n",
       "      <td>1</td>\n",
       "    </tr>\n",
       "    <tr>\n",
       "      <td>3</td>\n",
       "      <td>0</td>\n",
       "      <td>0</td>\n",
       "      <td>0</td>\n",
       "      <td>0</td>\n",
       "      <td>1</td>\n",
       "    </tr>\n",
       "    <tr>\n",
       "      <td>4</td>\n",
       "      <td>0</td>\n",
       "      <td>0</td>\n",
       "      <td>0</td>\n",
       "      <td>0</td>\n",
       "      <td>1</td>\n",
       "    </tr>\n",
       "  </tbody>\n",
       "</table>\n",
       "</div>"
      ],
      "text/plain": [
       "   PRODUCT_CDE_60052--21060  PRODUCT_CDE_60058--21050  \\\n",
       "0                         0                         0   \n",
       "1                         0                         0   \n",
       "2                         0                         0   \n",
       "3                         0                         0   \n",
       "4                         0                         0   \n",
       "\n",
       "   PRODUCT_CDE_60126--21050  PRODUCT_CDE_60127--21060  \\\n",
       "0                         0                         0   \n",
       "1                         0                         0   \n",
       "2                         0                         0   \n",
       "3                         0                         0   \n",
       "4                         0                         0   \n",
       "\n",
       "   PRODUCT_CDE_60172--21060  \n",
       "0                         1  \n",
       "1                         1  \n",
       "2                         1  \n",
       "3                         1  \n",
       "4                         1  "
      ]
     },
     "execution_count": 166,
     "metadata": {},
     "output_type": "execute_result"
    }
   ],
   "source": [
    "PRODUCT_CDE_df_test.head()"
   ]
  },
  {
   "cell_type": "code",
   "execution_count": 171,
   "metadata": {},
   "outputs": [],
   "source": [
    "# PRODUCT_CDE_df_test.drop('PRODUCT_CDE_60036--21060', axis=1, inplace=True) "
   ]
  },
  {
   "cell_type": "code",
   "execution_count": 172,
   "metadata": {},
   "outputs": [],
   "source": [
    "idx = 0\n",
    "PRODUCT_CDE_df_test.insert(loc=idx,column='PRODUCT_CDE_60036--21060',value=0)"
   ]
  },
  {
   "cell_type": "code",
   "execution_count": 176,
   "metadata": {},
   "outputs": [],
   "source": [
    "PRODUCT_CDE_df_test['PRODUCT_CDE_60052--21060'] = PRODUCT_CDE_df_test['PRODUCT_CDE_60052--21060'].astype('int64')\n",
    "PRODUCT_CDE_df_test['PRODUCT_CDE_60058--21050'] = PRODUCT_CDE_df_test['PRODUCT_CDE_60058--21050'].astype('int64')\n",
    "PRODUCT_CDE_df_test['PRODUCT_CDE_60126--21050'] = PRODUCT_CDE_df_test['PRODUCT_CDE_60126--21050'].astype('int64')\n",
    "PRODUCT_CDE_df_test['PRODUCT_CDE_60127--21060'] = PRODUCT_CDE_df_test['PRODUCT_CDE_60127--21060'].astype('int64')\n",
    "PRODUCT_CDE_df_test['PRODUCT_CDE_60172--21060'] = PRODUCT_CDE_df_test['PRODUCT_CDE_60172--21060'].astype('int64')\n",
    "PRODUCT_CDE_df_test['PRODUCT_CDE_60036--21060'] = PRODUCT_CDE_df_test['PRODUCT_CDE_60036--21060'].astype('int64')"
   ]
  },
  {
   "cell_type": "code",
   "execution_count": 177,
   "metadata": {},
   "outputs": [
    {
     "name": "stdout",
     "output_type": "stream",
     "text": [
      "<class 'pandas.core.frame.DataFrame'>\n",
      "RangeIndex: 162914 entries, 0 to 162913\n",
      "Data columns (total 6 columns):\n",
      "PRODUCT_CDE_60036--21060    162914 non-null int64\n",
      "PRODUCT_CDE_60052--21060    162914 non-null int64\n",
      "PRODUCT_CDE_60058--21050    162914 non-null int64\n",
      "PRODUCT_CDE_60126--21050    162914 non-null int64\n",
      "PRODUCT_CDE_60127--21060    162914 non-null int64\n",
      "PRODUCT_CDE_60172--21060    162914 non-null int64\n",
      "dtypes: int64(6)\n",
      "memory usage: 7.5 MB\n"
     ]
    }
   ],
   "source": [
    "PRODUCT_CDE_df_test.info()"
   ]
  },
  {
   "cell_type": "code",
   "execution_count": 179,
   "metadata": {},
   "outputs": [
    {
     "data": {
      "text/html": [
       "<div>\n",
       "<style scoped>\n",
       "    .dataframe tbody tr th:only-of-type {\n",
       "        vertical-align: middle;\n",
       "    }\n",
       "\n",
       "    .dataframe tbody tr th {\n",
       "        vertical-align: top;\n",
       "    }\n",
       "\n",
       "    .dataframe thead th {\n",
       "        text-align: right;\n",
       "    }\n",
       "</style>\n",
       "<table border=\"1\" class=\"dataframe\">\n",
       "  <thead>\n",
       "    <tr style=\"text-align: right;\">\n",
       "      <th></th>\n",
       "      <th>PRODUCT_CDE_60036--21060</th>\n",
       "      <th>PRODUCT_CDE_60052--21060</th>\n",
       "      <th>PRODUCT_CDE_60058--21050</th>\n",
       "      <th>PRODUCT_CDE_60126--21050</th>\n",
       "      <th>PRODUCT_CDE_60127--21060</th>\n",
       "      <th>PRODUCT_CDE_60172--21060</th>\n",
       "    </tr>\n",
       "  </thead>\n",
       "  <tbody>\n",
       "    <tr>\n",
       "      <td>0</td>\n",
       "      <td>0</td>\n",
       "      <td>0</td>\n",
       "      <td>0</td>\n",
       "      <td>0</td>\n",
       "      <td>0</td>\n",
       "      <td>1</td>\n",
       "    </tr>\n",
       "    <tr>\n",
       "      <td>1</td>\n",
       "      <td>0</td>\n",
       "      <td>0</td>\n",
       "      <td>0</td>\n",
       "      <td>0</td>\n",
       "      <td>0</td>\n",
       "      <td>1</td>\n",
       "    </tr>\n",
       "    <tr>\n",
       "      <td>2</td>\n",
       "      <td>0</td>\n",
       "      <td>0</td>\n",
       "      <td>0</td>\n",
       "      <td>0</td>\n",
       "      <td>0</td>\n",
       "      <td>1</td>\n",
       "    </tr>\n",
       "    <tr>\n",
       "      <td>3</td>\n",
       "      <td>0</td>\n",
       "      <td>0</td>\n",
       "      <td>0</td>\n",
       "      <td>0</td>\n",
       "      <td>0</td>\n",
       "      <td>1</td>\n",
       "    </tr>\n",
       "    <tr>\n",
       "      <td>4</td>\n",
       "      <td>0</td>\n",
       "      <td>0</td>\n",
       "      <td>0</td>\n",
       "      <td>0</td>\n",
       "      <td>0</td>\n",
       "      <td>1</td>\n",
       "    </tr>\n",
       "  </tbody>\n",
       "</table>\n",
       "</div>"
      ],
      "text/plain": [
       "   PRODUCT_CDE_60036--21060  PRODUCT_CDE_60052--21060  \\\n",
       "0                         0                         0   \n",
       "1                         0                         0   \n",
       "2                         0                         0   \n",
       "3                         0                         0   \n",
       "4                         0                         0   \n",
       "\n",
       "   PRODUCT_CDE_60058--21050  PRODUCT_CDE_60126--21050  \\\n",
       "0                         0                         0   \n",
       "1                         0                         0   \n",
       "2                         0                         0   \n",
       "3                         0                         0   \n",
       "4                         0                         0   \n",
       "\n",
       "   PRODUCT_CDE_60127--21060  PRODUCT_CDE_60172--21060  \n",
       "0                         0                         1  \n",
       "1                         0                         1  \n",
       "2                         0                         1  \n",
       "3                         0                         1  \n",
       "4                         0                         1  "
      ]
     },
     "execution_count": 179,
     "metadata": {},
     "output_type": "execute_result"
    }
   ],
   "source": [
    "PRODUCT_CDE_df_test.head()"
   ]
  },
  {
   "cell_type": "code",
   "execution_count": 181,
   "metadata": {},
   "outputs": [
    {
     "data": {
      "text/html": [
       "<div>\n",
       "<style scoped>\n",
       "    .dataframe tbody tr th:only-of-type {\n",
       "        vertical-align: middle;\n",
       "    }\n",
       "\n",
       "    .dataframe tbody tr th {\n",
       "        vertical-align: top;\n",
       "    }\n",
       "\n",
       "    .dataframe thead th {\n",
       "        text-align: right;\n",
       "    }\n",
       "</style>\n",
       "<table border=\"1\" class=\"dataframe\">\n",
       "  <thead>\n",
       "    <tr style=\"text-align: right;\">\n",
       "      <th></th>\n",
       "      <th>PRODUCT_CDE_60052--21060</th>\n",
       "      <th>count</th>\n",
       "    </tr>\n",
       "  </thead>\n",
       "  <tbody>\n",
       "    <tr>\n",
       "      <td>0</td>\n",
       "      <td>0</td>\n",
       "      <td>135368</td>\n",
       "    </tr>\n",
       "    <tr>\n",
       "      <td>1</td>\n",
       "      <td>1</td>\n",
       "      <td>27546</td>\n",
       "    </tr>\n",
       "  </tbody>\n",
       "</table>\n",
       "</div>"
      ],
      "text/plain": [
       "   PRODUCT_CDE_60052--21060   count\n",
       "0                         0  135368\n",
       "1                         1   27546"
      ]
     },
     "execution_count": 181,
     "metadata": {},
     "output_type": "execute_result"
    }
   ],
   "source": [
    "PRODUCT_CDE_df_test.groupby('PRODUCT_CDE_60052--21060')['PRODUCT_CDE_60052--21060'].count().reset_index(name='count').sort_values(['count'],ascending=False)"
   ]
  },
  {
   "cell_type": "code",
   "execution_count": 183,
   "metadata": {},
   "outputs": [
    {
     "data": {
      "text/plain": [
       "Index(['CUSTOMER_CDE', 'LD_ID', 'AMT_INIT', 'AMT_CUR', 'INTEREST_RATE',\n",
       "       'RATE_FTP', 'KYHAN', 'LOAITRAGOP', 'MUCDICHVAY', 'LMV', 'LBV',\n",
       "       'ACCT_USE_DAYS', 'TOI', 'PROCESS_MONTH', 'PROCESS_YEAR', 'AMT_CUR_LOG'],\n",
       "      dtype='object')"
      ]
     },
     "execution_count": 183,
     "metadata": {},
     "output_type": "execute_result"
    }
   ],
   "source": [
    "df_b_test.columns"
   ]
  },
  {
   "cell_type": "code",
   "execution_count": 182,
   "metadata": {
    "collapsed": true
   },
   "outputs": [
    {
     "ename": "KeyError",
     "evalue": "\"['PRODUCT_CDE'] not found in axis\"",
     "output_type": "error",
     "traceback": [
      "\u001b[1;31m---------------------------------------------------------------------------\u001b[0m",
      "\u001b[1;31mKeyError\u001b[0m                                  Traceback (most recent call last)",
      "\u001b[1;32m<ipython-input-182-59e8ce23d7ce>\u001b[0m in \u001b[0;36m<module>\u001b[1;34m\u001b[0m\n\u001b[1;32m----> 1\u001b[1;33m \u001b[0mdf_b_test\u001b[0m\u001b[1;33m.\u001b[0m\u001b[0mdrop\u001b[0m\u001b[1;33m(\u001b[0m\u001b[1;33m[\u001b[0m\u001b[1;34m'PRODUCT_CDE'\u001b[0m\u001b[1;33m]\u001b[0m\u001b[1;33m,\u001b[0m\u001b[0maxis\u001b[0m\u001b[1;33m=\u001b[0m\u001b[1;36m1\u001b[0m\u001b[1;33m,\u001b[0m \u001b[0minplace\u001b[0m \u001b[1;33m=\u001b[0m \u001b[1;32mTrue\u001b[0m\u001b[1;33m)\u001b[0m\u001b[1;33m\u001b[0m\u001b[1;33m\u001b[0m\u001b[0m\n\u001b[0m",
      "\u001b[1;32mD:\\Soft\\Setup_UAT_DA\\Winpython64-3.7.4.1\\WPy64-3741\\python-3.7.4.amd64\\lib\\site-packages\\pandas\\core\\frame.py\u001b[0m in \u001b[0;36mdrop\u001b[1;34m(self, labels, axis, index, columns, level, inplace, errors)\u001b[0m\n\u001b[0;32m   4100\u001b[0m             \u001b[0mlevel\u001b[0m\u001b[1;33m=\u001b[0m\u001b[0mlevel\u001b[0m\u001b[1;33m,\u001b[0m\u001b[1;33m\u001b[0m\u001b[1;33m\u001b[0m\u001b[0m\n\u001b[0;32m   4101\u001b[0m             \u001b[0minplace\u001b[0m\u001b[1;33m=\u001b[0m\u001b[0minplace\u001b[0m\u001b[1;33m,\u001b[0m\u001b[1;33m\u001b[0m\u001b[1;33m\u001b[0m\u001b[0m\n\u001b[1;32m-> 4102\u001b[1;33m             \u001b[0merrors\u001b[0m\u001b[1;33m=\u001b[0m\u001b[0merrors\u001b[0m\u001b[1;33m,\u001b[0m\u001b[1;33m\u001b[0m\u001b[1;33m\u001b[0m\u001b[0m\n\u001b[0m\u001b[0;32m   4103\u001b[0m         )\n\u001b[0;32m   4104\u001b[0m \u001b[1;33m\u001b[0m\u001b[0m\n",
      "\u001b[1;32mD:\\Soft\\Setup_UAT_DA\\Winpython64-3.7.4.1\\WPy64-3741\\python-3.7.4.amd64\\lib\\site-packages\\pandas\\core\\generic.py\u001b[0m in \u001b[0;36mdrop\u001b[1;34m(self, labels, axis, index, columns, level, inplace, errors)\u001b[0m\n\u001b[0;32m   3912\u001b[0m         \u001b[1;32mfor\u001b[0m \u001b[0maxis\u001b[0m\u001b[1;33m,\u001b[0m \u001b[0mlabels\u001b[0m \u001b[1;32min\u001b[0m \u001b[0maxes\u001b[0m\u001b[1;33m.\u001b[0m\u001b[0mitems\u001b[0m\u001b[1;33m(\u001b[0m\u001b[1;33m)\u001b[0m\u001b[1;33m:\u001b[0m\u001b[1;33m\u001b[0m\u001b[1;33m\u001b[0m\u001b[0m\n\u001b[0;32m   3913\u001b[0m             \u001b[1;32mif\u001b[0m \u001b[0mlabels\u001b[0m \u001b[1;32mis\u001b[0m \u001b[1;32mnot\u001b[0m \u001b[1;32mNone\u001b[0m\u001b[1;33m:\u001b[0m\u001b[1;33m\u001b[0m\u001b[1;33m\u001b[0m\u001b[0m\n\u001b[1;32m-> 3914\u001b[1;33m                 \u001b[0mobj\u001b[0m \u001b[1;33m=\u001b[0m \u001b[0mobj\u001b[0m\u001b[1;33m.\u001b[0m\u001b[0m_drop_axis\u001b[0m\u001b[1;33m(\u001b[0m\u001b[0mlabels\u001b[0m\u001b[1;33m,\u001b[0m \u001b[0maxis\u001b[0m\u001b[1;33m,\u001b[0m \u001b[0mlevel\u001b[0m\u001b[1;33m=\u001b[0m\u001b[0mlevel\u001b[0m\u001b[1;33m,\u001b[0m \u001b[0merrors\u001b[0m\u001b[1;33m=\u001b[0m\u001b[0merrors\u001b[0m\u001b[1;33m)\u001b[0m\u001b[1;33m\u001b[0m\u001b[1;33m\u001b[0m\u001b[0m\n\u001b[0m\u001b[0;32m   3915\u001b[0m \u001b[1;33m\u001b[0m\u001b[0m\n\u001b[0;32m   3916\u001b[0m         \u001b[1;32mif\u001b[0m \u001b[0minplace\u001b[0m\u001b[1;33m:\u001b[0m\u001b[1;33m\u001b[0m\u001b[1;33m\u001b[0m\u001b[0m\n",
      "\u001b[1;32mD:\\Soft\\Setup_UAT_DA\\Winpython64-3.7.4.1\\WPy64-3741\\python-3.7.4.amd64\\lib\\site-packages\\pandas\\core\\generic.py\u001b[0m in \u001b[0;36m_drop_axis\u001b[1;34m(self, labels, axis, level, errors)\u001b[0m\n\u001b[0;32m   3944\u001b[0m                 \u001b[0mnew_axis\u001b[0m \u001b[1;33m=\u001b[0m \u001b[0maxis\u001b[0m\u001b[1;33m.\u001b[0m\u001b[0mdrop\u001b[0m\u001b[1;33m(\u001b[0m\u001b[0mlabels\u001b[0m\u001b[1;33m,\u001b[0m \u001b[0mlevel\u001b[0m\u001b[1;33m=\u001b[0m\u001b[0mlevel\u001b[0m\u001b[1;33m,\u001b[0m \u001b[0merrors\u001b[0m\u001b[1;33m=\u001b[0m\u001b[0merrors\u001b[0m\u001b[1;33m)\u001b[0m\u001b[1;33m\u001b[0m\u001b[1;33m\u001b[0m\u001b[0m\n\u001b[0;32m   3945\u001b[0m             \u001b[1;32melse\u001b[0m\u001b[1;33m:\u001b[0m\u001b[1;33m\u001b[0m\u001b[1;33m\u001b[0m\u001b[0m\n\u001b[1;32m-> 3946\u001b[1;33m                 \u001b[0mnew_axis\u001b[0m \u001b[1;33m=\u001b[0m \u001b[0maxis\u001b[0m\u001b[1;33m.\u001b[0m\u001b[0mdrop\u001b[0m\u001b[1;33m(\u001b[0m\u001b[0mlabels\u001b[0m\u001b[1;33m,\u001b[0m \u001b[0merrors\u001b[0m\u001b[1;33m=\u001b[0m\u001b[0merrors\u001b[0m\u001b[1;33m)\u001b[0m\u001b[1;33m\u001b[0m\u001b[1;33m\u001b[0m\u001b[0m\n\u001b[0m\u001b[0;32m   3947\u001b[0m             \u001b[0mresult\u001b[0m \u001b[1;33m=\u001b[0m \u001b[0mself\u001b[0m\u001b[1;33m.\u001b[0m\u001b[0mreindex\u001b[0m\u001b[1;33m(\u001b[0m\u001b[1;33m**\u001b[0m\u001b[1;33m{\u001b[0m\u001b[0maxis_name\u001b[0m\u001b[1;33m:\u001b[0m \u001b[0mnew_axis\u001b[0m\u001b[1;33m}\u001b[0m\u001b[1;33m)\u001b[0m\u001b[1;33m\u001b[0m\u001b[1;33m\u001b[0m\u001b[0m\n\u001b[0;32m   3948\u001b[0m \u001b[1;33m\u001b[0m\u001b[0m\n",
      "\u001b[1;32mD:\\Soft\\Setup_UAT_DA\\Winpython64-3.7.4.1\\WPy64-3741\\python-3.7.4.amd64\\lib\\site-packages\\pandas\\core\\indexes\\base.py\u001b[0m in \u001b[0;36mdrop\u001b[1;34m(self, labels, errors)\u001b[0m\n\u001b[0;32m   5338\u001b[0m         \u001b[1;32mif\u001b[0m \u001b[0mmask\u001b[0m\u001b[1;33m.\u001b[0m\u001b[0many\u001b[0m\u001b[1;33m(\u001b[0m\u001b[1;33m)\u001b[0m\u001b[1;33m:\u001b[0m\u001b[1;33m\u001b[0m\u001b[1;33m\u001b[0m\u001b[0m\n\u001b[0;32m   5339\u001b[0m             \u001b[1;32mif\u001b[0m \u001b[0merrors\u001b[0m \u001b[1;33m!=\u001b[0m \u001b[1;34m\"ignore\"\u001b[0m\u001b[1;33m:\u001b[0m\u001b[1;33m\u001b[0m\u001b[1;33m\u001b[0m\u001b[0m\n\u001b[1;32m-> 5340\u001b[1;33m                 \u001b[1;32mraise\u001b[0m \u001b[0mKeyError\u001b[0m\u001b[1;33m(\u001b[0m\u001b[1;34m\"{} not found in axis\"\u001b[0m\u001b[1;33m.\u001b[0m\u001b[0mformat\u001b[0m\u001b[1;33m(\u001b[0m\u001b[0mlabels\u001b[0m\u001b[1;33m[\u001b[0m\u001b[0mmask\u001b[0m\u001b[1;33m]\u001b[0m\u001b[1;33m)\u001b[0m\u001b[1;33m)\u001b[0m\u001b[1;33m\u001b[0m\u001b[1;33m\u001b[0m\u001b[0m\n\u001b[0m\u001b[0;32m   5341\u001b[0m             \u001b[0mindexer\u001b[0m \u001b[1;33m=\u001b[0m \u001b[0mindexer\u001b[0m\u001b[1;33m[\u001b[0m\u001b[1;33m~\u001b[0m\u001b[0mmask\u001b[0m\u001b[1;33m]\u001b[0m\u001b[1;33m\u001b[0m\u001b[1;33m\u001b[0m\u001b[0m\n\u001b[0;32m   5342\u001b[0m         \u001b[1;32mreturn\u001b[0m \u001b[0mself\u001b[0m\u001b[1;33m.\u001b[0m\u001b[0mdelete\u001b[0m\u001b[1;33m(\u001b[0m\u001b[0mindexer\u001b[0m\u001b[1;33m)\u001b[0m\u001b[1;33m\u001b[0m\u001b[1;33m\u001b[0m\u001b[0m\n",
      "\u001b[1;31mKeyError\u001b[0m: \"['PRODUCT_CDE'] not found in axis\""
     ]
    }
   ],
   "source": [
    "df_b_test.drop(['PRODUCT_CDE'],axis=1, inplace = True)"
   ]
  },
  {
   "cell_type": "code",
   "execution_count": 184,
   "metadata": {},
   "outputs": [],
   "source": [
    "col_test = ['AMT_CUR_LOG', 'ACCT_USE_DAYS', 'RATE_FTP', 'INTEREST_RATE','KYHAN']"
   ]
  },
  {
   "cell_type": "code",
   "execution_count": 185,
   "metadata": {},
   "outputs": [],
   "source": [
    "df_b_test_02 = pd.concat([PRODUCT_CDE_df_test,df_b_test[col_test]], axis = 1)"
   ]
  },
  {
   "cell_type": "code",
   "execution_count": 119,
   "metadata": {},
   "outputs": [],
   "source": [
    "# df_b_test_02['PRODUCT_CDE_60036--21060'] = 0"
   ]
  },
  {
   "cell_type": "code",
   "execution_count": 186,
   "metadata": {},
   "outputs": [
    {
     "name": "stdout",
     "output_type": "stream",
     "text": [
      "<class 'pandas.core.frame.DataFrame'>\n",
      "RangeIndex: 162914 entries, 0 to 162913\n",
      "Data columns (total 11 columns):\n",
      "PRODUCT_CDE_60036--21060    162914 non-null int64\n",
      "PRODUCT_CDE_60052--21060    162914 non-null int64\n",
      "PRODUCT_CDE_60058--21050    162914 non-null int64\n",
      "PRODUCT_CDE_60126--21050    162914 non-null int64\n",
      "PRODUCT_CDE_60127--21060    162914 non-null int64\n",
      "PRODUCT_CDE_60172--21060    162914 non-null int64\n",
      "AMT_CUR_LOG                 162914 non-null float64\n",
      "ACCT_USE_DAYS               162914 non-null int64\n",
      "RATE_FTP                    162914 non-null float64\n",
      "INTEREST_RATE               162914 non-null float64\n",
      "KYHAN                       162914 non-null int64\n",
      "dtypes: float64(3), int64(8)\n",
      "memory usage: 13.7 MB\n"
     ]
    }
   ],
   "source": [
    "df_b_test_02.info()"
   ]
  },
  {
   "cell_type": "code",
   "execution_count": 187,
   "metadata": {},
   "outputs": [
    {
     "data": {
      "text/html": [
       "<div>\n",
       "<style scoped>\n",
       "    .dataframe tbody tr th:only-of-type {\n",
       "        vertical-align: middle;\n",
       "    }\n",
       "\n",
       "    .dataframe tbody tr th {\n",
       "        vertical-align: top;\n",
       "    }\n",
       "\n",
       "    .dataframe thead th {\n",
       "        text-align: right;\n",
       "    }\n",
       "</style>\n",
       "<table border=\"1\" class=\"dataframe\">\n",
       "  <thead>\n",
       "    <tr style=\"text-align: right;\">\n",
       "      <th></th>\n",
       "      <th>PRODUCT_CDE_60036--21060</th>\n",
       "      <th>PRODUCT_CDE_60052--21060</th>\n",
       "      <th>PRODUCT_CDE_60058--21050</th>\n",
       "      <th>PRODUCT_CDE_60126--21050</th>\n",
       "      <th>PRODUCT_CDE_60127--21060</th>\n",
       "      <th>PRODUCT_CDE_60172--21060</th>\n",
       "      <th>AMT_CUR_LOG</th>\n",
       "      <th>ACCT_USE_DAYS</th>\n",
       "      <th>RATE_FTP</th>\n",
       "      <th>INTEREST_RATE</th>\n",
       "      <th>KYHAN</th>\n",
       "    </tr>\n",
       "  </thead>\n",
       "  <tbody>\n",
       "    <tr>\n",
       "      <td>0</td>\n",
       "      <td>0</td>\n",
       "      <td>0</td>\n",
       "      <td>0</td>\n",
       "      <td>0</td>\n",
       "      <td>0</td>\n",
       "      <td>1</td>\n",
       "      <td>17.253361</td>\n",
       "      <td>31</td>\n",
       "      <td>9.35</td>\n",
       "      <td>20.4</td>\n",
       "      <td>36</td>\n",
       "    </tr>\n",
       "    <tr>\n",
       "      <td>1</td>\n",
       "      <td>0</td>\n",
       "      <td>0</td>\n",
       "      <td>0</td>\n",
       "      <td>0</td>\n",
       "      <td>0</td>\n",
       "      <td>1</td>\n",
       "      <td>16.965851</td>\n",
       "      <td>31</td>\n",
       "      <td>9.35</td>\n",
       "      <td>20.4</td>\n",
       "      <td>36</td>\n",
       "    </tr>\n",
       "    <tr>\n",
       "      <td>2</td>\n",
       "      <td>0</td>\n",
       "      <td>0</td>\n",
       "      <td>0</td>\n",
       "      <td>0</td>\n",
       "      <td>0</td>\n",
       "      <td>1</td>\n",
       "      <td>17.119903</td>\n",
       "      <td>31</td>\n",
       "      <td>9.35</td>\n",
       "      <td>20.4</td>\n",
       "      <td>36</td>\n",
       "    </tr>\n",
       "    <tr>\n",
       "      <td>3</td>\n",
       "      <td>0</td>\n",
       "      <td>0</td>\n",
       "      <td>0</td>\n",
       "      <td>0</td>\n",
       "      <td>0</td>\n",
       "      <td>1</td>\n",
       "      <td>17.909888</td>\n",
       "      <td>31</td>\n",
       "      <td>9.28</td>\n",
       "      <td>18.6</td>\n",
       "      <td>35</td>\n",
       "    </tr>\n",
       "    <tr>\n",
       "      <td>4</td>\n",
       "      <td>0</td>\n",
       "      <td>0</td>\n",
       "      <td>0</td>\n",
       "      <td>0</td>\n",
       "      <td>0</td>\n",
       "      <td>1</td>\n",
       "      <td>17.946251</td>\n",
       "      <td>29</td>\n",
       "      <td>9.28</td>\n",
       "      <td>18.6</td>\n",
       "      <td>35</td>\n",
       "    </tr>\n",
       "  </tbody>\n",
       "</table>\n",
       "</div>"
      ],
      "text/plain": [
       "   PRODUCT_CDE_60036--21060  PRODUCT_CDE_60052--21060  \\\n",
       "0                         0                         0   \n",
       "1                         0                         0   \n",
       "2                         0                         0   \n",
       "3                         0                         0   \n",
       "4                         0                         0   \n",
       "\n",
       "   PRODUCT_CDE_60058--21050  PRODUCT_CDE_60126--21050  \\\n",
       "0                         0                         0   \n",
       "1                         0                         0   \n",
       "2                         0                         0   \n",
       "3                         0                         0   \n",
       "4                         0                         0   \n",
       "\n",
       "   PRODUCT_CDE_60127--21060  PRODUCT_CDE_60172--21060  AMT_CUR_LOG  \\\n",
       "0                         0                         1    17.253361   \n",
       "1                         0                         1    16.965851   \n",
       "2                         0                         1    17.119903   \n",
       "3                         0                         1    17.909888   \n",
       "4                         0                         1    17.946251   \n",
       "\n",
       "   ACCT_USE_DAYS  RATE_FTP  INTEREST_RATE  KYHAN  \n",
       "0             31      9.35           20.4     36  \n",
       "1             31      9.35           20.4     36  \n",
       "2             31      9.35           20.4     36  \n",
       "3             31      9.28           18.6     35  \n",
       "4             29      9.28           18.6     35  "
      ]
     },
     "execution_count": 187,
     "metadata": {},
     "output_type": "execute_result"
    }
   ],
   "source": [
    "df_b_test_02.head()"
   ]
  },
  {
   "cell_type": "code",
   "execution_count": 188,
   "metadata": {},
   "outputs": [],
   "source": [
    "s_rb2=robust.transform(df_b_test_02)"
   ]
  },
  {
   "cell_type": "code",
   "execution_count": 189,
   "metadata": {},
   "outputs": [],
   "source": [
    "df_mm_test = pd.DataFrame(s_rb2, columns=df_b_test_02.columns)"
   ]
  },
  {
   "cell_type": "code",
   "execution_count": 190,
   "metadata": {},
   "outputs": [
    {
     "data": {
      "text/html": [
       "<div>\n",
       "<style scoped>\n",
       "    .dataframe tbody tr th:only-of-type {\n",
       "        vertical-align: middle;\n",
       "    }\n",
       "\n",
       "    .dataframe tbody tr th {\n",
       "        vertical-align: top;\n",
       "    }\n",
       "\n",
       "    .dataframe thead th {\n",
       "        text-align: right;\n",
       "    }\n",
       "</style>\n",
       "<table border=\"1\" class=\"dataframe\">\n",
       "  <thead>\n",
       "    <tr style=\"text-align: right;\">\n",
       "      <th></th>\n",
       "      <th>PRODUCT_CDE_60036--21060</th>\n",
       "      <th>PRODUCT_CDE_60052--21060</th>\n",
       "      <th>PRODUCT_CDE_60058--21050</th>\n",
       "      <th>PRODUCT_CDE_60126--21050</th>\n",
       "      <th>PRODUCT_CDE_60127--21060</th>\n",
       "      <th>PRODUCT_CDE_60172--21060</th>\n",
       "      <th>AMT_CUR_LOG</th>\n",
       "      <th>ACCT_USE_DAYS</th>\n",
       "      <th>RATE_FTP</th>\n",
       "      <th>INTEREST_RATE</th>\n",
       "      <th>KYHAN</th>\n",
       "    </tr>\n",
       "  </thead>\n",
       "  <tbody>\n",
       "    <tr>\n",
       "      <td>0</td>\n",
       "      <td>0.0</td>\n",
       "      <td>0.0</td>\n",
       "      <td>0.0</td>\n",
       "      <td>0.0</td>\n",
       "      <td>0.0</td>\n",
       "      <td>1.0</td>\n",
       "      <td>-1.138007</td>\n",
       "      <td>0.0</td>\n",
       "      <td>0.508108</td>\n",
       "      <td>6.807692</td>\n",
       "      <td>-0.333333</td>\n",
       "    </tr>\n",
       "    <tr>\n",
       "      <td>1</td>\n",
       "      <td>0.0</td>\n",
       "      <td>0.0</td>\n",
       "      <td>0.0</td>\n",
       "      <td>0.0</td>\n",
       "      <td>0.0</td>\n",
       "      <td>1.0</td>\n",
       "      <td>-1.329720</td>\n",
       "      <td>0.0</td>\n",
       "      <td>0.508108</td>\n",
       "      <td>6.807692</td>\n",
       "      <td>-0.333333</td>\n",
       "    </tr>\n",
       "    <tr>\n",
       "      <td>2</td>\n",
       "      <td>0.0</td>\n",
       "      <td>0.0</td>\n",
       "      <td>0.0</td>\n",
       "      <td>0.0</td>\n",
       "      <td>0.0</td>\n",
       "      <td>1.0</td>\n",
       "      <td>-1.226997</td>\n",
       "      <td>0.0</td>\n",
       "      <td>0.508108</td>\n",
       "      <td>6.807692</td>\n",
       "      <td>-0.333333</td>\n",
       "    </tr>\n",
       "    <tr>\n",
       "      <td>3</td>\n",
       "      <td>0.0</td>\n",
       "      <td>0.0</td>\n",
       "      <td>0.0</td>\n",
       "      <td>0.0</td>\n",
       "      <td>0.0</td>\n",
       "      <td>1.0</td>\n",
       "      <td>-0.700231</td>\n",
       "      <td>0.0</td>\n",
       "      <td>0.470270</td>\n",
       "      <td>5.423077</td>\n",
       "      <td>-0.361111</td>\n",
       "    </tr>\n",
       "    <tr>\n",
       "      <td>4</td>\n",
       "      <td>0.0</td>\n",
       "      <td>0.0</td>\n",
       "      <td>0.0</td>\n",
       "      <td>0.0</td>\n",
       "      <td>0.0</td>\n",
       "      <td>1.0</td>\n",
       "      <td>-0.675984</td>\n",
       "      <td>-2.0</td>\n",
       "      <td>0.470270</td>\n",
       "      <td>5.423077</td>\n",
       "      <td>-0.361111</td>\n",
       "    </tr>\n",
       "  </tbody>\n",
       "</table>\n",
       "</div>"
      ],
      "text/plain": [
       "   PRODUCT_CDE_60036--21060  PRODUCT_CDE_60052--21060  \\\n",
       "0                       0.0                       0.0   \n",
       "1                       0.0                       0.0   \n",
       "2                       0.0                       0.0   \n",
       "3                       0.0                       0.0   \n",
       "4                       0.0                       0.0   \n",
       "\n",
       "   PRODUCT_CDE_60058--21050  PRODUCT_CDE_60126--21050  \\\n",
       "0                       0.0                       0.0   \n",
       "1                       0.0                       0.0   \n",
       "2                       0.0                       0.0   \n",
       "3                       0.0                       0.0   \n",
       "4                       0.0                       0.0   \n",
       "\n",
       "   PRODUCT_CDE_60127--21060  PRODUCT_CDE_60172--21060  AMT_CUR_LOG  \\\n",
       "0                       0.0                       1.0    -1.138007   \n",
       "1                       0.0                       1.0    -1.329720   \n",
       "2                       0.0                       1.0    -1.226997   \n",
       "3                       0.0                       1.0    -0.700231   \n",
       "4                       0.0                       1.0    -0.675984   \n",
       "\n",
       "   ACCT_USE_DAYS  RATE_FTP  INTEREST_RATE     KYHAN  \n",
       "0            0.0  0.508108       6.807692 -0.333333  \n",
       "1            0.0  0.508108       6.807692 -0.333333  \n",
       "2            0.0  0.508108       6.807692 -0.333333  \n",
       "3            0.0  0.470270       5.423077 -0.361111  \n",
       "4           -2.0  0.470270       5.423077 -0.361111  "
      ]
     },
     "execution_count": 190,
     "metadata": {},
     "output_type": "execute_result"
    }
   ],
   "source": [
    "df_mm_test.head()"
   ]
  },
  {
   "cell_type": "code",
   "execution_count": 191,
   "metadata": {},
   "outputs": [
    {
     "name": "stdout",
     "output_type": "stream",
     "text": [
      "<class 'pandas.core.frame.DataFrame'>\n",
      "RangeIndex: 162914 entries, 0 to 162913\n",
      "Data columns (total 11 columns):\n",
      "PRODUCT_CDE_60036--21060    162914 non-null float64\n",
      "PRODUCT_CDE_60052--21060    162914 non-null float64\n",
      "PRODUCT_CDE_60058--21050    162914 non-null float64\n",
      "PRODUCT_CDE_60126--21050    162914 non-null float64\n",
      "PRODUCT_CDE_60127--21060    162914 non-null float64\n",
      "PRODUCT_CDE_60172--21060    162914 non-null float64\n",
      "AMT_CUR_LOG                 162914 non-null float64\n",
      "ACCT_USE_DAYS               162914 non-null float64\n",
      "RATE_FTP                    162914 non-null float64\n",
      "INTEREST_RATE               162914 non-null float64\n",
      "KYHAN                       162914 non-null float64\n",
      "dtypes: float64(11)\n",
      "memory usage: 13.7 MB\n"
     ]
    }
   ],
   "source": [
    "df_mm_test.info()"
   ]
  },
  {
   "cell_type": "code",
   "execution_count": 192,
   "metadata": {},
   "outputs": [],
   "source": [
    "y_pred_rf2 = rfr.predict(df_mm_test)"
   ]
  },
  {
   "cell_type": "code",
   "execution_count": 193,
   "metadata": {},
   "outputs": [],
   "source": [
    "y_pred_rf2 = np.exp(y_pred_rf2)"
   ]
  },
  {
   "cell_type": "code",
   "execution_count": 195,
   "metadata": {},
   "outputs": [],
   "source": [
    "y_test2 = df_b_test['TOI']"
   ]
  },
  {
   "cell_type": "code",
   "execution_count": 205,
   "metadata": {},
   "outputs": [
    {
     "name": "stdout",
     "output_type": "stream",
     "text": [
      "Tong sai lech            = 49976.2625\n",
      "Do phu hop cua mo hinh   = 99.0813 %\n"
     ]
    }
   ],
   "source": [
    "print(f'Tong sai lech            = {mean_squared_error(y_test2, y_pred_rf2)**0.5:.4f}')\n",
    "print(f'Do phu hop cua mo hinh   = {r2_score(y_test2, y_pred_rf2)*100:.4f} %')"
   ]
  },
  {
   "cell_type": "code",
   "execution_count": 202,
   "metadata": {},
   "outputs": [],
   "source": [
    "y_test2 = y_test2.reset_index(drop=True)\n",
    "y_test2_ser = pd.Series(y_test2)\n",
    "y_pred_rf2_ser = pd.Series(y_pred_rf2)\n",
    "data_result3  = pd.concat([y_pred_rf2_ser, y_test2_ser], axis=1, keys=['TOI_LOAN_PREDICT', 'TOI_LOAN_ACTUAL'])"
   ]
  },
  {
   "cell_type": "code",
   "execution_count": 203,
   "metadata": {},
   "outputs": [],
   "source": [
    "data_result3['TOI_STD']=abs(data_result3['TOI_LOAN_ACTUAL']-data_result3['TOI_LOAN_PREDICT'])"
   ]
  },
  {
   "cell_type": "code",
   "execution_count": 204,
   "metadata": {},
   "outputs": [
    {
     "data": {
      "text/html": [
       "<div>\n",
       "<style scoped>\n",
       "    .dataframe tbody tr th:only-of-type {\n",
       "        vertical-align: middle;\n",
       "    }\n",
       "\n",
       "    .dataframe tbody tr th {\n",
       "        vertical-align: top;\n",
       "    }\n",
       "\n",
       "    .dataframe thead th {\n",
       "        text-align: right;\n",
       "    }\n",
       "</style>\n",
       "<table border=\"1\" class=\"dataframe\">\n",
       "  <thead>\n",
       "    <tr style=\"text-align: right;\">\n",
       "      <th></th>\n",
       "      <th>TOI_LOAN_PREDICT</th>\n",
       "      <th>TOI_LOAN_ACTUAL</th>\n",
       "      <th>TOI_STD</th>\n",
       "    </tr>\n",
       "  </thead>\n",
       "  <tbody>\n",
       "    <tr>\n",
       "      <td>44224</td>\n",
       "      <td>12753018.0</td>\n",
       "      <td>1.412329e+07</td>\n",
       "      <td>1.370270e+06</td>\n",
       "    </tr>\n",
       "    <tr>\n",
       "      <td>92473</td>\n",
       "      <td>11120410.0</td>\n",
       "      <td>1.189093e+07</td>\n",
       "      <td>7.705207e+05</td>\n",
       "    </tr>\n",
       "    <tr>\n",
       "      <td>92113</td>\n",
       "      <td>11104429.0</td>\n",
       "      <td>1.161282e+07</td>\n",
       "      <td>5.083885e+05</td>\n",
       "    </tr>\n",
       "    <tr>\n",
       "      <td>92245</td>\n",
       "      <td>11104429.0</td>\n",
       "      <td>1.131031e+07</td>\n",
       "      <td>2.058795e+05</td>\n",
       "    </tr>\n",
       "    <tr>\n",
       "      <td>92472</td>\n",
       "      <td>10457743.0</td>\n",
       "      <td>1.110537e+07</td>\n",
       "      <td>6.476280e+05</td>\n",
       "    </tr>\n",
       "    <tr>\n",
       "      <td>92246</td>\n",
       "      <td>10194624.0</td>\n",
       "      <td>1.102241e+07</td>\n",
       "      <td>8.277889e+05</td>\n",
       "    </tr>\n",
       "    <tr>\n",
       "      <td>59264</td>\n",
       "      <td>11042250.0</td>\n",
       "      <td>1.094937e+07</td>\n",
       "      <td>9.288014e+04</td>\n",
       "    </tr>\n",
       "    <tr>\n",
       "      <td>59186</td>\n",
       "      <td>10486686.0</td>\n",
       "      <td>1.024296e+07</td>\n",
       "      <td>2.437271e+05</td>\n",
       "    </tr>\n",
       "    <tr>\n",
       "      <td>59263</td>\n",
       "      <td>4284778.0</td>\n",
       "      <td>1.009370e+07</td>\n",
       "      <td>5.808921e+06</td>\n",
       "    </tr>\n",
       "    <tr>\n",
       "      <td>59718</td>\n",
       "      <td>11042250.0</td>\n",
       "      <td>9.864438e+06</td>\n",
       "      <td>1.177812e+06</td>\n",
       "    </tr>\n",
       "    <tr>\n",
       "      <td>28822</td>\n",
       "      <td>8231345.0</td>\n",
       "      <td>9.061612e+06</td>\n",
       "      <td>8.302665e+05</td>\n",
       "    </tr>\n",
       "    <tr>\n",
       "      <td>60981</td>\n",
       "      <td>6142650.5</td>\n",
       "      <td>9.060493e+06</td>\n",
       "      <td>2.917843e+06</td>\n",
       "    </tr>\n",
       "    <tr>\n",
       "      <td>4136</td>\n",
       "      <td>8018283.5</td>\n",
       "      <td>8.975342e+06</td>\n",
       "      <td>9.570590e+05</td>\n",
       "    </tr>\n",
       "    <tr>\n",
       "      <td>3877</td>\n",
       "      <td>7706836.5</td>\n",
       "      <td>8.772717e+06</td>\n",
       "      <td>1.065880e+06</td>\n",
       "    </tr>\n",
       "    <tr>\n",
       "      <td>3532</td>\n",
       "      <td>7629248.0</td>\n",
       "      <td>8.616438e+06</td>\n",
       "      <td>9.871904e+05</td>\n",
       "    </tr>\n",
       "    <tr>\n",
       "      <td>26524</td>\n",
       "      <td>8988937.0</td>\n",
       "      <td>8.611638e+06</td>\n",
       "      <td>3.772990e+05</td>\n",
       "    </tr>\n",
       "    <tr>\n",
       "      <td>27111</td>\n",
       "      <td>8886721.0</td>\n",
       "      <td>8.470723e+06</td>\n",
       "      <td>4.159975e+05</td>\n",
       "    </tr>\n",
       "    <tr>\n",
       "      <td>27109</td>\n",
       "      <td>9053979.0</td>\n",
       "      <td>8.411111e+06</td>\n",
       "      <td>6.428681e+05</td>\n",
       "    </tr>\n",
       "    <tr>\n",
       "      <td>28782</td>\n",
       "      <td>7539235.5</td>\n",
       "      <td>8.342434e+06</td>\n",
       "      <td>8.031985e+05</td>\n",
       "    </tr>\n",
       "    <tr>\n",
       "      <td>4138</td>\n",
       "      <td>7267864.5</td>\n",
       "      <td>8.291438e+06</td>\n",
       "      <td>1.023574e+06</td>\n",
       "    </tr>\n",
       "  </tbody>\n",
       "</table>\n",
       "</div>"
      ],
      "text/plain": [
       "       TOI_LOAN_PREDICT  TOI_LOAN_ACTUAL       TOI_STD\n",
       "44224        12753018.0     1.412329e+07  1.370270e+06\n",
       "92473        11120410.0     1.189093e+07  7.705207e+05\n",
       "92113        11104429.0     1.161282e+07  5.083885e+05\n",
       "92245        11104429.0     1.131031e+07  2.058795e+05\n",
       "92472        10457743.0     1.110537e+07  6.476280e+05\n",
       "92246        10194624.0     1.102241e+07  8.277889e+05\n",
       "59264        11042250.0     1.094937e+07  9.288014e+04\n",
       "59186        10486686.0     1.024296e+07  2.437271e+05\n",
       "59263         4284778.0     1.009370e+07  5.808921e+06\n",
       "59718        11042250.0     9.864438e+06  1.177812e+06\n",
       "28822         8231345.0     9.061612e+06  8.302665e+05\n",
       "60981         6142650.5     9.060493e+06  2.917843e+06\n",
       "4136          8018283.5     8.975342e+06  9.570590e+05\n",
       "3877          7706836.5     8.772717e+06  1.065880e+06\n",
       "3532          7629248.0     8.616438e+06  9.871904e+05\n",
       "26524         8988937.0     8.611638e+06  3.772990e+05\n",
       "27111         8886721.0     8.470723e+06  4.159975e+05\n",
       "27109         9053979.0     8.411111e+06  6.428681e+05\n",
       "28782         7539235.5     8.342434e+06  8.031985e+05\n",
       "4138          7267864.5     8.291438e+06  1.023574e+06"
      ]
     },
     "execution_count": 204,
     "metadata": {},
     "output_type": "execute_result"
    }
   ],
   "source": [
    "data_result3.sort_values(by='TOI_LOAN_ACTUAL',ascending=False).head(20)"
   ]
  },
  {
   "cell_type": "code",
   "execution_count": null,
   "metadata": {},
   "outputs": [],
   "source": []
  }
 ],
 "metadata": {
  "kernelspec": {
   "display_name": "Python 3",
   "language": "python",
   "name": "python3"
  },
  "language_info": {
   "codemirror_mode": {
    "name": "ipython",
    "version": 3
   },
   "file_extension": ".py",
   "mimetype": "text/x-python",
   "name": "python",
   "nbconvert_exporter": "python",
   "pygments_lexer": "ipython3",
   "version": "3.7.3"
  }
 },
 "nbformat": 4,
 "nbformat_minor": 2
}
